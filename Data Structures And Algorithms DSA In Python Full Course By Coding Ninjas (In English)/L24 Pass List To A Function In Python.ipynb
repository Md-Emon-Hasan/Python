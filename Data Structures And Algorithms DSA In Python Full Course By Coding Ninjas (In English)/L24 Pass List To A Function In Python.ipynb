{
 "cells": [
  {
   "attachments": {},
   "cell_type": "markdown",
   "metadata": {},
   "source": [
    "mutable object and immutable object"
   ]
  },
  {
   "cell_type": "code",
   "execution_count": 2,
   "metadata": {},
   "outputs": [
    {
     "name": "stdout",
     "output_type": "stream",
     "text": [
      "2884452155920\n",
      "2884452156240\n",
      "2884452155920\n",
      "2884452156240\n"
     ]
    }
   ],
   "source": [
    "x = 10\n",
    "print(id(10))\n",
    "\n",
    "x = 20\n",
    "print(id(20))\n",
    "\n",
    "x = 10\n",
    "print(id(x))\n",
    "\n",
    "x = 20\n",
    "print(id(x))"
   ]
  },
  {
   "cell_type": "code",
   "execution_count": 3,
   "metadata": {},
   "outputs": [
    {
     "name": "stdout",
     "output_type": "stream",
     "text": [
      "hey\n",
      "hello\n"
     ]
    }
   ],
   "source": [
    "''' pass by vlaue '''\n",
    "# funciot code\n",
    "def func(s):\n",
    "    s = 'hey'\n",
    "    print(s)\n",
    "    return\n",
    "s = 'hello'\n",
    "func(s)\n",
    "print(s)"
   ]
  },
  {
   "cell_type": "code",
   "execution_count": 7,
   "metadata": {},
   "outputs": [
    {
     "name": "stdout",
     "output_type": "stream",
     "text": [
      "1 2884530291120\n",
      "hello\n",
      "4 2884530291120\n",
      "hello\n"
     ]
    }
   ],
   "source": [
    "def func(s):\n",
    "    print(2, id(s))\n",
    "    s = 'hey'\n",
    "    print(3, id(s))\n",
    "    print(s)\n",
    "    return\n",
    "s = 'hello'\n",
    "print(1, id(s))\n",
    "print(s)\n",
    "print(4, id(s))\n",
    "print(s)"
   ]
  },
  {
   "cell_type": "code",
   "execution_count": 9,
   "metadata": {},
   "outputs": [
    {
     "name": "stdout",
     "output_type": "stream",
     "text": [
      "[1, 2, 3, 4]\n",
      "[5, 2, 3, 4]\n",
      "[5, 2, 20, 4]\n"
     ]
    }
   ],
   "source": [
    "list = [1,2,3,4]\n",
    "print(list)\n",
    "list[0] = 5\n",
    "print(list)\n",
    "list[2] = 20\n",
    "print(list)"
   ]
  },
  {
   "cell_type": "code",
   "execution_count": 11,
   "metadata": {},
   "outputs": [
    {
     "name": "stdout",
     "output_type": "stream",
     "text": [
      "2884568381440\n",
      "2884568381440\n",
      "[7, 2, 3, -3]\n",
      "[7, 2, 3, -3]\n",
      "None\n"
     ]
    }
   ],
   "source": [
    "''' function code '''\n",
    "def func(list):\n",
    "    list[0] = 7\n",
    "    list[3] = -3\n",
    "    print(id(list))\n",
    "    return list\n",
    "list = [1,2,3,4]\n",
    "print(id(list))\n",
    "func(list)\n",
    "new_list = print(list)\n",
    "print(list)\n",
    "print(new_list)"
   ]
  },
  {
   "attachments": {},
   "cell_type": "markdown",
   "metadata": {},
   "source": [
    "passing as multiple arguments"
   ]
  },
  {
   "cell_type": "code",
   "execution_count": 12,
   "metadata": {},
   "outputs": [
    {
     "name": "stdout",
     "output_type": "stream",
     "text": [
      "1\n",
      "2\n",
      "3\n",
      "4\n"
     ]
    }
   ],
   "source": [
    "def func(x,y,z,a):\n",
    "    print(x)\n",
    "    print(y)\n",
    "    print(z)\n",
    "    print(a)\n",
    "    return\n",
    "list = [1,2,3,4]\n",
    "func(*list)"
   ]
  },
  {
   "cell_type": "code",
   "execution_count": 13,
   "metadata": {},
   "outputs": [
    {
     "name": "stdout",
     "output_type": "stream",
     "text": [
      "<class 'tuple'>\n"
     ]
    }
   ],
   "source": [
    "def func(*parms):\n",
    "    print(type(parms))\n",
    "    return\n",
    "list = [1,2,3,4]\n",
    "func(*list)"
   ]
  },
  {
   "cell_type": "code",
   "execution_count": 14,
   "metadata": {},
   "outputs": [
    {
     "name": "stdout",
     "output_type": "stream",
     "text": [
      "1\n",
      "2\n",
      "3\n",
      "4\n"
     ]
    }
   ],
   "source": [
    "def func(*parms):\n",
    "    for i in parms:\n",
    "        print(i)\n",
    "    return\n",
    "list = [1,2,3,4]\n",
    "func(*list)"
   ]
  },
  {
   "cell_type": "code",
   "execution_count": 16,
   "metadata": {},
   "outputs": [
    {
     "name": "stdout",
     "output_type": "stream",
     "text": [
      "10\n"
     ]
    }
   ],
   "source": [
    "def func(*parms):\n",
    "    sum = 0\n",
    "    for i in parms:\n",
    "        sum += i\n",
    "    print(sum)\n",
    "list = [1,2,3,4]\n",
    "func(*list)"
   ]
  },
  {
   "cell_type": "code",
   "execution_count": 19,
   "metadata": {},
   "outputs": [
    {
     "name": "stdout",
     "output_type": "stream",
     "text": [
      "10\n",
      "30\n"
     ]
    }
   ],
   "source": [
    "def func(*parms):\n",
    "    sum = 0\n",
    "    sq_sum = 0\n",
    "    for i in parms:\n",
    "        sum += i\n",
    "        sq_sum += (i*i)\n",
    "    return sum, sq_sum\n",
    "list = [1,2,3,4]\n",
    "a,b = func(*list)\n",
    "print(a)\n",
    "print(b)"
   ]
  }
 ],
 "metadata": {
  "kernelspec": {
   "display_name": "Python 3",
   "language": "python",
   "name": "python3"
  },
  "language_info": {
   "codemirror_mode": {
    "name": "ipython",
    "version": 3
   },
   "file_extension": ".py",
   "mimetype": "text/x-python",
   "name": "python",
   "nbconvert_exporter": "python",
   "pygments_lexer": "ipython3",
   "version": "3.10.5"
  },
  "orig_nbformat": 4
 },
 "nbformat": 4,
 "nbformat_minor": 2
}
