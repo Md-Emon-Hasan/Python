{
 "cells": [
  {
   "attachments": {},
   "cell_type": "markdown",
   "metadata": {},
   "source": [
    "implementing queue using list"
   ]
  },
  {
   "cell_type": "code",
   "execution_count": 4,
   "metadata": {},
   "outputs": [
    {
     "name": "stdout",
     "output_type": "stream",
     "text": [
      "<class 'list'>\n",
      "[10, 20, 30]\n",
      "10\n",
      "20\n",
      "[30]\n",
      "1\n",
      "False\n",
      "[30, 20, 10, 30]\n"
     ]
    }
   ],
   "source": [
    "q = []\n",
    "# add element\n",
    "print(type(q))\n",
    "q.append(10)\n",
    "q.append(20)\n",
    "q.append(30)\n",
    "print(q)\n",
    "# pop element\n",
    "print(q.pop(0))\n",
    "print(q.pop(0))\n",
    "print(q)\n",
    "# size\n",
    "print(len(q))\n",
    "# isEmpty\n",
    "print(len(q) == 0)\n",
    "# insert\n",
    "q.insert(0,10)\n",
    "q.insert(0,20)\n",
    "q.insert(0,30)\n",
    "print(q)"
   ]
  },
  {
   "attachments": {},
   "cell_type": "markdown",
   "metadata": {},
   "source": [
    "implementing queue using collections module"
   ]
  },
  {
   "cell_type": "code",
   "execution_count": 10,
   "metadata": {},
   "outputs": [
    {
     "name": "stdout",
     "output_type": "stream",
     "text": [
      "<class 'collections.deque'>\n",
      "deque([10, 20, 30])\n",
      "10\n",
      "20\n",
      "deque([30])\n",
      "False\n"
     ]
    }
   ],
   "source": [
    "# Queue using dequeue\n",
    "from collections import deque\n",
    "q = deque()\n",
    "print(type(q))\n",
    "# insert elements\n",
    "q.append(10)\n",
    "q.append(20)\n",
    "q.append(30)\n",
    "print(q)\n",
    "# delete element\n",
    "print(q.popleft())\n",
    "print(q.popleft())\n",
    "print(q)\n",
    "# size\n",
    "print(len(q) == 0)"
   ]
  },
  {
   "cell_type": "code",
   "execution_count": 12,
   "metadata": {},
   "outputs": [
    {
     "name": "stdout",
     "output_type": "stream",
     "text": [
      "<class 'collections.deque'>\n",
      "deque([30, 20, 10])\n",
      "10\n",
      "20\n",
      "deque([30])\n",
      "False\n"
     ]
    }
   ],
   "source": [
    "# Queue using dequeue\n",
    "from collections import deque\n",
    "q = deque()\n",
    "print(type(q))\n",
    "# insert elements\n",
    "q.appendleft(10)\n",
    "q.appendleft(20)\n",
    "q.appendleft(30)\n",
    "print(q)\n",
    "# delete element\n",
    "print(q.pop())\n",
    "print(q.pop())\n",
    "print(q)\n",
    "# size\n",
    "print(len(q) == 0)"
   ]
  },
  {
   "attachments": {},
   "cell_type": "markdown",
   "metadata": {},
   "source": [
    "implementing queue using queue"
   ]
  },
  {
   "cell_type": "code",
   "execution_count": 3,
   "metadata": {},
   "outputs": [
    {
     "name": "stdout",
     "output_type": "stream",
     "text": [
      "1\n",
      "2\n",
      "2\n",
      "False\n",
      "False\n"
     ]
    }
   ],
   "source": [
    "# queue using queue\n",
    "from queue import Queue\n",
    "q = Queue(maxsize = 0) # number of element that you want to allow inside queue\n",
    "# adding element\n",
    "q.put(1)\n",
    "q.put(2)\n",
    "q.put(3)\n",
    "q.put(4)\n",
    "# access elements\n",
    "print(q.get()) # pop()\n",
    "print(q.get())\n",
    "# length / size\n",
    "print(q.qsize()) # number of elements inside queue\n",
    "# empty / full\n",
    "print(q.empty()) # Is your queue empty\n",
    "print(q.full()) # Is your queue full\n"
   ]
  },
  {
   "attachments": {},
   "cell_type": "markdown",
   "metadata": {},
   "source": [
    "implementing queue using user defined functions"
   ]
  },
  {
   "cell_type": "code",
   "execution_count": 19,
   "metadata": {},
   "outputs": [
    {
     "ename": "TypeError",
     "evalue": "isEmpty() takes 0 positional arguments but 1 was given",
     "output_type": "error",
     "traceback": [
      "\u001b[1;31m---------------------------------------------------------------------------\u001b[0m",
      "\u001b[1;31mTypeError\u001b[0m                                 Traceback (most recent call last)",
      "Cell \u001b[1;32mIn[19], line 33\u001b[0m\n\u001b[0;32m     28\u001b[0m     \u001b[39mprint\u001b[39m()\n\u001b[0;32m     29\u001b[0m \u001b[39m# enqueue(Q,5)\u001b[39;00m\n\u001b[0;32m     30\u001b[0m \u001b[39m# enqueue(Q,8)\u001b[39;00m\n\u001b[0;32m     31\u001b[0m \u001b[39m# enqueue(Q,2)\u001b[39;00m\n\u001b[0;32m     32\u001b[0m \u001b[39m# display(Q)\u001b[39;00m\n\u001b[1;32m---> 33\u001b[0m \u001b[39mprint\u001b[39m(dequeue(Q))\n\u001b[0;32m     34\u001b[0m \u001b[39mprint\u001b[39m(peek(Q))\n\u001b[0;32m     35\u001b[0m display(Q)\n",
      "Cell \u001b[1;32mIn[19], line 16\u001b[0m, in \u001b[0;36mdequeue\u001b[1;34m(Que)\u001b[0m\n\u001b[0;32m     15\u001b[0m \u001b[39mdef\u001b[39;00m \u001b[39mdequeue\u001b[39m(Que):\n\u001b[1;32m---> 16\u001b[0m     \u001b[39mif\u001b[39;00m isEmpty(Que) \u001b[39m==\u001b[39m \u001b[39mTrue\u001b[39;00m:\n\u001b[0;32m     17\u001b[0m         \u001b[39mreturn\u001b[39;00m (\u001b[39m'\u001b[39m\u001b[39mDequeue not possible!\u001b[39m\u001b[39m'\u001b[39m)\n\u001b[0;32m     18\u001b[0m     \u001b[39melse\u001b[39;00m:\n",
      "\u001b[1;31mTypeError\u001b[0m: isEmpty() takes 0 positional arguments but 1 was given"
     ]
    }
   ],
   "source": [
    "Q = []\n",
    "fI = None\n",
    "rI = None\n",
    "def isEmpty():\n",
    "    if q == []:\n",
    "        return True\n",
    "    else:\n",
    "        return False\n",
    "def enqueue(Que,value):\n",
    "    Que.append(value)\n",
    "    if len(Que) == 1:\n",
    "        fI = rI = 0\n",
    "    else:\n",
    "        rI = len(Que) - 1\n",
    "def dequeue(Que):\n",
    "    if isEmpty(Que) == True:\n",
    "        return ('Dequeue not possible!')\n",
    "    else:\n",
    "        return Que.pop(0)\n",
    "def peek(Que):\n",
    "    if isEmpty(Que) == True:\n",
    "        return ('item not present')\n",
    "    else:\n",
    "        return Que[0]\n",
    "def display(Que):\n",
    "    for i in range(len(Que)):\n",
    "        print(Que[i],end=' ')\n",
    "    print()\n",
    "enqueue(Q,5)\n",
    "enqueue(Q,8)\n",
    "enqueue(Q,2)\n",
    "display(Q) # 5 8 2\n",
    "print(dequeue(Q)) # 5 -> 8 2\n",
    "print(peek(Q)) # 8\n",
    "display(Q) # 8 2\n",
    "dequeue(Q) # 2\n",
    "print(peek(Q)) #2\n",
    "print(isEmpty(Q)) # False"
   ]
  }
 ],
 "metadata": {
  "kernelspec": {
   "display_name": "Python 3",
   "language": "python",
   "name": "python3"
  },
  "language_info": {
   "codemirror_mode": {
    "name": "ipython",
    "version": 3
   },
   "file_extension": ".py",
   "mimetype": "text/x-python",
   "name": "python",
   "nbconvert_exporter": "python",
   "pygments_lexer": "ipython3",
   "version": "3.10.5"
  },
  "orig_nbformat": 4
 },
 "nbformat": 4,
 "nbformat_minor": 2
}
