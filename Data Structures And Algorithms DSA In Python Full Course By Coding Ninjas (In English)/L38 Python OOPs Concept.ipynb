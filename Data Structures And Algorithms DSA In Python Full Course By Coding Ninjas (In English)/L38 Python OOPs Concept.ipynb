{
 "cells": [
  {
   "attachments": {},
   "cell_type": "markdown",
   "metadata": {},
   "source": [
    "class and object"
   ]
  },
  {
   "cell_type": "code",
   "execution_count": 2,
   "metadata": {},
   "outputs": [
    {
     "name": "stdout",
     "output_type": "stream",
     "text": [
      "tom is a cat\n"
     ]
    }
   ],
   "source": [
    "class Animal():\n",
    "    def __init__(self,name,age,color) -> None:\n",
    "        self.name = name\n",
    "        self.age = age\n",
    "        self.age = color\n",
    "tom = Animal('cat',3,'blue')\n",
    "jerry = Animal('rat',1,'brown')\n",
    "print('tom is a {}'.format(tom.name))"
   ]
  },
  {
   "attachments": {},
   "cell_type": "markdown",
   "metadata": {},
   "source": [
    "inheritance"
   ]
  },
  {
   "cell_type": "code",
   "execution_count": 3,
   "metadata": {},
   "outputs": [
    {
     "name": "stdout",
     "output_type": "stream",
     "text": [
      "animal is created\n",
      "kangaro is created\n",
      "animal is created\n",
      "kangaro is created\n",
      "kangaro\n",
      "jumps\n",
      "runs\n"
     ]
    }
   ],
   "source": [
    "class Animal():\n",
    "    def __init__(self) -> None:\n",
    "        print('animal is created')\n",
    "    def name(self):\n",
    "        print('animal')\n",
    "    def do(self):\n",
    "        print('runs')\n",
    "class Kangaro(Animal):\n",
    "    def __init__(self) -> None:\n",
    "        super().__init__()\n",
    "        print('kangaro is created')\n",
    "    def name(self):\n",
    "        print('kangaro')\n",
    "    def jumps(self):\n",
    "        print('jumps')\n",
    "kar = Kangaro()\n",
    "kar.__init__()\n",
    "kar.name()\n",
    "kar.jumps()\n",
    "kar.do()"
   ]
  },
  {
   "attachments": {},
   "cell_type": "markdown",
   "metadata": {},
   "source": [
    "encapsulation"
   ]
  },
  {
   "cell_type": "code",
   "execution_count": 6,
   "metadata": {},
   "outputs": [
    {
     "name": "stdout",
     "output_type": "stream",
     "text": [
      "abc\n",
      "7\n"
     ]
    }
   ],
   "source": [
    "class p:\n",
    "    def __init__(self,name,age) -> None:\n",
    "        self.name = name\n",
    "        self.age = age\n",
    "    def Age(self):\n",
    "        print(self.age)\n",
    "o = p('abc',7)\n",
    "print(o.name)\n",
    "print(o.age)"
   ]
  },
  {
   "attachments": {},
   "cell_type": "markdown",
   "metadata": {},
   "source": [
    "compile time polymorphism"
   ]
  },
  {
   "cell_type": "code",
   "execution_count": 10,
   "metadata": {},
   "outputs": [
    {
     "name": "stdout",
     "output_type": "stream",
     "text": [
      "name : shruti\n",
      "roll no : 32\n",
      "grade : 6\n",
      "name : sam\n",
      "roll no : 20\n",
      "grade : 9\n"
     ]
    }
   ],
   "source": [
    "class student1:\n",
    "    def name(self):\n",
    "        print('name : shruti')\n",
    "    def rollNo(self):\n",
    "        print('roll no : 32')\n",
    "    def grade(self):\n",
    "        print('grade : 6')\n",
    "class student2:\n",
    "    def name(self):\n",
    "        print('name : sam')\n",
    "    def rollNo(self):\n",
    "        print('roll no : 20')\n",
    "    def grade(self):\n",
    "        print('grade : 9')\n",
    "# method overloading\n",
    "def f (obj):\n",
    "    obj.name()\n",
    "    obj.rollNo()\n",
    "    obj.grade()\n",
    "obj_s1 = student1()\n",
    "obj_s2 = student2()\n",
    "f(obj_s1)\n",
    "f(obj_s2)"
   ]
  },
  {
   "attachments": {},
   "cell_type": "markdown",
   "metadata": {},
   "source": [
    "run time polymorphism"
   ]
  },
  {
   "cell_type": "code",
   "execution_count": 13,
   "metadata": {},
   "outputs": [
    {
     "name": "stdout",
     "output_type": "stream",
     "text": [
      "4 sides\n",
      "2-d shape\n",
      "side = 4 cm\n",
      "sh\n"
     ]
    }
   ],
   "source": [
    "class Shape:\n",
    "    d1 = 'sh'\n",
    "    def prop(self):\n",
    "        print('not defined')\n",
    "    def two_d(self):\n",
    "        print('2-d shape')\n",
    "class Square(Shape):\n",
    "    d2 = 'sq'\n",
    "    def prop(self):\n",
    "        print('4 sides')\n",
    "    def side(self):\n",
    "        print('side = 4 cm')\n",
    "s =  Square()\n",
    "s.prop()\n",
    "s.two_d()\n",
    "s.side()\n",
    "print(s.d1)\n",
    "s.d1 = 'update value'\n",
    "print(s.d1)\n",
    "print(s.d2)"
   ]
  }
 ],
 "metadata": {
  "kernelspec": {
   "display_name": "Python 3",
   "language": "python",
   "name": "python3"
  },
  "language_info": {
   "codemirror_mode": {
    "name": "ipython",
    "version": 3
   },
   "file_extension": ".py",
   "mimetype": "text/x-python",
   "name": "python",
   "nbconvert_exporter": "python",
   "pygments_lexer": "ipython3",
   "version": "3.10.5"
  },
  "orig_nbformat": 4
 },
 "nbformat": 4,
 "nbformat_minor": 2
}
