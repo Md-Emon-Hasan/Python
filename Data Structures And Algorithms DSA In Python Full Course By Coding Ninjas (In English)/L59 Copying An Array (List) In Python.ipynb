{
 "cells": [
  {
   "attachments": {},
   "cell_type": "markdown",
   "metadata": {},
   "source": [
    "basic function of array"
   ]
  },
  {
   "cell_type": "code",
   "execution_count": 1,
   "metadata": {},
   "outputs": [
    {
     "name": "stdout",
     "output_type": "stream",
     "text": [
      "array('i', [1, 2, 3, -4, 5])\n"
     ]
    }
   ],
   "source": [
    "import array\n",
    "nums = array.array('i',[1,2,3,-4,5])\n",
    "print(nums)"
   ]
  },
  {
   "cell_type": "code",
   "execution_count": 2,
   "metadata": {},
   "outputs": [
    {
     "name": "stdout",
     "output_type": "stream",
     "text": [
      "array('i', [1, 2, 3, -4, 5])\n"
     ]
    }
   ],
   "source": [
    "import array as arr\n",
    "nums = arr.array('i',[1,2,3,-4,5])\n",
    "print(nums)"
   ]
  },
  {
   "cell_type": "code",
   "execution_count": 4,
   "metadata": {},
   "outputs": [
    {
     "name": "stdout",
     "output_type": "stream",
     "text": [
      "array('I', [1, 2, 3, 8, 5])\n"
     ]
    }
   ],
   "source": [
    "from array import *\n",
    "nums = array('I',[1,2,3,8,5])\n",
    "print(nums)"
   ]
  },
  {
   "cell_type": "code",
   "execution_count": 5,
   "metadata": {},
   "outputs": [
    {
     "name": "stdout",
     "output_type": "stream",
     "text": [
      "array('I', [1, 2, 3, 8, 5, 12])\n"
     ]
    }
   ],
   "source": [
    "from array import *\n",
    "nums = array('I',[1,2,3,8,5])\n",
    "nums.append(12)\n",
    "print(nums)"
   ]
  },
  {
   "cell_type": "code",
   "execution_count": 6,
   "metadata": {},
   "outputs": [
    {
     "name": "stdout",
     "output_type": "stream",
     "text": [
      "array('I', [1, 2, 8, 5])\n"
     ]
    }
   ],
   "source": [
    "from array import *\n",
    "nums = array('I',[1,2,3,8,5])\n",
    "nums.remove(3)\n",
    "print(nums)"
   ]
  },
  {
   "cell_type": "code",
   "execution_count": 12,
   "metadata": {},
   "outputs": [
    {
     "name": "stdout",
     "output_type": "stream",
     "text": [
      "array('I', [1, 2, 8, 8])\n",
      "I\n",
      "(2655588613104, 4)\n"
     ]
    }
   ],
   "source": [
    "from array import *\n",
    "nums = array('I',[1,2,3,8,8])\n",
    "nums.remove(3)\n",
    "print(nums)\n",
    "print(nums.typecode)\n",
    "print(nums.buffer_info())"
   ]
  },
  {
   "cell_type": "code",
   "execution_count": 14,
   "metadata": {},
   "outputs": [
    {
     "name": "stdout",
     "output_type": "stream",
     "text": [
      "array('I', [8, 8, 3, 2, 1])\n"
     ]
    }
   ],
   "source": [
    "from array import *\n",
    "nums = array('I',[1,2,3,8,8])\n",
    "nums.reverse()\n",
    "print(nums)"
   ]
  },
  {
   "cell_type": "code",
   "execution_count": 15,
   "metadata": {},
   "outputs": [
    {
     "name": "stdout",
     "output_type": "stream",
     "text": [
      "3\n",
      "1\n"
     ]
    }
   ],
   "source": [
    "from array import *\n",
    "nums = array('I',[1,2,3,8,8])\n",
    "print(nums[2])\n",
    "print(nums[0])"
   ]
  },
  {
   "cell_type": "code",
   "execution_count": 4,
   "metadata": {},
   "outputs": [
    {
     "name": "stdout",
     "output_type": "stream",
     "text": [
      "1\n",
      "2\n",
      "3\n",
      "8\n",
      "8\n"
     ]
    }
   ],
   "source": [
    "from array import *\n",
    "nums = array('I',[1,2,3,8,8])\n",
    "for i in range(len(nums)):\n",
    "    print(nums[i])"
   ]
  },
  {
   "cell_type": "code",
   "execution_count": 6,
   "metadata": {},
   "outputs": [
    {
     "name": "stdout",
     "output_type": "stream",
     "text": [
      "22\n"
     ]
    }
   ],
   "source": [
    "from array import *\n",
    "nums = array('I',[1,2,3,8,8])\n",
    "sum = 0\n",
    "for i in range(len(nums)):\n",
    "    sum += nums[i]\n",
    "print(sum)"
   ]
  },
  {
   "cell_type": "code",
   "execution_count": 7,
   "metadata": {},
   "outputs": [
    {
     "name": "stdout",
     "output_type": "stream",
     "text": [
      "array('I', [1, 2, 3, 8, 8])\n",
      "array('I', [1, 2, 3, 8, 8])\n"
     ]
    }
   ],
   "source": [
    "''' copy element '''\n",
    "from array import *\n",
    "nums = array('I',[1,2,3,8,8])\n",
    "newArr = array(nums.typecode, (ele for ele in nums))\n",
    "print(nums)\n",
    "print(newArr)"
   ]
  },
  {
   "attachments": {},
   "cell_type": "markdown",
   "metadata": {},
   "source": [
    "taking input in arrays"
   ]
  },
  {
   "cell_type": "code",
   "execution_count": 8,
   "metadata": {},
   "outputs": [
    {
     "name": "stdout",
     "output_type": "stream",
     "text": [
      "<class 'str'>\n"
     ]
    }
   ],
   "source": [
    "from array import *\n",
    "arr = array('i',[])\n",
    "n = input('enter number of values that you want to insert: ')\n",
    "print(type(n))"
   ]
  },
  {
   "cell_type": "code",
   "execution_count": 9,
   "metadata": {},
   "outputs": [
    {
     "name": "stdout",
     "output_type": "stream",
     "text": [
      "array('i', [5, 31, 356, 34, 326])\n"
     ]
    }
   ],
   "source": [
    "from array import *\n",
    "arr = array('i',[])\n",
    "n = int(input('enter number of values that you want to insert: '))\n",
    "for i in range(n):\n",
    "    x = int(input(f'enter {i}th number : '))\n",
    "    arr.append(x)\n",
    "print(arr)"
   ]
  },
  {
   "cell_type": "code",
   "execution_count": 10,
   "metadata": {},
   "outputs": [
    {
     "name": "stdout",
     "output_type": "stream",
     "text": [
      "array('i', [14, 3, 31, 1, 16])\n"
     ]
    }
   ],
   "source": [
    "from array import *\n",
    "arr = array('i',[])\n",
    "n = int(input('enter number of values that you want to insert: '))\n",
    "for i in range(n):\n",
    "    x = int(input(f'enter {i}th number : '))\n",
    "    arr.append(x)\n",
    "print(arr)\n",
    "idx = 0\n",
    "for ele in arr:\n",
    "    if ele == -5:\n",
    "        print(idx)\n",
    "        break\n",
    "    idx += 1"
   ]
  },
  {
   "cell_type": "code",
   "execution_count": 17,
   "metadata": {},
   "outputs": [
    {
     "name": "stdout",
     "output_type": "stream",
     "text": [
      "[1 2 3 4 5 6]\n"
     ]
    }
   ],
   "source": [
    "from numpy import *\n",
    "vals = array([1,2,3,4,5,6],int)\n",
    "print(vals)"
   ]
  },
  {
   "attachments": {},
   "cell_type": "markdown",
   "metadata": {},
   "source": [
    "creating numpy arrays"
   ]
  },
  {
   "cell_type": "code",
   "execution_count": 24,
   "metadata": {},
   "outputs": [
    {
     "name": "stdout",
     "output_type": "stream",
     "text": [
      "[2.  4.  6.  3.6 6. ]\n",
      "float64\n",
      "int32\n",
      "[2 4 6 3 6]\n",
      "float64\n",
      "[2.  4.  6.  3.6 6. ]\n"
     ]
    }
   ],
   "source": [
    "from numpy import *\n",
    "vals = array([2,4,6,3.6,6])\n",
    "print(vals)\n",
    "print(vals.dtype)\n",
    "vals = array([2,4,6,3.6,6],int)\n",
    "print(vals.dtype)\n",
    "print(vals)\n",
    "vals = array([2,4,6,3.6,6],float)\n",
    "print(vals.dtype)\n",
    "print(vals)"
   ]
  },
  {
   "cell_type": "code",
   "execution_count": 30,
   "metadata": {},
   "outputs": [
    {
     "name": "stdout",
     "output_type": "stream",
     "text": [
      "[0.   0.25 0.5  0.75 1.  ]\n"
     ]
    }
   ],
   "source": [
    "''' linspace '''\n",
    "from numpy import *\n",
    "vals = linspace(0,1,5)\n",
    "print(vals)"
   ]
  },
  {
   "cell_type": "code",
   "execution_count": 32,
   "metadata": {},
   "outputs": [
    {
     "name": "stdout",
     "output_type": "stream",
     "text": [
      "[1.e+01 1.e+02 1.e+03 1.e+04 1.e+05]\n"
     ]
    }
   ],
   "source": [
    "''' logspace '''\n",
    "from numpy import *\n",
    "vals = logspace(1,5,5)\n",
    "print(vals)"
   ]
  },
  {
   "cell_type": "code",
   "execution_count": 34,
   "metadata": {},
   "outputs": [
    {
     "name": "stdout",
     "output_type": "stream",
     "text": [
      "100000.0\n",
      "100000.00\n"
     ]
    }
   ],
   "source": [
    "vals = logspace(1,5,5)\n",
    "print(vals[4])\n",
    "print('%.2f'%vals[4])"
   ]
  },
  {
   "cell_type": "code",
   "execution_count": 35,
   "metadata": {},
   "outputs": [
    {
     "name": "stdout",
     "output_type": "stream",
     "text": [
      "[ 1  4  7 10 13 16 19]\n"
     ]
    }
   ],
   "source": [
    "''' arange '''\n",
    "vals = arange(1,20,3)\n",
    "print(vals)"
   ]
  },
  {
   "cell_type": "code",
   "execution_count": 37,
   "metadata": {},
   "outputs": [
    {
     "name": "stdout",
     "output_type": "stream",
     "text": [
      "[0. 0. 0. 0. 0. 0.]\n",
      "[0 0 0 0 0 0]\n"
     ]
    }
   ],
   "source": [
    "''' zeros and ones '''\n",
    "vals = zeros(6)\n",
    "print(vals)\n",
    "vals = zeros(6,int)\n",
    "print(vals)"
   ]
  },
  {
   "attachments": {},
   "cell_type": "markdown",
   "metadata": {},
   "source": [
    "basic functionality of functional array"
   ]
  },
  {
   "cell_type": "code",
   "execution_count": 39,
   "metadata": {},
   "outputs": [
    {
     "name": "stdout",
     "output_type": "stream",
     "text": [
      "[5 7 9]\n"
     ]
    }
   ],
   "source": [
    "from numpy import *\n",
    "arr1 = array([1,2,3])\n",
    "arr2 = array([4,5,6])\n",
    "arr = arr1 + arr2\n",
    "print(arr)"
   ]
  },
  {
   "cell_type": "code",
   "execution_count": 41,
   "metadata": {},
   "outputs": [
    {
     "name": "stdout",
     "output_type": "stream",
     "text": [
      "[ 8  9 10]\n",
      "[ 7 14 21]\n"
     ]
    }
   ],
   "source": [
    "from numpy import *\n",
    "arr1 = array([1,2,3])\n",
    "arr2 = array([4,5,6])\n",
    "arr3 = arr1 + 7\n",
    "print(arr3)\n",
    "arr3 = arr1 * 7\n",
    "print(arr3)"
   ]
  },
  {
   "cell_type": "code",
   "execution_count": 44,
   "metadata": {},
   "outputs": [
    {
     "name": "stdout",
     "output_type": "stream",
     "text": [
      "[-0.7568025  -0.95892427 -0.2794155 ]\n",
      "[-0.65364362  0.28366219  0.96017029]\n",
      "[ 1.15782128 -3.38051501 -0.29100619]\n"
     ]
    }
   ],
   "source": [
    "from numpy import *\n",
    "arr1 = array([1,2,3])\n",
    "arr2 = array([4,5,6])\n",
    "print(sin(arr2))\n",
    "print(cos(arr2))\n",
    "print(tan(arr2))"
   ]
  },
  {
   "cell_type": "code",
   "execution_count": 47,
   "metadata": {},
   "outputs": [
    {
     "name": "stdout",
     "output_type": "stream",
     "text": [
      "[1.         1.41421356 1.73205081]\n"
     ]
    }
   ],
   "source": [
    "from numpy import *\n",
    "arr1 = array([1,2,3])\n",
    "arr2 = array([4,5,6])\n",
    "print(sqrt(arr1))"
   ]
  },
  {
   "cell_type": "code",
   "execution_count": 48,
   "metadata": {},
   "outputs": [
    {
     "name": "stdout",
     "output_type": "stream",
     "text": [
      "3\n"
     ]
    }
   ],
   "source": [
    "from numpy import *\n",
    "arr1 = array([1,2,3])\n",
    "arr2 = array([4,5,6])\n",
    "print(max(arr1))"
   ]
  },
  {
   "cell_type": "code",
   "execution_count": 49,
   "metadata": {},
   "outputs": [
    {
     "name": "stdout",
     "output_type": "stream",
     "text": [
      "[1 2 3 4 5 6]\n"
     ]
    }
   ],
   "source": [
    "from numpy import *\n",
    "arr1 = array([1,2,3])\n",
    "arr2 = array([4,5,6])\n",
    "print(concatenate([arr1,arr2]))"
   ]
  },
  {
   "cell_type": "code",
   "execution_count": 50,
   "metadata": {},
   "outputs": [
    {
     "name": "stdout",
     "output_type": "stream",
     "text": [
      "3053912785232\n",
      "3053912786960\n"
     ]
    }
   ],
   "source": [
    "from numpy import *\n",
    "arr1 = array([1,2,3])\n",
    "arr2 = array([4,5,6])\n",
    "print(id(arr1))\n",
    "print(id(arr2))"
   ]
  },
  {
   "attachments": {},
   "cell_type": "markdown",
   "metadata": {},
   "source": [
    "shallow copy"
   ]
  },
  {
   "cell_type": "code",
   "execution_count": 52,
   "metadata": {},
   "outputs": [
    {
     "name": "stdout",
     "output_type": "stream",
     "text": [
      "3053912788976\n",
      "3053912788016\n",
      "[1 2 3]\n",
      "[1 2 3]\n",
      "[1 2 6]\n"
     ]
    }
   ],
   "source": [
    "from numpy import *\n",
    "arr1 = array([1,2,3])\n",
    "arr2 = arr1.view()\n",
    "print(id(arr1))\n",
    "print(id(arr2))\n",
    "print(arr1)\n",
    "print(arr2)\n",
    "arr1[2] = 6\n",
    "print(arr2)"
   ]
  },
  {
   "attachments": {},
   "cell_type": "markdown",
   "metadata": {},
   "source": [
    "deep copy"
   ]
  },
  {
   "cell_type": "code",
   "execution_count": 54,
   "metadata": {},
   "outputs": [
    {
     "name": "stdout",
     "output_type": "stream",
     "text": [
      "[1 2 3]\n",
      "[1 2 3]\n",
      "[1 5 3]\n",
      "[1 2 3]\n"
     ]
    }
   ],
   "source": [
    "from numpy import *\n",
    "arr1 = array([1,2,3])\n",
    "arr3 = arr1.copy()\n",
    "print(arr1)\n",
    "print(arr3)\n",
    "arr1[1] = 5\n",
    "print(arr1)\n",
    "print(arr3)"
   ]
  }
 ],
 "metadata": {
  "kernelspec": {
   "display_name": "Python 3",
   "language": "python",
   "name": "python3"
  },
  "language_info": {
   "codemirror_mode": {
    "name": "ipython",
    "version": 3
   },
   "file_extension": ".py",
   "mimetype": "text/x-python",
   "name": "python",
   "nbconvert_exporter": "python",
   "pygments_lexer": "ipython3",
   "version": "3.10.5"
  },
  "orig_nbformat": 4
 },
 "nbformat": 4,
 "nbformat_minor": 2
}
