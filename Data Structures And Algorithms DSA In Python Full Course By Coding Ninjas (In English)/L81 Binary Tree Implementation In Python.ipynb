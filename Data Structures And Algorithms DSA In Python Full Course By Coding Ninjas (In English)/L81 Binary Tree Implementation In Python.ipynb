{
 "cells": [
  {
   "cell_type": "code",
   "execution_count": null,
   "metadata": {},
   "outputs": [],
   "source": [
    "class Node:\n",
    "    def __init__(self, data):\n",
    "        self.data = data\n",
    "        self.left = None\n",
    "        self.right = None\n",
    "def printTree(root):\n",
    "    if root == None: # empty tree\n",
    "        return\n",
    "    print(root.data, end=': ') # print root data\n",
    "    if root.left != None:\n",
    "        print('L',root.left.data, end=',') # print left child\n",
    "    if root.right != None:\n",
    "        print('R',root.right.data, end='') # print right child\n",
    "    print() # new line\n",
    "    printTree(root.left) # recursive call to print left subtree\n",
    "    printTree(root.right) # recursive call to print right subtree\n",
    "def treeInput():\n",
    "    rootData = int(input())\n",
    "    if rootData == -1:\n",
    "        return None\n",
    "    root = Node(rootData)\n",
    "    left = treeInput()\n",
    "    right = treeInput()\n",
    "    root.left = left\n",
    "    root.right = right\n",
    "    return root\n",
    "root = treeInput()\n",
    "printTree(root)"
   ]
  }
 ],
 "metadata": {
  "kernelspec": {
   "display_name": "Python 3",
   "language": "python",
   "name": "python3"
  },
  "language_info": {
   "name": "python",
   "version": "3.10.5"
  },
  "orig_nbformat": 4
 },
 "nbformat": 4,
 "nbformat_minor": 2
}
