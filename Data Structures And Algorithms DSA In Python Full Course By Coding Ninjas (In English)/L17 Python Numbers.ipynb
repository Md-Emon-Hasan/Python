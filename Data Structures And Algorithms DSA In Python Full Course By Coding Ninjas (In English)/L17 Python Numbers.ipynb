{
 "cells": [
  {
   "attachments": {},
   "cell_type": "markdown",
   "metadata": {},
   "source": [
    "_basic of python numbers_"
   ]
  },
  {
   "cell_type": "code",
   "execution_count": 6,
   "metadata": {},
   "outputs": [
    {
     "name": "stdout",
     "output_type": "stream",
     "text": [
      "add 11\n",
      "sub -3\n",
      "mul 28\n",
      "div 0.5714285714285714\n",
      "Mod 4\n",
      "expo 16384\n"
     ]
    }
   ],
   "source": [
    "a = 4\n",
    "b = 7\n",
    "c = a + b\n",
    "print('add',c)\n",
    "\n",
    "a = 4\n",
    "b = 7\n",
    "c = a - b\n",
    "print('sub',c)\n",
    "\n",
    "a = 4\n",
    "b = 7\n",
    "c = a * b\n",
    "print('mul',c)\n",
    "\n",
    "a = 4\n",
    "b = 7\n",
    "c = a / b\n",
    "print('div',c)\n",
    "\n",
    "a = 4\n",
    "b = 7\n",
    "c = a % b\n",
    "print('Mod',c)\n",
    "\n",
    "a = 4\n",
    "b = 7\n",
    "c = a**b\n",
    "print('expo',c)"
   ]
  },
  {
   "attachments": {},
   "cell_type": "markdown",
   "metadata": {},
   "source": [
    "__float type__"
   ]
  },
  {
   "cell_type": "code",
   "execution_count": 7,
   "metadata": {},
   "outputs": [
    {
     "name": "stdout",
     "output_type": "stream",
     "text": [
      "<class 'float'>\n"
     ]
    }
   ],
   "source": [
    "num = 3/4\n",
    "print(type(num))"
   ]
  },
  {
   "cell_type": "code",
   "execution_count": 11,
   "metadata": {},
   "outputs": [
    {
     "name": "stdout",
     "output_type": "stream",
     "text": [
      "add 8.9\n",
      "sub 2.5\n",
      "div 1.78125\n",
      "mul 18.240000000000002\n"
     ]
    }
   ],
   "source": [
    "a = 5.7\n",
    "b = 3.2\n",
    "c = a + b\n",
    "print('add',c)\n",
    "\n",
    "a = 5.7\n",
    "b = 3.2\n",
    "c = a - b\n",
    "print('sub',c)\n",
    "\n",
    "a = 5.7\n",
    "b = 3.2\n",
    "c = a / b\n",
    "print('div',c)\n",
    "\n",
    "a = 5.7\n",
    "b = 3.2\n",
    "c = a * b\n",
    "print('mul',c)"
   ]
  },
  {
   "attachments": {},
   "cell_type": "markdown",
   "metadata": {},
   "source": [
    "__complex type__"
   ]
  },
  {
   "cell_type": "code",
   "execution_count": 12,
   "metadata": {},
   "outputs": [
    {
     "name": "stdout",
     "output_type": "stream",
     "text": [
      "<class 'complex'>\n"
     ]
    }
   ],
   "source": [
    "num = 6+9j\n",
    "print(type(num))"
   ]
  },
  {
   "cell_type": "code",
   "execution_count": 13,
   "metadata": {},
   "outputs": [
    {
     "name": "stdout",
     "output_type": "stream",
     "text": [
      "add (8+12j)\n"
     ]
    }
   ],
   "source": [
    "a = 6+9j\n",
    "b = 2+3j\n",
    "c = a + b\n",
    "print('add',c)\n",
    "\n",
    "a = 6+9j\n",
    "b = 2+3j\n",
    "c = a - b\n",
    "print('sub',c)\n",
    "\n",
    "a = 6+9j\n",
    "b = 2+3j\n",
    "c = a * b\n",
    "print('mul',c)\n",
    "\n",
    "a = 6+9j\n",
    "b = 2+3j\n",
    "c = a / b\n",
    "print('div',c)"
   ]
  },
  {
   "attachments": {},
   "cell_type": "markdown",
   "metadata": {},
   "source": [
    "__number type conversion__"
   ]
  },
  {
   "cell_type": "code",
   "execution_count": 14,
   "metadata": {},
   "outputs": [
    {
     "name": "stdout",
     "output_type": "stream",
     "text": [
      "7.6\n"
     ]
    }
   ],
   "source": [
    "a = 2.6\n",
    "b = 5\n",
    "c = a + b\n",
    "print(c)"
   ]
  },
  {
   "cell_type": "code",
   "execution_count": 16,
   "metadata": {},
   "outputs": [
    {
     "name": "stdout",
     "output_type": "stream",
     "text": [
      "2.0\n",
      "5\n"
     ]
    }
   ],
   "source": [
    "a = 2\n",
    "print(float(2))\n",
    "b = 5.6\n",
    "print(int(b))"
   ]
  },
  {
   "cell_type": "code",
   "execution_count": 17,
   "metadata": {},
   "outputs": [
    {
     "name": "stdout",
     "output_type": "stream",
     "text": [
      "<class 'int'>\n"
     ]
    }
   ],
   "source": [
    "c = '3'\n",
    "print(type(int(c)))"
   ]
  }
 ],
 "metadata": {
  "kernelspec": {
   "display_name": "Python 3",
   "language": "python",
   "name": "python3"
  },
  "language_info": {
   "codemirror_mode": {
    "name": "ipython",
    "version": 3
   },
   "file_extension": ".py",
   "mimetype": "text/x-python",
   "name": "python",
   "nbconvert_exporter": "python",
   "pygments_lexer": "ipython3",
   "version": "3.10.5"
  },
  "orig_nbformat": 4
 },
 "nbformat": 4,
 "nbformat_minor": 2
}
