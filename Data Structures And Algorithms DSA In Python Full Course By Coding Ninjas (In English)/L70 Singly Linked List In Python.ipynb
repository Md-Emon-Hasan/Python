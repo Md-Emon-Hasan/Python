{
 "cells": [
  {
   "cell_type": "code",
   "execution_count": 1,
   "metadata": {},
   "outputs": [
    {
     "name": "stdout",
     "output_type": "stream",
     "text": [
      "1 2 3 "
     ]
    }
   ],
   "source": [
    "class Node:\n",
    "    def __init__(self,data) -> None:\n",
    "        self.data = data\n",
    "        self.next = None\n",
    "class LinkedList:\n",
    "    def __init__(self) -> None:\n",
    "        self.head = None\n",
    "if __name__ == '__main__':\n",
    "    ll = LinkedList()\n",
    "    ll.head = Node(1)\n",
    "    second = Node(2)\n",
    "    third = Node(3)\n",
    "    \n",
    "    ll.head.next = second\n",
    "    second.next = third\n",
    "    \n",
    "    temp = ll.head\n",
    "    while(temp != None):\n",
    "        print(temp.data,end=' ')\n",
    "        temp = temp.next"
   ]
  },
  {
   "cell_type": "code",
   "execution_count": 1,
   "metadata": {},
   "outputs": [
    {
     "name": "stdout",
     "output_type": "stream",
     "text": [
      "1\n",
      "2\n",
      "3\n"
     ]
    }
   ],
   "source": [
    "class Node:\n",
    "    def __init__(self,data) -> None:\n",
    "        self.data = data\n",
    "        self.next = None\n",
    "class LinkedList:\n",
    "    def __init__(self) -> None:\n",
    "        self.head = None\n",
    "    def printList(self):\n",
    "        temp = self.head\n",
    "        while(temp!=None):\n",
    "            print(temp.data)\n",
    "            temp = temp.next\n",
    "if __name__ == '__main__':\n",
    "    ll = LinkedList()\n",
    "    ll.head = Node(1)\n",
    "    second = Node(2)\n",
    "    third = Node(3)\n",
    "    ll.head.next = second\n",
    "    second.next = third\n",
    "    temp = ll.head\n",
    "    ll.printList()\n",
    "    "
   ]
  },
  {
   "attachments": {},
   "cell_type": "markdown",
   "metadata": {},
   "source": [
    "inserting element in singly linked"
   ]
  },
  {
   "cell_type": "code",
   "execution_count": null,
   "metadata": {},
   "outputs": [],
   "source": [
    "class Node:\n",
    "    def __init__(self,data) -> None:\n",
    "        self.data = data\n",
    "        self.next = None\n",
    "class LinkedList:\n",
    "    def __init__(self) -> None:\n",
    "        self.head = None\n",
    "    def printList(self):\n",
    "        temp = self.head\n",
    "        while(temp!=None):\n",
    "            print(temp.data)\n",
    "            temp = temp.next\n",
    "    def pushBegin(self,data):\n",
    "        NewNode = Node(data)\n",
    "        NewNode.next = self.head\n",
    "        self.head = NewNode\n",
    "    def pushLast(self,data):\n",
    "        NewNode = Node(data)\n",
    "        if self.head is None:\n",
    "            self.head = NewNode\n",
    "            return\n",
    "        temp = self.head\n",
    "        while(temp.next != None):\n",
    "            temp = temp.next\n",
    "        temp.next = NewNode\n",
    "    def insert(self,middleNode,data):\n",
    "        if middleNode is None:\n",
    "            print('Middle node is not presnt')\n",
    "            return\n",
    "        NewNode = Node(data)\n",
    "        NewNode.next = middleNode.next\n",
    "        middleNode.next = NewNode\n",
    "if __name__ == '__main__':\n",
    "    ll = LinkedList()\n",
    "    ll.head = Node(1)\n",
    "    second = Node(2)\n",
    "    third = Node(3)\n",
    "    ll.head.next = second\n",
    "    second.next = third\n",
    "    temp = ll.head\n",
    "    ll.printList()"
   ]
  },
  {
   "attachments": {},
   "cell_type": "markdown",
   "metadata": {},
   "source": [
    "removing elements in singly linked list"
   ]
  },
  {
   "cell_type": "code",
   "execution_count": 1,
   "metadata": {},
   "outputs": [
    {
     "name": "stdout",
     "output_type": "stream",
     "text": [
      "100\n",
      "2\n",
      "3\n"
     ]
    }
   ],
   "source": [
    "class Node:\n",
    "    def __init__(self,data) -> None:\n",
    "        self.data = data\n",
    "        self.next = None\n",
    "class LinkedList:\n",
    "    def __init__(self) -> None:\n",
    "        self.head = None\n",
    "    def printList(self):\n",
    "        temp = self.head\n",
    "        while(temp!=None):\n",
    "            print(temp.data)\n",
    "            temp = temp.next\n",
    "    def pushBegin(self,data):\n",
    "        NewNode = Node(data)\n",
    "        NewNode.next = self.head\n",
    "        self.head = NewNode\n",
    "    def pushLast(self,data):\n",
    "        NewNode = Node(data)\n",
    "        if self.head is None:\n",
    "            self.head = NewNode\n",
    "            return\n",
    "        temp = self.head\n",
    "        while(temp.next != None):\n",
    "            temp = temp.next\n",
    "        temp.next = NewNode\n",
    "    def insert(self,middleNode,data):\n",
    "        if middleNode is None:\n",
    "            print('Middle node is not presnt')\n",
    "            return\n",
    "        NewNode = Node(data)\n",
    "        NewNode.next = middleNode.next\n",
    "        middleNode.next = NewNode\n",
    "    def remove(self,key):\n",
    "        headVal = self.head\n",
    "        if headVal.data == key:\n",
    "            self.head == headVal.next\n",
    "            headVal = None\n",
    "            return\n",
    "        while(headVal is not None):\n",
    "            if headVal.data == key:\n",
    "                break\n",
    "            prev = headVal\n",
    "            headVal = headVal.next\n",
    "        if headVal == None:\n",
    "            return\n",
    "        prev.next = headVal.next\n",
    "        headVal = None  \n",
    "if __name__ == '__main__':\n",
    "    ll = LinkedList()\n",
    "    ll.head = Node(1)\n",
    "    second = Node(2)\n",
    "    third = Node(3)\n",
    "    ll.pushBegin(100)\n",
    "    ll.pushLast(500)\n",
    "    ll.insert(second,30)\n",
    "    ll.remove(1)\n",
    "    ll.head.next = second\n",
    "    second.next = third\n",
    "    temp = ll.head\n",
    "    ll.printList()"
   ]
  },
  {
   "cell_type": "code",
   "execution_count": 3,
   "metadata": {},
   "outputs": [
    {
     "name": "stdout",
     "output_type": "stream",
     "text": [
      "100\n",
      "2\n",
      "30\n",
      "3\n",
      "500\n"
     ]
    }
   ],
   "source": [
    "class Node:\n",
    "    def __init__(self,data) -> None:\n",
    "        self.data = data\n",
    "        self.next = None\n",
    "class LinkedList:\n",
    "    def __init__(self) -> None:\n",
    "        self.head = None\n",
    "    def printList(self):\n",
    "        temp = self.head\n",
    "        while(temp!=None):\n",
    "            print(temp.data)\n",
    "            temp = temp.next\n",
    "    def pushBegin(self,data):\n",
    "        NewNode = Node(data)\n",
    "        NewNode.next = self.head\n",
    "        self.head = NewNode\n",
    "    def pushLast(self,data):\n",
    "        NewNode = Node(data)\n",
    "        if self.head is None:\n",
    "            self.head = NewNode\n",
    "            return\n",
    "        temp = self.head\n",
    "        while(temp.next != None):\n",
    "            temp = temp.next\n",
    "        temp.next = NewNode\n",
    "    def insert(self,middleNode,data):\n",
    "        if middleNode is None:\n",
    "            print('Middle node is not presnt')\n",
    "            return\n",
    "        NewNode = Node(data)\n",
    "        NewNode.next = middleNode.next\n",
    "        middleNode.next = NewNode\n",
    "    def remove(self,key):\n",
    "        headVal = self.head\n",
    "        if headVal.data == key:\n",
    "            self.head == headVal.next\n",
    "            headVal = None\n",
    "            return\n",
    "        while(headVal is not None):\n",
    "            if headVal.data == key:\n",
    "                break\n",
    "            prev = headVal\n",
    "            headVal = headVal.next\n",
    "        if headVal == None:\n",
    "            return\n",
    "        prev.next = headVal.next\n",
    "        headVal = None  \n",
    "if __name__ == '__main__':\n",
    "    ll = LinkedList()\n",
    "    ll.head = Node(1)\n",
    "    second = Node(2)\n",
    "    third = Node(3)\n",
    "    ll.head.next = second\n",
    "    second.next = third\n",
    "    ll.pushBegin(100)\n",
    "    ll.pushLast(500)\n",
    "    ll.insert(second,30)\n",
    "    ll.remove(1)\n",
    "    ll.printList()"
   ]
  }
 ],
 "metadata": {
  "kernelspec": {
   "display_name": "Python 3",
   "language": "python",
   "name": "python3"
  },
  "language_info": {
   "codemirror_mode": {
    "name": "ipython",
    "version": 3
   },
   "file_extension": ".py",
   "mimetype": "text/x-python",
   "name": "python",
   "nbconvert_exporter": "python",
   "pygments_lexer": "ipython3",
   "version": "3.10.5"
  },
  "orig_nbformat": 4
 },
 "nbformat": 4,
 "nbformat_minor": 2
}
