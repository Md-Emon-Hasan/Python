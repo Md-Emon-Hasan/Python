{
 "cells": [
  {
   "cell_type": "code",
   "execution_count": 2,
   "metadata": {},
   "outputs": [
    {
     "name": "stdout",
     "output_type": "stream",
     "text": [
      "False\n",
      "True\n"
     ]
    }
   ],
   "source": [
    "class TrieNode:\n",
    "    def __init__(self) -> None:\n",
    "        self.child = {}\n",
    "        self.isEnd = False\n",
    "class Trie:\n",
    "    def __init__(self) -> None:\n",
    "        self.node = TrieNode()\n",
    "    def insert(self,string):\n",
    "        n = len(string)\n",
    "        if (n == 0):\n",
    "            self.node.isEnd = True\n",
    "            return\n",
    "        else:\n",
    "            if string[0] in self.node.child:\n",
    "                self.node.child[string[0]].insert(string[1:])\n",
    "            else:\n",
    "                self.node.child[string[0]] = Trie()\n",
    "                self.node.child[string[0]].insert(string[1:])\n",
    "        return\n",
    "    def search(self,word):\n",
    "        temp = self.node\n",
    "        for i in range(len(word)):\n",
    "            if word[i] not in temp.child:\n",
    "                return False\n",
    "            else:\n",
    "                temp = temp.child[word[i]].node\n",
    "        if(temp.isEnd == True):\n",
    "            return True\n",
    "        else:\n",
    "            return False\n",
    "# main\n",
    "root = Trie()\n",
    "root.insert('beds')\n",
    "root.insert('bedroom')\n",
    "root.insert('bed')\n",
    "print(root.search('be'))\n",
    "print(root.search('bed'))"
   ]
  }
 ],
 "metadata": {
  "kernelspec": {
   "display_name": "Python 3",
   "language": "python",
   "name": "python3"
  },
  "language_info": {
   "codemirror_mode": {
    "name": "ipython",
    "version": 3
   },
   "file_extension": ".py",
   "mimetype": "text/x-python",
   "name": "python",
   "nbconvert_exporter": "python",
   "pygments_lexer": "ipython3",
   "version": "3.10.5"
  },
  "orig_nbformat": 4
 },
 "nbformat": 4,
 "nbformat_minor": 2
}
