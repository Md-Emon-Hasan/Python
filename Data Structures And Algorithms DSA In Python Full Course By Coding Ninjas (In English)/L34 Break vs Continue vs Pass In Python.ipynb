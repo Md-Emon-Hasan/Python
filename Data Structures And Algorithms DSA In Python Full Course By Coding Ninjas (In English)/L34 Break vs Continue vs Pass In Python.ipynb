{
 "cells": [
  {
   "attachments": {},
   "cell_type": "markdown",
   "metadata": {},
   "source": [
    "break statement"
   ]
  },
  {
   "cell_type": "code",
   "execution_count": 1,
   "metadata": {},
   "outputs": [
    {
     "name": "stdout",
     "output_type": "stream",
     "text": [
      "c\n",
      "o\n",
      "d\n",
      "i\n",
      "n\n",
      "hey, i am out the loop!\n"
     ]
    }
   ],
   "source": [
    "str = 'coding ninjas'\n",
    "for c in str:\n",
    "    if c == 'g':\n",
    "        break\n",
    "    print(c)\n",
    "print('hey, i am out the loop!')"
   ]
  },
  {
   "cell_type": "code",
   "execution_count": 3,
   "metadata": {},
   "outputs": [
    {
     "name": "stdout",
     "output_type": "stream",
     "text": [
      "c\n",
      "o\n",
      "d\n",
      "i\n",
      "n\n",
      "g\n",
      "Break\n",
      "hey, i am not of the nested loops!\n",
      "c\n",
      "o\n",
      "d\n",
      "i\n",
      "n\n",
      "g\n",
      "Break\n",
      "hey, i am not of the nested loops!\n",
      "c\n",
      "o\n",
      "d\n",
      "i\n",
      "n\n",
      "g\n",
      "Break\n",
      "hey, i am not of the nested loops!\n",
      "hey, i am out of the whole loop!\n"
     ]
    }
   ],
   "source": [
    "str = 'coding ninjas'\n",
    "for i in range(3):\n",
    "    for c in str:\n",
    "        print(c)\n",
    "        if c == 'g':\n",
    "            print('Break')\n",
    "            break\n",
    "    print('hey, i am not of the nested loops!')\n",
    "print('hey, i am out of the whole loop!')"
   ]
  },
  {
   "cell_type": "code",
   "execution_count": 4,
   "metadata": {},
   "outputs": [
    {
     "name": "stdout",
     "output_type": "stream",
     "text": [
      "c\n",
      "o\n",
      "d\n",
      "i\n",
      "n\n",
      "g\n",
      "hey, i am out of while loop\n"
     ]
    }
   ],
   "source": [
    "''' while loops '''\n",
    "i = 0\n",
    "while True:\n",
    "    print(str[i])\n",
    "    if str[i] == 'g':\n",
    "        break\n",
    "    i += 1\n",
    "print('hey, i am out of while loop')"
   ]
  },
  {
   "attachments": {},
   "cell_type": "markdown",
   "metadata": {},
   "source": [
    "continue statement"
   ]
  },
  {
   "cell_type": "code",
   "execution_count": 5,
   "metadata": {},
   "outputs": [
    {
     "name": "stdout",
     "output_type": "stream",
     "text": [
      "1 3 7 9 11 13 17 19 21 23 27 29 31 33 37 39 41 43 47 49 "
     ]
    }
   ],
   "source": [
    "for num in range(50):\n",
    "    if(num % 2 == 0 or num % 5 == 0):\n",
    "        continue\n",
    "    print(num, end=' ')"
   ]
  },
  {
   "cell_type": "code",
   "execution_count": 6,
   "metadata": {},
   "outputs": [
    {
     "name": "stdout",
     "output_type": "stream",
     "text": [
      "hey, let me eat\n",
      "throw it!\n",
      "hey, let me eat\n",
      "hey, let me eat\n",
      "hey, let me eat\n"
     ]
    }
   ],
   "source": [
    "fruits = ['fresh','rotten','fresh','rotton','fresh']\n",
    "for str in fruits:\n",
    "    if str == 'rotten':\n",
    "        print('throw it!')\n",
    "        continue\n",
    "    print('hey, let me eat')"
   ]
  },
  {
   "cell_type": "code",
   "execution_count": 11,
   "metadata": {},
   "outputs": [
    {
     "name": "stdout",
     "output_type": "stream",
     "text": [
      "1 3 7 9 11 13 17 19 21 23 27 29 31 33 37 39 41 43 47 49 "
     ]
    }
   ],
   "source": [
    "num = 1\n",
    "while num <= 50:\n",
    "    if num % 2 == 0 or num % 5 == 0:\n",
    "        num += 1\n",
    "        continue\n",
    "    print(num, end=' ')\n",
    "    num += 1"
   ]
  },
  {
   "attachments": {},
   "cell_type": "markdown",
   "metadata": {},
   "source": [
    "pass statement"
   ]
  },
  {
   "cell_type": "code",
   "execution_count": 12,
   "metadata": {},
   "outputs": [
    {
     "name": "stdout",
     "output_type": "stream",
     "text": [
      "N\n",
      "a\n",
      "pass\n",
      "m\n",
      "a\n",
      "n\n"
     ]
    }
   ],
   "source": [
    "name = 'Naman'\n",
    "for c in name:\n",
    "    if c == 'm':\n",
    "        print('pass')\n",
    "        pass\n",
    "    print(c)"
   ]
  }
 ],
 "metadata": {
  "kernelspec": {
   "display_name": "Python 3",
   "language": "python",
   "name": "python3"
  },
  "language_info": {
   "codemirror_mode": {
    "name": "ipython",
    "version": 3
   },
   "file_extension": ".py",
   "mimetype": "text/x-python",
   "name": "python",
   "nbconvert_exporter": "python",
   "pygments_lexer": "ipython3",
   "version": "3.10.5"
  },
  "orig_nbformat": 4
 },
 "nbformat": 4,
 "nbformat_minor": 2
}
