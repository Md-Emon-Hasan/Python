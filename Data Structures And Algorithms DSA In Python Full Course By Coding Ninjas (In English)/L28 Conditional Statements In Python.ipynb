{
 "cells": [
  {
   "attachments": {},
   "cell_type": "markdown",
   "metadata": {},
   "source": [
    "if statement"
   ]
  },
  {
   "cell_type": "code",
   "execution_count": 2,
   "metadata": {},
   "outputs": [
    {
     "name": "stdout",
     "output_type": "stream",
     "text": [
      "if statement got executed\n",
      "this line got executed since the condition is trure\n",
      "we are out the if block\n"
     ]
    }
   ],
   "source": [
    "a = 2\n",
    "b = 6\n",
    "if b>a:\n",
    "    print('if statement got executed')\n",
    "    print('this line got executed since the condition is trure')\n",
    "print('we are out the if block')"
   ]
  },
  {
   "attachments": {},
   "cell_type": "markdown",
   "metadata": {},
   "source": [
    "elif and else"
   ]
  },
  {
   "cell_type": "code",
   "execution_count": null,
   "metadata": {},
   "outputs": [],
   "source": [
    "a = 2\n",
    "b = 6\n",
    "if a < b:\n",
    "    print('if statement got executed')\n",
    "    print('this line got executd since the condition is true')\n",
    "elif b > a:\n",
    "    print('elif statement was executed')\n",
    "    print('b is greater than a')\n",
    "else:\n",
    "    print('we are in the else block')\n",
    "    print('A and b are equal')\n",
    "print('we are out of the if- elif- else block')"
   ]
  },
  {
   "attachments": {},
   "cell_type": "markdown",
   "metadata": {},
   "source": [
    "single line if"
   ]
  },
  {
   "cell_type": "code",
   "execution_count": 3,
   "metadata": {},
   "outputs": [
    {
     "name": "stdout",
     "output_type": "stream",
     "text": [
      "a>b\n",
      "we are in the if statement\n",
      "this is a single line if statement\n"
     ]
    }
   ],
   "source": [
    "a = 12\n",
    "b = 5\n",
    "if a > b: print('a>b'); print('we are in the if statement'); print('this is a single line if statement')"
   ]
  },
  {
   "attachments": {},
   "cell_type": "markdown",
   "metadata": {},
   "source": [
    "ternary operator"
   ]
  },
  {
   "cell_type": "code",
   "execution_count": 6,
   "metadata": {},
   "outputs": [
    {
     "name": "stdout",
     "output_type": "stream",
     "text": [
      "12\n",
      "5\n"
     ]
    }
   ],
   "source": [
    "a = 12\n",
    "b = 5\n",
    "max = a if a>b else b\n",
    "print(max)\n",
    "min = a if a<b else b\n",
    "print(min)"
   ]
  }
 ],
 "metadata": {
  "kernelspec": {
   "display_name": "Python 3",
   "language": "python",
   "name": "python3"
  },
  "language_info": {
   "codemirror_mode": {
    "name": "ipython",
    "version": 3
   },
   "file_extension": ".py",
   "mimetype": "text/x-python",
   "name": "python",
   "nbconvert_exporter": "python",
   "pygments_lexer": "ipython3",
   "version": "3.10.5"
  },
  "orig_nbformat": 4
 },
 "nbformat": 4,
 "nbformat_minor": 2
}
