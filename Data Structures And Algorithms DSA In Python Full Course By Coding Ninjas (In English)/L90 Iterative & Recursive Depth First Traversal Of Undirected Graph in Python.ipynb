{
 "cells": [
  {
   "cell_type": "code",
   "execution_count": 1,
   "metadata": {},
   "outputs": [
    {
     "ename": "NameError",
     "evalue": "name 'addEdge' is not defined",
     "output_type": "error",
     "traceback": [
      "\u001b[1;31m---------------------------------------------------------------------------\u001b[0m",
      "\u001b[1;31mNameError\u001b[0m                                 Traceback (most recent call last)",
      "Cell \u001b[1;32mIn[1], line 3\u001b[0m\n\u001b[0;32m      1\u001b[0m n \u001b[39m=\u001b[39m \u001b[39m5\u001b[39m\n\u001b[0;32m      2\u001b[0m adj \u001b[39m=\u001b[39m [[\u001b[39m0\u001b[39m \u001b[39mfor\u001b[39;00m i \u001b[39min\u001b[39;00m \u001b[39mrange\u001b[39m(n) \u001b[39mfor\u001b[39;00m i \u001b[39min\u001b[39;00m \u001b[39mrange\u001b[39m(n)]]\n\u001b[1;32m----> 3\u001b[0m addEdge(adj,\u001b[39m1\u001b[39m,\u001b[39m0\u001b[39m)\n\u001b[0;32m      4\u001b[0m addEdge(adj,\u001b[39m1\u001b[39m,\u001b[39m2\u001b[39m)\n\u001b[0;32m      5\u001b[0m addEdge(adj,\u001b[39m1\u001b[39m,\u001b[39m4\u001b[39m)\n",
      "\u001b[1;31mNameError\u001b[0m: name 'addEdge' is not defined"
     ]
    }
   ],
   "source": [
    "n = 5\n",
    "adj = [[0 for i in range(n) for i in range(n)]]\n",
    "addEdge(adj,1,0)\n",
    "addEdge(adj,1,2)\n",
    "addEdge(adj,1,4)\n",
    "vis = [False for i in range(n)]\n",
    "DFS(adj,n)\n",
    "def addEdge(adj,x,y):\n",
    "    adj[x][y] = 1\n",
    "    adj[y][x] = 1\n",
    "def DFS(adj,n):\n",
    "    for i in range(n):\n",
    "        if vis[i] == False:\n",
    "            print('\\n New Componet -> ',end=' ')\n",
    "            helper(adj,i,n)\n",
    "def helper(adj,s,n):\n",
    "    stack = []\n",
    "    stack.append(s)\n",
    "    while len(stack) > 0:\n",
    "        s = stack.pop()\n",
    "        if vis[s] == False:\n",
    "            print(s,end='')\n",
    "            vis[s] = True\n",
    "            for i in range(n):\n",
    "                if adj[s][i] == 1 and vis[i] == False:\n",
    "                    stack.append(i)\n",
    "            "
   ]
  }
 ],
 "metadata": {
  "kernelspec": {
   "display_name": "Python 3",
   "language": "python",
   "name": "python3"
  },
  "language_info": {
   "codemirror_mode": {
    "name": "ipython",
    "version": 3
   },
   "file_extension": ".py",
   "mimetype": "text/x-python",
   "name": "python",
   "nbconvert_exporter": "python",
   "pygments_lexer": "ipython3",
   "version": "3.10.5"
  },
  "orig_nbformat": 4
 },
 "nbformat": 4,
 "nbformat_minor": 2
}
