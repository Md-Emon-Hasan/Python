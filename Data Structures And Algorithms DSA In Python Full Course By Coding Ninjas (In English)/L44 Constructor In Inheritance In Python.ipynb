{
 "cells": [
  {
   "cell_type": "code",
   "execution_count": 2,
   "metadata": {},
   "outputs": [
    {
     "name": "stdout",
     "output_type": "stream",
     "text": [
      "hey, A is created\n",
      "hey, A is created\n"
     ]
    }
   ],
   "source": [
    "class A:\n",
    "    def __init__(self) -> None:\n",
    "        print('hey, A is created')\n",
    "obj = A()"
   ]
  },
  {
   "cell_type": "code",
   "execution_count": 4,
   "metadata": {},
   "outputs": [
    {
     "name": "stdout",
     "output_type": "stream",
     "text": [
      "self 2200345824704\n",
      "obj 2200345824704\n"
     ]
    }
   ],
   "source": [
    "class A:\n",
    "    def __init__(self) -> None:\n",
    "        print('self',id(self))\n",
    "obj = A()\n",
    "print('obj',id(obj))"
   ]
  },
  {
   "cell_type": "code",
   "execution_count": null,
   "metadata": {},
   "outputs": [],
   "source": [
    "class A:\n",
    "    def __init__(self) -> None:\n",
    "        pass\n",
    "obj = A()\n",
    "print('obj',id(obj))"
   ]
  },
  {
   "attachments": {},
   "cell_type": "markdown",
   "metadata": {},
   "source": [
    "default constructor"
   ]
  },
  {
   "cell_type": "code",
   "execution_count": 7,
   "metadata": {},
   "outputs": [
    {
     "name": "stdout",
     "output_type": "stream",
     "text": [
      "naman 23\n",
      "naman\n",
      "23\n"
     ]
    }
   ],
   "source": [
    "class Student:\n",
    "    def __init__(self,name,age) -> None:\n",
    "        self.name = name\n",
    "        self.age = age\n",
    "    def display_info(self):\n",
    "        print(self.name, self.age)\n",
    "obj = Student('naman',23)\n",
    "obj.display_info()\n",
    "print(obj.name)\n",
    "print(obj.age)"
   ]
  },
  {
   "cell_type": "code",
   "execution_count": 8,
   "metadata": {},
   "outputs": [
    {
     "name": "stdout",
     "output_type": "stream",
     "text": [
      "4 Red\n"
     ]
    }
   ],
   "source": [
    "# inheritance\n",
    "class Vehicle:\n",
    "    def __init__(self,numTyres,color) -> None:\n",
    "        self.numTyres = numTyres\n",
    "        self.color = color\n",
    "    def display(self):\n",
    "        print(self.numTyres, self.color)\n",
    "obj = Vehicle(4,'Red')\n",
    "obj.display()"
   ]
  },
  {
   "cell_type": "code",
   "execution_count": 10,
   "metadata": {},
   "outputs": [
    {
     "name": "stdout",
     "output_type": "stream",
     "text": [
      "4 Red\n",
      "4\n",
      "Red\n",
      "True\n",
      "driving!\n"
     ]
    }
   ],
   "source": [
    "# inheritance\n",
    "class Vehicle:\n",
    "    def __init__(self,numTyres,color) -> None:\n",
    "        self.numTyres = numTyres\n",
    "        self.color = color\n",
    "    def display(self):\n",
    "        print(self.numTyres, self.color)\n",
    "class Car:\n",
    "    def __init__(self) -> None:\n",
    "        self.accelerator = True\n",
    "    def drive(self):\n",
    "        print('driving!')\n",
    "obj = Vehicle(4,'Red')\n",
    "obj.display()\n",
    "print(obj.numTyres)\n",
    "print(obj.color)\n",
    "obj = Car()\n",
    "print(obj.accelerator)\n",
    "obj.drive()"
   ]
  },
  {
   "cell_type": "code",
   "execution_count": 13,
   "metadata": {},
   "outputs": [
    {
     "name": "stdout",
     "output_type": "stream",
     "text": [
      "4\n",
      "Blue\n",
      "4 Blue\n",
      "i am vehicle class is display function\n"
     ]
    }
   ],
   "source": [
    "# inheritance\n",
    "class Vehicle:\n",
    "    def __init__(self,numTyres,color) -> None:\n",
    "        self.numTyres = numTyres\n",
    "        self.color = color\n",
    "    def display(self):\n",
    "        print(self.numTyres, self.color)\n",
    "        print('i am vehicle class is display function')\n",
    "class Car(Vehicle):\n",
    "    def __init__(self,color) -> None:\n",
    "        self.accelerator = True\n",
    "        Vehicle.__init__(self,4,color)\n",
    "    def drive(self):\n",
    "        print('driving!')\n",
    "obj = Car('Blue')\n",
    "print(obj.numTyres)\n",
    "print(obj.color)\n",
    "obj.display()"
   ]
  },
  {
   "attachments": {},
   "cell_type": "markdown",
   "metadata": {},
   "source": [
    "types of inheritance"
   ]
  },
  {
   "cell_type": "code",
   "execution_count": null,
   "metadata": {},
   "outputs": [],
   "source": [
    "# single inheritance\n",
    "class Vehicle:\n",
    "    def __init__(self,numTyres,color) -> None:\n",
    "        self.numTyres = numTyres\n",
    "        self.color = color\n",
    "    def display(self):\n",
    "        print(self.numTyres, self.color)\n",
    "        print('i am vehicle class is display function')\n",
    "class Car(Vehicle):\n",
    "    def __init__(self,color) -> None:\n",
    "        self.accelerator = True\n",
    "        Vehicle.__init__(self,4,color)\n",
    "    def drive(self):\n",
    "        print('driving!')\n",
    "obj = Car('Blue')\n",
    "print(obj.numTyres)\n",
    "print(obj.color)\n",
    "obj.display()"
   ]
  },
  {
   "cell_type": "code",
   "execution_count": 17,
   "metadata": {},
   "outputs": [
    {
     "name": "stdout",
     "output_type": "stream",
     "text": [
      "Hi, i am honda city\n",
      "honda city driving!\n",
      "True\n"
     ]
    }
   ],
   "source": [
    "''' multilevel inhetitance '''\n",
    "class Vehicle:\n",
    "    def __init__(self,numTyres,color) -> None:\n",
    "        self.numTyres = numTyres\n",
    "        self.color = color\n",
    "    def display(self):\n",
    "        print(self.numTyres, self.color)\n",
    "        print('i am vehicle class is display function')\n",
    "class Car(Vehicle):\n",
    "    def __init__(self,color) -> None:\n",
    "        self.accelerator = True\n",
    "        Vehicle.__init__(self,4,color)\n",
    "    def drive(self):\n",
    "        print('driving!')\n",
    "class HondaCity(Car):\n",
    "    def __init__(self, color) -> None:\n",
    "        super().__init__(color)\n",
    "    def __init__(self) -> None:\n",
    "        Car.__init__(self,'Red')\n",
    "        print('Hi, i am honda city')\n",
    "    def drive(self):\n",
    "        print('honda city driving!')\n",
    "obj = HondaCity()\n",
    "obj.drive()\n",
    "print(obj.accelerator)"
   ]
  },
  {
   "cell_type": "code",
   "execution_count": 21,
   "metadata": {},
   "outputs": [
    {
     "name": "stdout",
     "output_type": "stream",
     "text": [
      "i am a student\n",
      "i am a teaching assignment\n",
      "i am taking doubts\n",
      "studying\n",
      "teaching\n"
     ]
    }
   ],
   "source": [
    "class Student:\n",
    "    def __init__(self) -> None:\n",
    "        print('i am a student')\n",
    "    def study(self):\n",
    "            print('studying')\n",
    "class Teacher:\n",
    "    def __init__(self) -> None:\n",
    "        print('i am teacher')\n",
    "    def teach(self):\n",
    "        print('teaching')\n",
    "class TA(Student, Teacher):\n",
    "    def __init__(self) -> None:\n",
    "        super().__init__()\n",
    "        print('i am a teaching assignment')\n",
    "    def work(self):\n",
    "            print('i am taking doubts')\n",
    "ta = TA()\n",
    "ta.work()\n",
    "ta.study()\n",
    "ta.teach()"
   ]
  },
  {
   "attachments": {},
   "cell_type": "markdown",
   "metadata": {},
   "source": [
    "constructor in python"
   ]
  },
  {
   "cell_type": "code",
   "execution_count": 26,
   "metadata": {},
   "outputs": [
    {
     "name": "stdout",
     "output_type": "stream",
     "text": [
      "i am a snail\n",
      "crawing\n"
     ]
    }
   ],
   "source": [
    "class Animal:\n",
    "    def __init__(self) -> None:\n",
    "        print('i am an animal')\n",
    "    def legs(self):\n",
    "        print('it has legs')\n",
    "    def run(self):\n",
    "        print('running')\n",
    "class Snail(Animal):\n",
    "    def __init__(self) -> None:\n",
    "        print('i am a snail')\n",
    "    def bodyType(self):\n",
    "        print('i am sticky')\n",
    "    def eat(self):\n",
    "        print('i am eating')\n",
    "    def run(self):\n",
    "        print('crawing')\n",
    "s = Snail()\n",
    "s.run()"
   ]
  },
  {
   "cell_type": "code",
   "execution_count": 27,
   "metadata": {},
   "outputs": [
    {
     "name": "stdout",
     "output_type": "stream",
     "text": [
      "i am a snail\n",
      "crawing\n",
      "sleeping\n"
     ]
    }
   ],
   "source": [
    "class Animal:\n",
    "    def __init__(self) -> None:\n",
    "        print('i am an animal')\n",
    "    def legs(self):\n",
    "        print('it has legs')\n",
    "    def run(self):\n",
    "        print('running')\n",
    "class Snake:\n",
    "    def __init__(self) -> None:\n",
    "        print('i am a snake')\n",
    "    def eat(self):\n",
    "        print('eating')\n",
    "    def sleep(self):\n",
    "        print('sleeping')\n",
    "class Snail(Animal, Snake): # method resulation order\n",
    "    def __init__(self) -> None:\n",
    "        print('i am a snail')\n",
    "    def bodyType(self):\n",
    "        print('i am sticky')\n",
    "    def eat(self):\n",
    "        print('i am eating')\n",
    "    def run(self):\n",
    "        print('crawing')\n",
    "s = Snail()\n",
    "s.run()\n",
    "s.sleep()"
   ]
  }
 ],
 "metadata": {
  "kernelspec": {
   "display_name": "Python 3",
   "language": "python",
   "name": "python3"
  },
  "language_info": {
   "codemirror_mode": {
    "name": "ipython",
    "version": 3
   },
   "file_extension": ".py",
   "mimetype": "text/x-python",
   "name": "python",
   "nbconvert_exporter": "python",
   "pygments_lexer": "ipython3",
   "version": "3.10.5"
  },
  "orig_nbformat": 4
 },
 "nbformat": 4,
 "nbformat_minor": 2
}
