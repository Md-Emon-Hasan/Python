{
 "cells": [
  {
   "attachments": {},
   "cell_type": "markdown",
   "metadata": {},
   "source": [
    "__list__"
   ]
  },
  {
   "cell_type": "code",
   "execution_count": 2,
   "metadata": {},
   "outputs": [
    {
     "name": "stdout",
     "output_type": "stream",
     "text": [
      "apple\n",
      "mango\n"
     ]
    }
   ],
   "source": [
    "mylist = [1,2,3,4]\n",
    "list2 = ['a','b','c']\n",
    "list3 = ['apple','banana','mango']\n",
    "print(list3[0])\n",
    "print(list3[-1])"
   ]
  },
  {
   "cell_type": "code",
   "execution_count": null,
   "metadata": {},
   "outputs": [],
   "source": [
    "list = ['a','b','c']\n",
    "for i in list:\n",
    "    print(i)\n",
    "print(list)"
   ]
  },
  {
   "cell_type": "code",
   "execution_count": 5,
   "metadata": {},
   "outputs": [
    {
     "name": "stdout",
     "output_type": "stream",
     "text": [
      "a\n",
      "b\n",
      "c\n",
      "3\n"
     ]
    }
   ],
   "source": [
    "list = ['a','b','c']\n",
    "for i in range(0,3):\n",
    "    print(list[i])\n",
    "print(len(list))"
   ]
  },
  {
   "cell_type": "code",
   "execution_count": 8,
   "metadata": {},
   "outputs": [
    {
     "name": "stdout",
     "output_type": "stream",
     "text": [
      "['b', 'c']\n",
      "['d', 'e', 'f']\n",
      "<class 'list'>\n"
     ]
    }
   ],
   "source": [
    "''' delete an element at a position '''\n",
    "list = ['a','b','c']\n",
    "del list[0]\n",
    "print(list)\n",
    "\n",
    "list = ['a','b','c','d','e','f']\n",
    "del list[0:3]\n",
    "print(list)\n",
    "\n",
    "list = ['a','b','c','d','e','f']\n",
    "del list\n",
    "print(list)"
   ]
  },
  {
   "cell_type": "code",
   "execution_count": 15,
   "metadata": {},
   "outputs": [
    {
     "name": "stdout",
     "output_type": "stream",
     "text": [
      "['a', 'b', 'c', 'd', 'e', 'f']\n",
      "['a', 'b', 'c', 'e', 'f']\n",
      "['a', 'b', 'c', 'd', 'e']\n",
      "['a', 'b', 'c', 'e', 'f']\n",
      "['a', 'b', 'c', 'd', 'e', 'f']\n",
      "['a', 'b', 'c', 'd', 'e', 'f', 'z']\n",
      "['a', 'b', 'c', 'd', 'e', 'f', 'x', 'y']\n",
      "['a', 'b', 'c', 'd', 'e', 'r', 'f']\n"
     ]
    }
   ],
   "source": [
    "list = ['a','b','c','d','e','f']\n",
    "print(list)\n",
    "list = ['a','b','c','d','e','f']\n",
    "list.remove('d')\n",
    "print(list)\n",
    "list = ['a','b','c','d','e','f']\n",
    "list.pop()\n",
    "print(list)\n",
    "list = ['a','b','c','d','e','f']\n",
    "list.pop(3)\n",
    "print(list)\n",
    "list = ['a','b','c','d','e','f']\n",
    "list.clear\n",
    "print(list)\n",
    "list = ['a','b','c','d','e','f']\n",
    "list.append('z')\n",
    "print(list)\n",
    "list = ['a','b','c','d','e','f']\n",
    "list.extend(['x','y'])\n",
    "print(list)\n",
    "list = ['a','b','c','d','e','f']\n",
    "list.insert(5,'r')\n",
    "print(list)"
   ]
  },
  {
   "attachments": {},
   "cell_type": "markdown",
   "metadata": {},
   "source": [
    "__tuples__"
   ]
  },
  {
   "cell_type": "code",
   "execution_count": 17,
   "metadata": {},
   "outputs": [
    {
     "name": "stdout",
     "output_type": "stream",
     "text": [
      "(1, 2, 3, 4, 5)\n",
      "(3, 4, 5)\n"
     ]
    }
   ],
   "source": [
    "tup1 = (1,2,3,4,5)\n",
    "print(tup1)\n",
    "tup1 = (1,2,3,4,5)\n",
    "print(tup1[2:5])"
   ]
  },
  {
   "cell_type": "code",
   "execution_count": 18,
   "metadata": {},
   "outputs": [
    {
     "name": "stdout",
     "output_type": "stream",
     "text": [
      "(1, 2, 3, 4, 5, 6, 7, 8, 9)\n"
     ]
    }
   ],
   "source": [
    "tup1 = (1,2,3,4,5)\n",
    "tup2 = (6,7,8,9)\n",
    "tup = tup1 + tup2\n",
    "print(tup)"
   ]
  },
  {
   "attachments": {},
   "cell_type": "markdown",
   "metadata": {},
   "source": [
    "__string__"
   ]
  },
  {
   "cell_type": "code",
   "execution_count": 19,
   "metadata": {},
   "outputs": [
    {
     "name": "stdout",
     "output_type": "stream",
     "text": [
      "coding ninjas\n",
      "13\n"
     ]
    }
   ],
   "source": [
    "s = 'coding ninjas'\n",
    "print(s)\n",
    "print(len(s))"
   ]
  },
  {
   "cell_type": "code",
   "execution_count": 26,
   "metadata": {},
   "outputs": [
    {
     "name": "stdout",
     "output_type": "stream",
     "text": [
      "sajnin gnido\n",
      "sajnin gnido\n",
      "\n"
     ]
    }
   ],
   "source": [
    "s = 'coding ninjas'\n",
    "print(s[-1:-13:-1])\n",
    "print(s[len(s)-1: 0: -1])\n",
    "print(s[len(s)-1:-1:-1])"
   ]
  },
  {
   "attachments": {},
   "cell_type": "markdown",
   "metadata": {},
   "source": [
    "__sets__"
   ]
  },
  {
   "cell_type": "code",
   "execution_count": 29,
   "metadata": {},
   "outputs": [
    {
     "name": "stdout",
     "output_type": "stream",
     "text": [
      "{1, 2, 3, 4, 5}\n",
      "{1, 2, 3, 4, 5, 6, 7, 8}\n",
      "{5}\n",
      "{1, 2, 3, 4}\n"
     ]
    }
   ],
   "source": [
    "s = {1,2,3,4,5}\n",
    "print(s)\n",
    "\n",
    "s = {1,2,3,4,5}\n",
    "r = {5,6,7,8}\n",
    "print(s|r)\n",
    "\n",
    "s = {1,2,3,4,5}\n",
    "r = {5,6,7,8}\n",
    "print(s&r)\n",
    "\n",
    "s = {1,2,3,4,5}\n",
    "r = {5,6,7,8}\n",
    "print(s-r)"
   ]
  },
  {
   "cell_type": "code",
   "execution_count": 30,
   "metadata": {},
   "outputs": [
    {
     "name": "stdout",
     "output_type": "stream",
     "text": [
      "{1, 2, 3, 4, 6, 7, 8}\n"
     ]
    }
   ],
   "source": [
    "s = {1,2,3,4,5}\n",
    "r = {5,6,7,8}\n",
    "print(s^r)"
   ]
  },
  {
   "cell_type": "code",
   "execution_count": 31,
   "metadata": {},
   "outputs": [
    {
     "name": "stdout",
     "output_type": "stream",
     "text": [
      "{'a', 'd', 'b', 'c'}\n"
     ]
    }
   ],
   "source": [
    "l = ['a','b','c','d']\n",
    "s = set(l)\n",
    "print(s)"
   ]
  },
  {
   "attachments": {},
   "cell_type": "markdown",
   "metadata": {},
   "source": [
    "__dictionary__"
   ]
  },
  {
   "cell_type": "code",
   "execution_count": 32,
   "metadata": {},
   "outputs": [
    {
     "name": "stdout",
     "output_type": "stream",
     "text": [
      "{'name': 'coding ninjas', 'date': 22, 'work': 'gurugram'}\n",
      "coding ninjas\n"
     ]
    }
   ],
   "source": [
    "d = {'name':'coding ninjas','date':22,'work':'gurugram'}\n",
    "print(d)\n",
    "print(d['name'])"
   ]
  }
 ],
 "metadata": {
  "kernelspec": {
   "display_name": "Python 3",
   "language": "python",
   "name": "python3"
  },
  "language_info": {
   "codemirror_mode": {
    "name": "ipython",
    "version": 3
   },
   "file_extension": ".py",
   "mimetype": "text/x-python",
   "name": "python",
   "nbconvert_exporter": "python",
   "pygments_lexer": "ipython3",
   "version": "3.10.5"
  },
  "orig_nbformat": 4
 },
 "nbformat": 4,
 "nbformat_minor": 2
}
