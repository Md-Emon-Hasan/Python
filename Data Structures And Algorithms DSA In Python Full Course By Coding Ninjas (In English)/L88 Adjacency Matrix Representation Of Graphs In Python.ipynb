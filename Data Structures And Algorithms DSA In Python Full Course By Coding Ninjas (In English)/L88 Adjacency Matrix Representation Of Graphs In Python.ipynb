{
 "cells": [
  {
   "cell_type": "code",
   "execution_count": 2,
   "metadata": {},
   "outputs": [
    {
     "name": "stdout",
     "output_type": "stream",
     "text": [
      "  0  1  1  0\n",
      "  1  0  1  1\n",
      "  1  1  0  0\n",
      "  0  1  0  0\n"
     ]
    }
   ],
   "source": [
    "class Graph:\n",
    "    # number of vertices\n",
    "    n = 0\n",
    "    # initialize the graph\n",
    "    g = [[0 for x in range(10)] for y in range(10)]\n",
    "    # constructor\n",
    "    def __init__(self, vertices) -> None:\n",
    "        self.n = vertices\n",
    "    def display(self):\n",
    "        for i in range(self.n):\n",
    "            for j in range(self.n):\n",
    "                print(' ',self.g[i][j],end='')\n",
    "            print()\n",
    "    def addEdge(self,x,y):\n",
    "        if x == y:\n",
    "            print('same node, self loop')\n",
    "        else:\n",
    "            self.g[x][y] = 1\n",
    "            self.g[y][x] = 1\n",
    "ob = Graph(4)\n",
    "ob.addEdge(0,1)\n",
    "ob.addEdge(0,2)\n",
    "ob.addEdge(2,1)\n",
    "ob.addEdge(3,1)\n",
    "ob.display()"
   ]
  }
 ],
 "metadata": {
  "kernelspec": {
   "display_name": "Python 3",
   "language": "python",
   "name": "python3"
  },
  "language_info": {
   "codemirror_mode": {
    "name": "ipython",
    "version": 3
   },
   "file_extension": ".py",
   "mimetype": "text/x-python",
   "name": "python",
   "nbconvert_exporter": "python",
   "pygments_lexer": "ipython3",
   "version": "3.10.5"
  },
  "orig_nbformat": 4
 },
 "nbformat": 4,
 "nbformat_minor": 2
}
