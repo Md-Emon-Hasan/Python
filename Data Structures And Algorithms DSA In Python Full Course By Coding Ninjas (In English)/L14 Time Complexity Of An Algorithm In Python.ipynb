{
 "cells": [
  {
   "cell_type": "code",
   "execution_count": 12,
   "metadata": {},
   "outputs": [
    {
     "name": "stdout",
     "output_type": "stream",
     "text": [
      "1\n",
      "1.0025501251220703\n"
     ]
    }
   ],
   "source": [
    "''' experiment analysis '''\n",
    "import time\n",
    "start = time.time()\n",
    "arr = [1,2,3,1,4]\n",
    "found = -1\n",
    "for i in range(0, len(arr)):\n",
    "    for j in range(i + 1, len(arr)):\n",
    "        if arr[i] == arr[j]:\n",
    "            found = arr[j]\n",
    "print(found)\n",
    "end = time.time()\n",
    "print(1000*(end - start))"
   ]
  },
  {
   "cell_type": "code",
   "execution_count": 1,
   "metadata": {},
   "outputs": [
    {
     "name": "stdout",
     "output_type": "stream",
     "text": [
      "hi there\n"
     ]
    }
   ],
   "source": [
    "''' examle to calculate time complexity '''\n",
    "# examle 1\n",
    "print('hi there') # c1 = 0(c) = 0(1)\n",
    "\n",
    "# example 2\n",
    "print('hi') # c1\n",
    "print('hey!') # c2\n",
    "print('hello!') # c3\n",
    "# tc = c1+c2+c3\n",
    "\n",
    "# example 3\n",
    "n = 10\n",
    "for i in range(n):\n",
    "    print('welcome to coding ninjas')\n",
    "# tc = c1 + c2 + n*c3 = n*c3 = 0(n)\n",
    "\n",
    "# example 4\n",
    "n = 10 # c1\n",
    "m = 20 # c2\n",
    "for i in range(n): # c3\n",
    "    print('hey, I am loop1') # c4*n\n",
    "for i in range(m): # c5\n",
    "    print('hey, i am in loop 2') #c6*m\n",
    "# tc = c1 + c2 + c3 + c4*n + c6*n = 0(n)\n",
    "\n",
    "# example 5\n",
    "for i in range(n): # c\n",
    "    print('hey')\n",
    "    for j in range(m):\n",
    "        print('i love python')\n",
    "# tc = 0(n*m)\n",
    "\n",
    "# example 6\n",
    "if n == m: # c1\n",
    "    print('Hurray!') # c2\n",
    "else: # c3\n",
    "    for i in range(min(n,m)): # c4\n",
    "        print('such a boring day') # min(n,m)*c5\n",
    "# best case = c1 + c2 = 0(c) = O(1)\n",
    "# worst case = c4 + min(n,m)*c5\n",
    "# worst case = O(min(n,m))"
   ]
  },
  {
   "cell_type": "code",
   "execution_count": 2,
   "metadata": {},
   "outputs": [
    {
     "name": "stdout",
     "output_type": "stream",
     "text": [
      "hi\n",
      "hi\n",
      "hi\n",
      "hi\n",
      "hi\n",
      "hi\n",
      "hi\n",
      "hi\n",
      "hi\n",
      "hi\n",
      "4\n"
     ]
    }
   ],
   "source": [
    "# miscellaneous example\n",
    "# example 1\n",
    "n = 1000\n",
    "while n > 1:\n",
    "    print('hi')\n",
    "    n /= 2\n",
    "# tc = O(log2n)\n",
    "\n",
    "# example 2\n",
    "i = 1\n",
    "while i < n:\n",
    "    print('hey')\n",
    "    i *= 2\n",
    "# tc = 0(log2n)\n",
    "\n",
    "# example 3\n",
    "s = 0\n",
    "i = 1\n",
    "cnt = 0\n",
    "while s < 10:\n",
    "    cnt += 1\n",
    "    s = s + i\n",
    "    i += 1\n",
    "print(cnt)\n",
    "# tc = O(sqrt(n))"
   ]
  }
 ],
 "metadata": {
  "kernelspec": {
   "display_name": "Python 3",
   "language": "python",
   "name": "python3"
  },
  "language_info": {
   "codemirror_mode": {
    "name": "ipython",
    "version": 3
   },
   "file_extension": ".py",
   "mimetype": "text/x-python",
   "name": "python",
   "nbconvert_exporter": "python",
   "pygments_lexer": "ipython3",
   "version": "3.10.5"
  },
  "orig_nbformat": 4
 },
 "nbformat": 4,
 "nbformat_minor": 2
}
