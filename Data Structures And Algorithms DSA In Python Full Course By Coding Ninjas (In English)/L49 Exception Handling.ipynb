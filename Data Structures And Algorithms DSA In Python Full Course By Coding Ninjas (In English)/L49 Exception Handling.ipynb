{
 "cells": [
  {
   "cell_type": "code",
   "execution_count": 2,
   "metadata": {},
   "outputs": [
    {
     "ename": "SyntaxError",
     "evalue": "unmatched ')' (786238561.py, line 2)",
     "output_type": "error",
     "traceback": [
      "\u001b[1;36m  Cell \u001b[1;32mIn[2], line 2\u001b[1;36m\u001b[0m\n\u001b[1;33m    print(x))\u001b[0m\n\u001b[1;37m            ^\u001b[0m\n\u001b[1;31mSyntaxError\u001b[0m\u001b[1;31m:\u001b[0m unmatched ')'\n"
     ]
    }
   ],
   "source": [
    "x = 5\n",
    "print(x))"
   ]
  },
  {
   "cell_type": "code",
   "execution_count": 3,
   "metadata": {},
   "outputs": [
    {
     "ename": "ZeroDivisionError",
     "evalue": "division by zero",
     "output_type": "error",
     "traceback": [
      "\u001b[1;31m---------------------------------------------------------------------------\u001b[0m",
      "\u001b[1;31mZeroDivisionError\u001b[0m                         Traceback (most recent call last)",
      "Cell \u001b[1;32mIn[3], line 3\u001b[0m\n\u001b[0;32m      1\u001b[0m x \u001b[39m=\u001b[39m \u001b[39m5\u001b[39m\n\u001b[0;32m      2\u001b[0m y \u001b[39m=\u001b[39m \u001b[39m0\u001b[39m\n\u001b[1;32m----> 3\u001b[0m \u001b[39mprint\u001b[39m(x\u001b[39m/\u001b[39;49my)\n",
      "\u001b[1;31mZeroDivisionError\u001b[0m: division by zero"
     ]
    }
   ],
   "source": [
    "x = 5\n",
    "y = 0\n",
    "print(x/y)"
   ]
  },
  {
   "attachments": {},
   "cell_type": "markdown",
   "metadata": {},
   "source": [
    "try and except in python"
   ]
  },
  {
   "cell_type": "code",
   "execution_count": 4,
   "metadata": {},
   "outputs": [
    {
     "name": "stdout",
     "output_type": "stream",
     "text": [
      "something wrong has occured!\n"
     ]
    }
   ],
   "source": [
    "'''' exception handling '''\n",
    "try:\n",
    "    a = b \n",
    "except:\n",
    "    print('something wrong has occured!')"
   ]
  },
  {
   "cell_type": "code",
   "execution_count": 5,
   "metadata": {},
   "outputs": [
    {
     "name": "stdout",
     "output_type": "stream",
     "text": [
      "passed 5 to a\n"
     ]
    }
   ],
   "source": [
    "try:\n",
    "    a = b \n",
    "except:\n",
    "    a = 5\n",
    "    print('passed 5 to a')"
   ]
  },
  {
   "cell_type": "code",
   "execution_count": 6,
   "metadata": {},
   "outputs": [
    {
     "name": "stdout",
     "output_type": "stream",
     "text": [
      "name 'b' is not defined\n"
     ]
    }
   ],
   "source": [
    "try:\n",
    "    a = b \n",
    "except Exception as e:\n",
    "    print(e)"
   ]
  },
  {
   "cell_type": "code",
   "execution_count": 7,
   "metadata": {},
   "outputs": [
    {
     "name": "stdout",
     "output_type": "stream",
     "text": [
      "<class 'Exception'>\n"
     ]
    }
   ],
   "source": [
    "try:\n",
    "    a = b\n",
    "except Exception:\n",
    "    print(Exception)"
   ]
  },
  {
   "cell_type": "code",
   "execution_count": 8,
   "metadata": {},
   "outputs": [
    {
     "name": "stdout",
     "output_type": "stream",
     "text": [
      "name 'b' is not defined\n"
     ]
    }
   ],
   "source": [
    "try:\n",
    "    a = b \n",
    "except Exception as err:\n",
    "    print(err)"
   ]
  },
  {
   "cell_type": "code",
   "execution_count": 9,
   "metadata": {},
   "outputs": [
    {
     "name": "stdout",
     "output_type": "stream",
     "text": [
      "something wrong has occured\n"
     ]
    }
   ],
   "source": [
    "''' exception handling '''\n",
    "try:\n",
    "    a = 10\n",
    "    if a > 10:\n",
    "        print(a/0)\n",
    "    else:\n",
    "        a = b \n",
    "except:\n",
    "    print('something wrong has occured')"
   ]
  },
  {
   "cell_type": "code",
   "execution_count": 10,
   "metadata": {},
   "outputs": [
    {
     "name": "stdout",
     "output_type": "stream",
     "text": [
      "b is not defined\n"
     ]
    }
   ],
   "source": [
    "try:\n",
    "    a = 10\n",
    "    if a > 10:\n",
    "        print(a/0)\n",
    "    else:\n",
    "        a = b\n",
    "except ZeroDivisionError:\n",
    "    print('can not divide by zero')\n",
    "    print(a)\n",
    "except NameError:\n",
    "    print('b is not defined')\n",
    "except:\n",
    "    print('dont know what to do')"
   ]
  },
  {
   "cell_type": "code",
   "execution_count": 11,
   "metadata": {},
   "outputs": [
    {
     "name": "stdout",
     "output_type": "stream",
     "text": [
      "b is not defined\n"
     ]
    }
   ],
   "source": [
    "try:\n",
    "    a = 10\n",
    "    if a > 10:\n",
    "        print(a/0)\n",
    "    else:\n",
    "        a = b\n",
    "        a += 's'\n",
    "except ZeroDivisionError:\n",
    "    print('can not divide by zero')\n",
    "    print(a)\n",
    "except (NameError,TypeError):\n",
    "    print('b is not defined')\n",
    "except:\n",
    "    print('dont know what to do')"
   ]
  },
  {
   "attachments": {},
   "cell_type": "markdown",
   "metadata": {},
   "source": [
    "assert keyword in python"
   ]
  },
  {
   "cell_type": "code",
   "execution_count": 12,
   "metadata": {},
   "outputs": [],
   "source": [
    "x = 10\n",
    "assert x == 10"
   ]
  },
  {
   "cell_type": "code",
   "execution_count": 13,
   "metadata": {},
   "outputs": [
    {
     "name": "stdout",
     "output_type": "stream",
     "text": [
      "assertion failed!\n"
     ]
    }
   ],
   "source": [
    "try:\n",
    "    x = 10\n",
    "    assert x == 5\n",
    "except AssertionError as e:\n",
    "    print('assertion failed!')"
   ]
  },
  {
   "cell_type": "code",
   "execution_count": 14,
   "metadata": {},
   "outputs": [
    {
     "name": "stdout",
     "output_type": "stream",
     "text": [
      "Name not found globally.\n"
     ]
    }
   ],
   "source": [
    "try:\n",
    "    x = 10\n",
    "    raise NameError('name is wrong')\n",
    "except Exception as e:\n",
    "    print(e.__doc__)"
   ]
  },
  {
   "cell_type": "code",
   "execution_count": 18,
   "metadata": {},
   "outputs": [
    {
     "name": "stdout",
     "output_type": "stream",
     "text": [
      "('Division by zero not possible',)\n"
     ]
    }
   ],
   "source": [
    "try:\n",
    "    x = 10\n",
    "    raise ZeroDivisionError('Division by zero not possible')\n",
    "except Exception as e:\n",
    "    print(e.args)"
   ]
  },
  {
   "cell_type": "code",
   "execution_count": 20,
   "metadata": {},
   "outputs": [
    {
     "name": "stdout",
     "output_type": "stream",
     "text": [
      "age can not be less than or equals 18\n"
     ]
    }
   ],
   "source": [
    "class AgeError(Exception):\n",
    "    pass\n",
    "try:\n",
    "    age = int(input('what is your age?'))\n",
    "    if age <= 18:\n",
    "        raise AgeError\n",
    "except AgeError as e:\n",
    "    print('age can not be less than or equals 18')"
   ]
  },
  {
   "attachments": {},
   "cell_type": "markdown",
   "metadata": {},
   "source": [
    "try except else"
   ]
  },
  {
   "cell_type": "code",
   "execution_count": 22,
   "metadata": {},
   "outputs": [
    {
     "name": "stdout",
     "output_type": "stream",
     "text": [
      "Allowed\n"
     ]
    }
   ],
   "source": [
    "class AgeError(Exception):\n",
    "    pass\n",
    "try:\n",
    "    age = int(input('what is your age?'))\n",
    "    if age <= 18:\n",
    "        raise AgeError\n",
    "except AgeError as e:\n",
    "    print('age can not be less than or equals 18')\n",
    "else:\n",
    "    print('Allowed')"
   ]
  },
  {
   "attachments": {},
   "cell_type": "markdown",
   "metadata": {},
   "source": [
    "finally kwyword in python"
   ]
  },
  {
   "cell_type": "code",
   "execution_count": 24,
   "metadata": {},
   "outputs": [
    {
     "name": "stdout",
     "output_type": "stream",
     "text": [
      "age can not be less than or equals 18\n",
      "done with the work!\n"
     ]
    }
   ],
   "source": [
    "class AgeError(Exception):\n",
    "    pass\n",
    "try:\n",
    "    age = int(input('what is your age?'))\n",
    "    if age <= 18:\n",
    "        raise AgeError\n",
    "except AgeError as e:\n",
    "    print('age can not be less than or equals 18')\n",
    "else:\n",
    "    print('Allowed')\n",
    "finally:\n",
    "    print('done with the work!')"
   ]
  }
 ],
 "metadata": {
  "kernelspec": {
   "display_name": "Python 3",
   "language": "python",
   "name": "python3"
  },
  "language_info": {
   "codemirror_mode": {
    "name": "ipython",
    "version": 3
   },
   "file_extension": ".py",
   "mimetype": "text/x-python",
   "name": "python",
   "nbconvert_exporter": "python",
   "pygments_lexer": "ipython3",
   "version": "3.10.5"
  },
  "orig_nbformat": 4
 },
 "nbformat": 4,
 "nbformat_minor": 2
}
