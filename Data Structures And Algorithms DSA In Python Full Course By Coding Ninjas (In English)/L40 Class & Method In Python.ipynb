{
 "cells": [
  {
   "cell_type": "code",
   "execution_count": 3,
   "metadata": {},
   "outputs": [
    {
     "name": "stdout",
     "output_type": "stream",
     "text": [
      "black\n",
      "John\n",
      "I am a black car, named - John\n"
     ]
    }
   ],
   "source": [
    "class Cat:\n",
    "    color = 'black'\n",
    "    name = 'John'\n",
    "    def fun(self):\n",
    "        print(f'I am a {self.color} car, named - {self.name}')\n",
    "a = Cat()\n",
    "print(a.color)\n",
    "print(a.name)\n",
    "a.fun()"
   ]
  },
  {
   "attachments": {},
   "cell_type": "markdown",
   "metadata": {},
   "source": [
    "constructor in classes"
   ]
  },
  {
   "cell_type": "code",
   "execution_count": 4,
   "metadata": {},
   "outputs": [
    {
     "name": "stdout",
     "output_type": "stream",
     "text": [
      "white\n",
      "emon\n",
      "I am a white car, named - emon\n"
     ]
    }
   ],
   "source": [
    "class Cat:\n",
    "    def __init__(self,name,color) -> None:\n",
    "        self.name = name\n",
    "        self.color = color\n",
    "    def fun(self):\n",
    "        print(f'I am a {self.color} car, named - {self.name}')\n",
    "# intialiased the object here\n",
    "name = input('enter the name: ')\n",
    "color = input('enter the color: ')\n",
    "a = Cat(name,color)\n",
    "print(a.color)\n",
    "print(a.name)\n",
    "a.fun()"
   ]
  },
  {
   "attachments": {},
   "cell_type": "markdown",
   "metadata": {},
   "source": [
    "destructors in classes"
   ]
  },
  {
   "cell_type": "code",
   "execution_count": 5,
   "metadata": {},
   "outputs": [
    {
     "name": "stdout",
     "output_type": "stream",
     "text": [
      "hi, from Cat!\n",
      "---\n",
      "***\n",
      "---\n",
      "Bye, from cat!\n"
     ]
    }
   ],
   "source": [
    "class Cat:\n",
    "    def __init__(self) -> None:\n",
    "        print('hi, from Cat!')\n",
    "    def __del__(self):\n",
    "        print('Bye, from cat!')\n",
    "a = Cat()\n",
    "print('---')\n",
    "print('***')\n",
    "print('---')\n",
    "del a"
   ]
  },
  {
   "attachments": {},
   "cell_type": "markdown",
   "metadata": {},
   "source": [
    "getter & setter method"
   ]
  },
  {
   "cell_type": "code",
   "execution_count": 7,
   "metadata": {},
   "outputs": [
    {
     "name": "stdout",
     "output_type": "stream",
     "text": [
      "ABC\n",
      "<bound method Cat.getName of <__main__.Cat object at 0x0000018E2455EDA0>>\n"
     ]
    }
   ],
   "source": [
    "class Cat:\n",
    "    def __init__(self,name,color) -> None:\n",
    "        self.name = name\n",
    "        self.color = color\n",
    "    def setName(self,name):\n",
    "        self.name = name\n",
    "    def getName(self):\n",
    "        return self.name\n",
    "a = Cat('ABC','Black')\n",
    "print(a.getName())\n",
    "a.setName('JOHN')\n",
    "print(a.getName)"
   ]
  },
  {
   "attachments": {},
   "cell_type": "markdown",
   "metadata": {},
   "source": [
    "public protectd and private"
   ]
  },
  {
   "cell_type": "code",
   "execution_count": 9,
   "metadata": {},
   "outputs": [
    {
     "name": "stdout",
     "output_type": "stream",
     "text": [
      "John\n",
      "black\n"
     ]
    },
    {
     "ename": "AttributeError",
     "evalue": "'Cat' object has no attribute '__age'",
     "output_type": "error",
     "traceback": [
      "\u001b[1;31m---------------------------------------------------------------------------\u001b[0m",
      "\u001b[1;31mAttributeError\u001b[0m                            Traceback (most recent call last)",
      "Cell \u001b[1;32mIn[9], line 8\u001b[0m\n\u001b[0;32m      6\u001b[0m \u001b[39mprint\u001b[39m(a\u001b[39m.\u001b[39mname)\n\u001b[0;32m      7\u001b[0m \u001b[39mprint\u001b[39m(a\u001b[39m.\u001b[39m_color)\n\u001b[1;32m----> 8\u001b[0m \u001b[39mprint\u001b[39m(a\u001b[39m.\u001b[39;49m__age)\n",
      "\u001b[1;31mAttributeError\u001b[0m: 'Cat' object has no attribute '__age'"
     ]
    }
   ],
   "source": [
    "class Cat:\n",
    "    name = 'John'\n",
    "    _color = 'black'\n",
    "    __age = 5\n",
    "a = Cat()\n",
    "print(a.name)\n",
    "print(a._color)\n",
    "print(a.__age)"
   ]
  }
 ],
 "metadata": {
  "kernelspec": {
   "display_name": "Python 3",
   "language": "python",
   "name": "python3"
  },
  "language_info": {
   "codemirror_mode": {
    "name": "ipython",
    "version": 3
   },
   "file_extension": ".py",
   "mimetype": "text/x-python",
   "name": "python",
   "nbconvert_exporter": "python",
   "pygments_lexer": "ipython3",
   "version": "3.10.5"
  },
  "orig_nbformat": 4
 },
 "nbformat": 4,
 "nbformat_minor": 2
}
