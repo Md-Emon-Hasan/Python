{
 "cells": [
  {
   "cell_type": "code",
   "execution_count": 2,
   "metadata": {},
   "outputs": [
    {
     "name": "stdout",
     "output_type": "stream",
     "text": [
      "thapak thapak\n"
     ]
    }
   ],
   "source": [
    "class Duck:\n",
    "    def walk(self):\n",
    "        print('thapak thapak')\n",
    "class Hourse:\n",
    "    def walf(self):\n",
    "        print('tadak tadak')\n",
    "def myfunction(obj):\n",
    "    obj.walk()\n",
    "d = Duck()\n",
    "myfunction(d)"
   ]
  },
  {
   "cell_type": "code",
   "execution_count": 4,
   "metadata": {},
   "outputs": [
    {
     "name": "stdout",
     "output_type": "stream",
     "text": [
      "thapak thapak\n",
      "tadak tadak\n"
     ]
    }
   ],
   "source": [
    "class Duck:\n",
    "    def walk(self):\n",
    "        print('thapak thapak')\n",
    "class Hourse:\n",
    "    def walk(self):\n",
    "        print('tadak tadak')\n",
    "def myfunction(obj):\n",
    "    obj.walk()\n",
    "d = Duck()\n",
    "h = Hourse()\n",
    "myfunction(d)\n",
    "myfunction(h)"
   ]
  },
  {
   "attachments": {},
   "cell_type": "markdown",
   "metadata": {},
   "source": [
    "creating a new class with different method"
   ]
  },
  {
   "cell_type": "code",
   "execution_count": null,
   "metadata": {},
   "outputs": [],
   "source": [
    "class Duck:\n",
    "    def walk(self):\n",
    "        print('thapak thapak')\n",
    "class Hourse:\n",
    "    def walk(self):\n",
    "        print('tadak tadak')\n",
    "class Cat:\n",
    "    def walk(self):\n",
    "        print('meow meow')\n",
    "def myfunction(obj):\n",
    "    # put the condition here to check whether walk mehod is there in object or not\n",
    "    obj.walk()\n",
    "d = Duck()\n",
    "h = Hourse()\n",
    "c = Cat()\n",
    "myfunction(d)\n",
    "myfunction(h)\n",
    "myfunction(c)"
   ]
  },
  {
   "attachments": {},
   "cell_type": "markdown",
   "metadata": {},
   "source": [
    "implementing hasattr() function"
   ]
  },
  {
   "cell_type": "code",
   "execution_count": 6,
   "metadata": {},
   "outputs": [
    {
     "name": "stdout",
     "output_type": "stream",
     "text": [
      "thapak thapak\n",
      "tadak tadak\n",
      "meow meow\n"
     ]
    }
   ],
   "source": [
    "class Duck:\n",
    "    def walk(self):\n",
    "        print('thapak thapak')\n",
    "class Hourse:\n",
    "    def walk(self):\n",
    "        print('tadak tadak')\n",
    "class Cat:\n",
    "    def walk(self):\n",
    "        print('meow meow')\n",
    "def myfunction(obj):\n",
    "    # put the condition here to check whether walk mehod is there in object or not\n",
    "    if hasattr(obj,'walk'):\n",
    "        obj.walk()\n",
    "    if hasattr(obj,'talk'):\n",
    "        obj.talk()\n",
    "d = Duck()\n",
    "h = Hourse()\n",
    "c = Cat()\n",
    "myfunction(d)\n",
    "myfunction(h)\n",
    "myfunction(c)"
   ]
  },
  {
   "cell_type": "code",
   "execution_count": 8,
   "metadata": {},
   "outputs": [
    {
     "name": "stdout",
     "output_type": "stream",
     "text": [
      "quack quack\n",
      "woof woof\n"
     ]
    }
   ],
   "source": [
    "class Duck:\n",
    "    def sound(self):\n",
    "        print('quack quack')\n",
    "class Dog:\n",
    "    def sound(self):\n",
    "        print('woof woof')\n",
    "class Cat:\n",
    "    def __init__(self) -> None:\n",
    "        self.sound = 'meow meow'\n",
    "def allSounds(obj):\n",
    "    if hasattr(obj,'sound') and callable(obj.sound):\n",
    "        obj.sound()\n",
    "duck = Duck()\n",
    "dog = Dog()\n",
    "cat = Cat()\n",
    "allSounds(duck)\n",
    "allSounds(dog)\n",
    "allSounds(cat)"
   ]
  }
 ],
 "metadata": {
  "kernelspec": {
   "display_name": "Python 3",
   "language": "python",
   "name": "python3"
  },
  "language_info": {
   "codemirror_mode": {
    "name": "ipython",
    "version": 3
   },
   "file_extension": ".py",
   "mimetype": "text/x-python",
   "name": "python",
   "nbconvert_exporter": "python",
   "pygments_lexer": "ipython3",
   "version": "3.10.5"
  },
  "orig_nbformat": 4
 },
 "nbformat": 4,
 "nbformat_minor": 2
}
