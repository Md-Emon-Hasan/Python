{
 "cells": [
  {
   "cell_type": "code",
   "execution_count": 3,
   "metadata": {},
   "outputs": [
    {
     "name": "stdout",
     "output_type": "stream",
     "text": [
      "1 "
     ]
    },
    {
     "ename": "TypeError",
     "evalue": "'dict' object is not callable",
     "output_type": "error",
     "traceback": [
      "\u001b[1;31m---------------------------------------------------------------------------\u001b[0m",
      "\u001b[1;31mTypeError\u001b[0m                                 Traceback (most recent call last)",
      "Cell \u001b[1;32mIn[3], line 17\u001b[0m\n\u001b[0;32m     14\u001b[0m \u001b[39mif\u001b[39;00m \u001b[39m__name__\u001b[39m \u001b[39m==\u001b[39m \u001b[39m'\u001b[39m\u001b[39m__main__\u001b[39m\u001b[39m'\u001b[39m:\n\u001b[0;32m     15\u001b[0m     \u001b[39m# dictionary\u001b[39;00m\n\u001b[0;32m     16\u001b[0m     graph \u001b[39m=\u001b[39m {\u001b[39m1\u001b[39m:[\u001b[39m4\u001b[39m], \u001b[39m4\u001b[39m:[\u001b[39m1\u001b[39m,\u001b[39m3\u001b[39m,\u001b[39m5\u001b[39m], \u001b[39m3\u001b[39m:[\u001b[39m2\u001b[39m,\u001b[39m4\u001b[39m], \u001b[39m5\u001b[39m:[\u001b[39m2\u001b[39m,\u001b[39m4\u001b[39m,\u001b[39m6\u001b[39m], \u001b[39m6\u001b[39m:[\u001b[39m6\u001b[39m], \u001b[39m2\u001b[39m:[\u001b[39m3\u001b[39m,\u001b[39m5\u001b[39m]}\n\u001b[1;32m---> 17\u001b[0m     bfs(graph ,\u001b[39m1\u001b[39;49m)\n",
      "Cell \u001b[1;32mIn[3], line 10\u001b[0m, in \u001b[0;36mbfs\u001b[1;34m(graph, src)\u001b[0m\n\u001b[0;32m      8\u001b[0m curr \u001b[39m=\u001b[39m queue\u001b[39m.\u001b[39mpopleft()\n\u001b[0;32m      9\u001b[0m \u001b[39mprint\u001b[39m(curr, end\u001b[39m=\u001b[39m\u001b[39m'\u001b[39m\u001b[39m \u001b[39m\u001b[39m'\u001b[39m)\n\u001b[1;32m---> 10\u001b[0m \u001b[39mfor\u001b[39;00m neighbor \u001b[39min\u001b[39;00m graph(curr):\n\u001b[0;32m     11\u001b[0m     \u001b[39mif\u001b[39;00m neighbor \u001b[39mnot\u001b[39;00m \u001b[39min\u001b[39;00m visited: \u001b[39m# unvisited\u001b[39;00m\n\u001b[0;32m     12\u001b[0m         queue\u001b[39m.\u001b[39mappend(neighbor)\n",
      "\u001b[1;31mTypeError\u001b[0m: 'dict' object is not callable"
     ]
    }
   ],
   "source": [
    "from collections import deque\n",
    "def bfs(graph,src):\n",
    "    queue = deque() # queue\n",
    "    visited = set() # visited set\n",
    "    queue.append(src)\n",
    "    visited.add(src)\n",
    "    while len(queue) > 0:\n",
    "        curr = queue.popleft()\n",
    "        print(curr, end=' ')\n",
    "        for neighbor in graph(curr):\n",
    "            if neighbor not in visited: # unvisited\n",
    "                queue.append(neighbor)\n",
    "                visited.add(neighbor)\n",
    "if __name__ == '__main__':\n",
    "    # dictionary\n",
    "    graph = {1:[4], 4:[1,3,5], 3:[2,4], 5:[2,4,6], 6:[6], 2:[3,5]}\n",
    "    bfs(graph ,1)"
   ]
  }
 ],
 "metadata": {
  "kernelspec": {
   "display_name": "Python 3",
   "language": "python",
   "name": "python3"
  },
  "language_info": {
   "codemirror_mode": {
    "name": "ipython",
    "version": 3
   },
   "file_extension": ".py",
   "mimetype": "text/x-python",
   "name": "python",
   "nbconvert_exporter": "python",
   "pygments_lexer": "ipython3",
   "version": "3.10.5"
  },
  "orig_nbformat": 4
 },
 "nbformat": 4,
 "nbformat_minor": 2
}
