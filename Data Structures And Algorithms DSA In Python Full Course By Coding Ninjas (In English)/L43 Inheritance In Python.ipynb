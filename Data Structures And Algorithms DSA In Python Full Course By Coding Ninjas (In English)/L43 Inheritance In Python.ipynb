{
 "cells": [
  {
   "attachments": {},
   "cell_type": "markdown",
   "metadata": {},
   "source": [
    "example of inheritance"
   ]
  },
  {
   "cell_type": "code",
   "execution_count": 1,
   "metadata": {},
   "outputs": [
    {
     "name": "stdout",
     "output_type": "stream",
     "text": [
      "animal class is created\n",
      "breaking\n",
      "animal class is created\n",
      "animal is speaking\n"
     ]
    }
   ],
   "source": [
    "# parent class\n",
    "class Animal():\n",
    "    def __init__(self) -> None:\n",
    "        print('animal class is created')\n",
    "    def speak(self):\n",
    "        print('animal is speaking')\n",
    "# child class\n",
    "class Cat(Animal):\n",
    "    def bark(self):\n",
    "        print('breaking')\n",
    "bob = Cat()\n",
    "bob.bark()\n",
    "bob.__init__()\n",
    "bob.speak()"
   ]
  },
  {
   "attachments": {},
   "cell_type": "markdown",
   "metadata": {},
   "source": [
    "types of inheritance"
   ]
  },
  {
   "cell_type": "code",
   "execution_count": 2,
   "metadata": {},
   "outputs": [
    {
     "name": "stdout",
     "output_type": "stream",
     "text": [
      "Animal class is created\n",
      "breaking\n",
      "Animal class is created\n",
      "Animal is speaking\n"
     ]
    }
   ],
   "source": [
    "# parent class\n",
    "class Animal():\n",
    "    def __init__(self) -> None:\n",
    "        print('Animal class is created')\n",
    "    def speak(self):\n",
    "        print('Animal is speaking')\n",
    "# child class\n",
    "class Cat(Animal):\n",
    "    def bark(self):\n",
    "        print('breaking')\n",
    "bob = Cat()\n",
    "bob.bark()\n",
    "bob.__init__()\n",
    "bob.speak()"
   ]
  },
  {
   "cell_type": "code",
   "execution_count": 3,
   "metadata": {},
   "outputs": [
    {
     "name": "stdout",
     "output_type": "stream",
     "text": [
      "Animal class is created\n",
      "cute\n",
      "Animal class is created\n",
      "breaking\n",
      "Animal class is created\n",
      "Animal is speaking\n"
     ]
    }
   ],
   "source": [
    "# parent class\n",
    "class Animal():\n",
    "    def __init__(self) -> None:\n",
    "        print('Animal class is created')\n",
    "    def speak(self):\n",
    "        print('Animal is speaking')\n",
    "# child class\n",
    "class Dog(Animal):\n",
    "    def bark(self):\n",
    "        print('breaking')\n",
    "class Puppy(Dog):\n",
    "    def look(self):\n",
    "        print('cute')\n",
    "bob = Puppy()\n",
    "bob.look()\n",
    "bob = Dog()\n",
    "bob.bark()\n",
    "bob.__init__()\n",
    "bob.speak()"
   ]
  },
  {
   "cell_type": "code",
   "execution_count": 4,
   "metadata": {},
   "outputs": [
    {
     "name": "stdout",
     "output_type": "stream",
     "text": [
      "Animal class is created\n",
      "cute\n",
      "breaking\n"
     ]
    },
    {
     "ename": "AttributeError",
     "evalue": "'Dog' object has no attribute 'speak'",
     "output_type": "error",
     "traceback": [
      "\u001b[1;31m---------------------------------------------------------------------------\u001b[0m",
      "\u001b[1;31mAttributeError\u001b[0m                            Traceback (most recent call last)",
      "Cell \u001b[1;32mIn[4], line 19\u001b[0m\n\u001b[0;32m     17\u001b[0m bob\u001b[39m.\u001b[39mbark()\n\u001b[0;32m     18\u001b[0m bob\u001b[39m.\u001b[39m\u001b[39m__init__\u001b[39m()\n\u001b[1;32m---> 19\u001b[0m bob\u001b[39m.\u001b[39;49mspeak()\n",
      "\u001b[1;31mAttributeError\u001b[0m: 'Dog' object has no attribute 'speak'"
     ]
    }
   ],
   "source": [
    "# parent class\n",
    "class Animal():\n",
    "    def __init__(self) -> None:\n",
    "        print('Animal class is created')\n",
    "    def speak(self):\n",
    "        print('Animal is speaking')\n",
    "# child class\n",
    "class Dog:\n",
    "    def bark(self):\n",
    "        print('breaking')\n",
    "class Puppy(Dog, Animal):\n",
    "    def look(self):\n",
    "        print('cute')\n",
    "bob = Puppy()\n",
    "bob.look()\n",
    "bob = Dog()\n",
    "bob.bark()\n",
    "bob.__init__()\n",
    "bob.speak()"
   ]
  },
  {
   "cell_type": "code",
   "execution_count": 5,
   "metadata": {},
   "outputs": [
    {
     "name": "stdout",
     "output_type": "stream",
     "text": [
      "Animal class is created\n",
      "cute\n",
      "Animal class is created\n",
      "breaking\n",
      "Animal class is created\n",
      "Animal is speaking\n"
     ]
    }
   ],
   "source": [
    "# parent class\n",
    "class Animal():\n",
    "    def __init__(self) -> None:\n",
    "        print('Animal class is created')\n",
    "    def speak(self):\n",
    "        print('Animal is speaking')\n",
    "# child class\n",
    "class Dog(Animal):\n",
    "    def bark(self):\n",
    "        print('breaking')\n",
    "class Puppy(Animal):\n",
    "    def look(self):\n",
    "        print('cute')\n",
    "bob = Puppy()\n",
    "bob.look()\n",
    "bob = Dog()\n",
    "bob.bark()\n",
    "bob.__init__()\n",
    "bob.speak()"
   ]
  },
  {
   "cell_type": "code",
   "execution_count": null,
   "metadata": {},
   "outputs": [],
   "source": []
  }
 ],
 "metadata": {
  "kernelspec": {
   "display_name": "Python 3",
   "language": "python",
   "name": "python3"
  },
  "language_info": {
   "codemirror_mode": {
    "name": "ipython",
    "version": 3
   },
   "file_extension": ".py",
   "mimetype": "text/x-python",
   "name": "python",
   "nbconvert_exporter": "python",
   "pygments_lexer": "ipython3",
   "version": "3.10.5"
  },
  "orig_nbformat": 4
 },
 "nbformat": 4,
 "nbformat_minor": 2
}
