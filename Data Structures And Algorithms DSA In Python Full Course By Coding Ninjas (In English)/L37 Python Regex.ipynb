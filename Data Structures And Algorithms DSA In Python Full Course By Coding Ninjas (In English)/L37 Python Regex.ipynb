{
 "cells": [
  {
   "attachments": {},
   "cell_type": "markdown",
   "metadata": {},
   "source": [
    "import re module"
   ]
  },
  {
   "cell_type": "code",
   "execution_count": 5,
   "metadata": {},
   "outputs": [
    {
     "ename": "AttributeError",
     "evalue": "'function' object has no attribute 'start'",
     "output_type": "error",
     "traceback": [
      "\u001b[1;31m---------------------------------------------------------------------------\u001b[0m",
      "\u001b[1;31mAttributeError\u001b[0m                            Traceback (most recent call last)",
      "Cell \u001b[1;32mIn[5], line 5\u001b[0m\n\u001b[0;32m      3\u001b[0m s \u001b[39m=\u001b[39m \u001b[39m'\u001b[39m\u001b[39mcodestudio: a coding portal for coders\u001b[39m\u001b[39m'\u001b[39m\n\u001b[0;32m      4\u001b[0m math \u001b[39m=\u001b[39m re\u001b[39m.\u001b[39msearch(\u001b[39mr\u001b[39m\u001b[39m'\u001b[39m\u001b[39mportal\u001b[39m\u001b[39m'\u001b[39m,s)\n\u001b[1;32m----> 5\u001b[0m \u001b[39mprint\u001b[39m(\u001b[39m'\u001b[39m\u001b[39mstart index\u001b[39m\u001b[39m'\u001b[39m,match\u001b[39m.\u001b[39;49mstart())\n\u001b[0;32m      6\u001b[0m \u001b[39mprint\u001b[39m(\u001b[39m'\u001b[39m\u001b[39mend index:\u001b[39m\u001b[39m'\u001b[39m,match\u001b[39m.\u001b[39mend())\n",
      "\u001b[1;31mAttributeError\u001b[0m: 'function' object has no attribute 'start'"
     ]
    }
   ],
   "source": [
    "import re\n",
    "from re import match\n",
    "s = 'codestudio: a coding portal for coders'\n",
    "math = re.search(r'portal',s)\n",
    "print('start index',match.start())\n",
    "print('end index:',match.end())"
   ]
  },
  {
   "attachments": {},
   "cell_type": "markdown",
   "metadata": {},
   "source": [
    "special regex characters"
   ]
  },
  {
   "cell_type": "code",
   "execution_count": 9,
   "metadata": {},
   "outputs": [
    {
     "name": "stdout",
     "output_type": "stream",
     "text": [
      "<re.Match object; span=(0, 1), match='c'>\n",
      "<re.Match object; span=(6, 7), match='.'>\n"
     ]
    }
   ],
   "source": [
    "import re\n",
    "s = 'coding.ninjas'\n",
    "match=re.search(r'.',s)\n",
    "print(match)\n",
    "match = re.search(r'\\.',s)\n",
    "print(match)"
   ]
  },
  {
   "attachments": {},
   "cell_type": "markdown",
   "metadata": {},
   "source": [
    "regex module"
   ]
  },
  {
   "cell_type": "code",
   "execution_count": 11,
   "metadata": {},
   "outputs": [
    {
     "name": "stdout",
     "output_type": "stream",
     "text": [
      "['123456789', '87654321']\n"
     ]
    }
   ],
   "source": [
    "import re\n",
    "string = \"\"\"hello my number is 123456789 and my friends number is 87654321\"\"\"\n",
    "regex='\\d+'\n",
    "match = re.findall(regex,string)\n",
    "print(match)"
   ]
  },
  {
   "cell_type": "code",
   "execution_count": 12,
   "metadata": {},
   "outputs": [
    {
     "name": "stdout",
     "output_type": "stream",
     "text": [
      "['a', 'e', 'a', 'd', 'a', 'b', 'e', 'a']\n"
     ]
    }
   ],
   "source": [
    "import re\n",
    "p = re.compile('[a-e]')\n",
    "print(p.findall('aye,said,mr.gaibenson stark'))"
   ]
  }
 ],
 "metadata": {
  "kernelspec": {
   "display_name": "Python 3",
   "language": "python",
   "name": "python3"
  },
  "language_info": {
   "codemirror_mode": {
    "name": "ipython",
    "version": 3
   },
   "file_extension": ".py",
   "mimetype": "text/x-python",
   "name": "python",
   "nbconvert_exporter": "python",
   "pygments_lexer": "ipython3",
   "version": "3.10.5"
  },
  "orig_nbformat": 4
 },
 "nbformat": 4,
 "nbformat_minor": 2
}
