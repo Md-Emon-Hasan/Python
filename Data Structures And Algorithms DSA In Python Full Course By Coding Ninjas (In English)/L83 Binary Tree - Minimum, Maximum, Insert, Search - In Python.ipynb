{
 "cells": [
  {
   "cell_type": "code",
   "execution_count": 1,
   "metadata": {},
   "outputs": [
    {
     "name": "stdout",
     "output_type": "stream",
     "text": [
      "7 11 10 15 9 8 \n",
      "7 11 12 10 15 9 8 "
     ]
    }
   ],
   "source": [
    "class newNode():\n",
    "    def __init__(self,data) -> None:\n",
    "        self.key = data\n",
    "        self.left = None\n",
    "        self.right = None\n",
    "''' inorder traversal of a binary tree '''\n",
    "def inorder(temp):\n",
    "    if (not temp):\n",
    "        return\n",
    "    inorder(temp.left)\n",
    "    print(temp.key,end=' ')\n",
    "    inorder(temp.right)\n",
    "def insert(temp, key):\n",
    "    if temp == None:\n",
    "        return newNode(key)\n",
    "    q = []\n",
    "    q.append(temp)\n",
    "    while(len(q)>0):\n",
    "        x = q[0]\n",
    "        q.pop(0)\n",
    "        if x.left == None:\n",
    "            x.left = newNode(key)\n",
    "            break\n",
    "        else:\n",
    "            q.append(x.left)\n",
    "        if x.right == None:\n",
    "            x.right = newNode(key)\n",
    "            break\n",
    "        else:\n",
    "            q.append(x.right)\n",
    "# driver node\n",
    "if __name__ == '__main__':\n",
    "    root = newNode(10)\n",
    "    root.left = newNode(11)\n",
    "    root.left.left = newNode(7)\n",
    "    root.right = newNode(9)\n",
    "    root.right.left = newNode(15)\n",
    "    root.right.right = newNode(8)\n",
    "    inorder(root)\n",
    "    insert(root,12)\n",
    "    print()\n",
    "    inorder(root)"
   ]
  },
  {
   "cell_type": "code",
   "execution_count": 4,
   "metadata": {},
   "outputs": [
    {
     "name": "stdout",
     "output_type": "stream",
     "text": [
      "7 11 10 15 9 8 \n",
      "7 11 12 10 15 9 8 yes\n"
     ]
    }
   ],
   "source": [
    "class newNode():\n",
    "    def __init__(self,data) -> None:\n",
    "        self.key = data\n",
    "        self.left = None\n",
    "        self.right = None\n",
    "''' inorder traversal of a binary tree '''\n",
    "def inorder(temp):\n",
    "    if (not temp):\n",
    "        return\n",
    "    inorder(temp.left)\n",
    "    print(temp.key,end=' ')\n",
    "    inorder(temp.right)\n",
    "def insert(temp, key):\n",
    "    if temp == None:\n",
    "        return newNode(key)\n",
    "    q = []\n",
    "    q.append(temp)\n",
    "    while(len(q)>0):\n",
    "        x = q[0]\n",
    "        q.pop(0)\n",
    "        if x.left == None:\n",
    "            x.left = newNode(key)\n",
    "            break\n",
    "        else:\n",
    "            q.append(x.left)\n",
    "        if x.right == None:\n",
    "            x.right = newNode(key)\n",
    "            break\n",
    "        else:\n",
    "            q.append(x.right)\n",
    "def search(root,key):\n",
    "    if root == None:\n",
    "        return False\n",
    "    if root.key == key:\n",
    "        return True\n",
    "    return search(root.left,key) or search(root.right,key)\n",
    "# driver node\n",
    "if __name__ == '__main__':\n",
    "    root = newNode(10)\n",
    "    root.left = newNode(11)\n",
    "    root.left.left = newNode(7)\n",
    "    root.right = newNode(9)\n",
    "    root.right.left = newNode(15)\n",
    "    root.right.right = newNode(8)\n",
    "    inorder(root)\n",
    "    insert(root,12)\n",
    "    print()\n",
    "    inorder(root)\n",
    "    if search(root, 12):\n",
    "        print('yes')\n",
    "    else:\n",
    "        print('no')"
   ]
  }
 ],
 "metadata": {
  "kernelspec": {
   "display_name": "Python 3",
   "language": "python",
   "name": "python3"
  },
  "language_info": {
   "codemirror_mode": {
    "name": "ipython",
    "version": 3
   },
   "file_extension": ".py",
   "mimetype": "text/x-python",
   "name": "python",
   "nbconvert_exporter": "python",
   "pygments_lexer": "ipython3",
   "version": "3.10.5"
  },
  "orig_nbformat": 4
 },
 "nbformat": 4,
 "nbformat_minor": 2
}
