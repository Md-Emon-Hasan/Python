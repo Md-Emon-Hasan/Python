{
 "cells": [
  {
   "cell_type": "code",
   "execution_count": 3,
   "metadata": {},
   "outputs": [
    {
     "name": "stdout",
     "output_type": "stream",
     "text": [
      "pushed item - 1\n",
      "pushed item - 2\n",
      "pushed item - 3\n",
      "pushed item - 4\n",
      "poped item : 4\n",
      "stack after popping an item : ['1', '2', '3']\n"
     ]
    }
   ],
   "source": [
    "def create_stack():\n",
    "    stack = []\n",
    "    return stack\n",
    "def check_empty(stack):\n",
    "    return len(stack) == 0\n",
    "def push(stack,item):\n",
    "    stack.append(item)\n",
    "    print('pushed item - '+ item)\n",
    "def pop(stack):\n",
    "    if(check_empty(stack)):\n",
    "        return 'stack is alrady empty'\n",
    "    return stack.pop()\n",
    "stack = create_stack()\n",
    "push(stack,str(1))\n",
    "push(stack,str(2))\n",
    "push(stack,str(3))\n",
    "push(stack,str(4))\n",
    "print('poped item : '+pop(stack))\n",
    "print('stack after popping an item : ' + str(stack))"
   ]
  }
 ],
 "metadata": {
  "kernelspec": {
   "display_name": "Python 3",
   "language": "python",
   "name": "python3"
  },
  "language_info": {
   "codemirror_mode": {
    "name": "ipython",
    "version": 3
   },
   "file_extension": ".py",
   "mimetype": "text/x-python",
   "name": "python",
   "nbconvert_exporter": "python",
   "pygments_lexer": "ipython3",
   "version": "3.10.5"
  },
  "orig_nbformat": 4
 },
 "nbformat": 4,
 "nbformat_minor": 2
}
