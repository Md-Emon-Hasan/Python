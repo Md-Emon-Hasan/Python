{
 "cells": [
  {
   "cell_type": "code",
   "execution_count": 3,
   "metadata": {},
   "outputs": [
    {
     "name": "stdout",
     "output_type": "stream",
     "text": [
      "Naman Jain\n"
     ]
    }
   ],
   "source": [
    "''' hello world program variable and input '''\n",
    "print('Naman','Jain')"
   ]
  },
  {
   "cell_type": "code",
   "execution_count": 4,
   "metadata": {},
   "outputs": [
    {
     "name": "stdout",
     "output_type": "stream",
     "text": [
      "23\n"
     ]
    }
   ],
   "source": [
    "age = 23\n",
    "print(age)"
   ]
  },
  {
   "cell_type": "code",
   "execution_count": 5,
   "metadata": {},
   "outputs": [
    {
     "name": "stdout",
     "output_type": "stream",
     "text": [
      "10\n"
     ]
    }
   ],
   "source": [
    "''' taking input from users '''\n",
    "name  = input('what is your name: ')\n",
    "print(name)"
   ]
  },
  {
   "cell_type": "code",
   "execution_count": 12,
   "metadata": {},
   "outputs": [
    {
     "name": "stdout",
     "output_type": "stream",
     "text": [
      "you are:  22\n"
     ]
    }
   ],
   "source": [
    "''' type converstion '''\n",
    "birth_year = int(input('what is your birth year: '))\n",
    "print('you are: ', 2023 - birth_year)"
   ]
  },
  {
   "cell_type": "code",
   "execution_count": 16,
   "metadata": {},
   "outputs": [
    {
     "name": "stdout",
     "output_type": "stream",
     "text": [
      "44\n"
     ]
    }
   ],
   "source": [
    "''' add two numbers '''\n",
    "first = input('enter first number: ')\n",
    "second = input('enter second number: ')\n",
    "num1 = int(first)\n",
    "num2 = int(second)\n",
    "print(num1 + num2)"
   ]
  },
  {
   "cell_type": "code",
   "execution_count": 18,
   "metadata": {},
   "outputs": [
    {
     "name": "stdout",
     "output_type": "stream",
     "text": [
      "coding ninjas\n",
      "coding\n",
      "        ninja\n",
      "        is\n",
      "        a\n",
      "        good\n",
      "        place\n",
      "        for\n",
      "        coding\n"
     ]
    }
   ],
   "source": [
    "''' string '''\n",
    "name = 'coding ninjas'\n",
    "print(name)\n",
    "name = '''coding\n",
    "        ninja\n",
    "        is\n",
    "        a\n",
    "        good\n",
    "        place\n",
    "        for\n",
    "        coding'''\n",
    "print(name)"
   ]
  },
  {
   "cell_type": "code",
   "execution_count": 19,
   "metadata": {},
   "outputs": [
    {
     "name": "stdout",
     "output_type": "stream",
     "text": [
      "CODING NINJAS\n"
     ]
    }
   ],
   "source": [
    "''' using uppercase '''\n",
    "name = 'coding ninjas'\n",
    "print(name.upper())"
   ]
  },
  {
   "cell_type": "code",
   "execution_count": 20,
   "metadata": {},
   "outputs": [
    {
     "name": "stdout",
     "output_type": "stream",
     "text": [
      "Coding ninjas\n"
     ]
    }
   ],
   "source": [
    "''' using capatalize '''\n",
    "name = 'coding ninjas'\n",
    "print(name.capitalize())"
   ]
  },
  {
   "cell_type": "code",
   "execution_count": 21,
   "metadata": {},
   "outputs": [
    {
     "name": "stdout",
     "output_type": "stream",
     "text": [
      "s\n"
     ]
    }
   ],
   "source": [
    "name = 'coding ninjas'\n",
    "print(name[-1])"
   ]
  },
  {
   "cell_type": "code",
   "execution_count": 22,
   "metadata": {},
   "outputs": [
    {
     "name": "stdout",
     "output_type": "stream",
     "text": [
      "4\n"
     ]
    }
   ],
   "source": [
    "name = 'coding ninjas'\n",
    "print(name.find('n'))"
   ]
  },
  {
   "cell_type": "code",
   "execution_count": 23,
   "metadata": {},
   "outputs": [
    {
     "name": "stdout",
     "output_type": "stream",
     "text": [
      "coding ninjxs\n"
     ]
    }
   ],
   "source": [
    "name = 'coding ninjas'\n",
    "print(name.replace('a','x'))"
   ]
  },
  {
   "cell_type": "code",
   "execution_count": 24,
   "metadata": {},
   "outputs": [
    {
     "name": "stdout",
     "output_type": "stream",
     "text": [
      "din\n",
      "coding ninjas\n"
     ]
    }
   ],
   "source": [
    "''' slicing '''\n",
    "name = 'coding ninjas'\n",
    "print(name[2:5])\n",
    "print(name)"
   ]
  },
  {
   "cell_type": "code",
   "execution_count": 29,
   "metadata": {},
   "outputs": [
    {
     "name": "stdout",
     "output_type": "stream",
     "text": [
      "True\n"
     ]
    }
   ],
   "source": [
    "name = 'coding'\n",
    "print(name.isalnum())"
   ]
  },
  {
   "cell_type": "code",
   "execution_count": 31,
   "metadata": {},
   "outputs": [
    {
     "name": "stdout",
     "output_type": "stream",
     "text": [
      "True\n"
     ]
    }
   ],
   "source": [
    "name = 'coding'\n",
    "print(name.isalpha())"
   ]
  },
  {
   "cell_type": "code",
   "execution_count": 33,
   "metadata": {},
   "outputs": [
    {
     "name": "stdout",
     "output_type": "stream",
     "text": [
      "False\n"
     ]
    }
   ],
   "source": [
    "name = 'coding'\n",
    "print(name.isnumeric())"
   ]
  },
  {
   "cell_type": "code",
   "execution_count": 44,
   "metadata": {},
   "outputs": [
    {
     "name": "stdout",
     "output_type": "stream",
     "text": [
      "12\n",
      "8\n",
      "20\n",
      "5.0\n",
      "3\n",
      "1\n",
      "10000\n"
     ]
    }
   ],
   "source": [
    "''' operators '''\n",
    "print(10 + 2)\n",
    "print(10 - 2)\n",
    "print(10 * 2)\n",
    "print(10 / 2)\n",
    "print(10 // 3)\n",
    "print(10 % 3)\n",
    "print(10 ** 4)"
   ]
  },
  {
   "cell_type": "code",
   "execution_count": 46,
   "metadata": {},
   "outputs": [
    {
     "name": "stdout",
     "output_type": "stream",
     "text": [
      "6\n"
     ]
    }
   ],
   "source": [
    "a = 10\n",
    "a -= 4\n",
    "print(a)"
   ]
  },
  {
   "cell_type": "code",
   "execution_count": 47,
   "metadata": {},
   "outputs": [
    {
     "name": "stdout",
     "output_type": "stream",
     "text": [
      "True\n"
     ]
    }
   ],
   "source": [
    "a = 3 > 2\n",
    "print(a)"
   ]
  },
  {
   "cell_type": "code",
   "execution_count": 48,
   "metadata": {},
   "outputs": [
    {
     "name": "stdout",
     "output_type": "stream",
     "text": [
      "True\n"
     ]
    }
   ],
   "source": [
    "price = 30\n",
    "print(price >= 10 and price <= 50)"
   ]
  },
  {
   "cell_type": "code",
   "execution_count": 49,
   "metadata": {},
   "outputs": [
    {
     "name": "stdout",
     "output_type": "stream",
     "text": [
      "eligiable\n"
     ]
    }
   ],
   "source": [
    "age = 19\n",
    "if(age >= 19):\n",
    "    print('eligiable')\n",
    "else:\n",
    "    print('Not eligable')"
   ]
  },
  {
   "cell_type": "code",
   "execution_count": null,
   "metadata": {},
   "outputs": [],
   "source": [
    "age = 20\n",
    "if(age >= 20):\n",
    "    print('eligiable')\n",
    "elif age >= 18:\n",
    "    print('paritally eligable')\n",
    "else:\n",
    "    print('Not eligable')"
   ]
  },
  {
   "cell_type": "code",
   "execution_count": null,
   "metadata": {},
   "outputs": [],
   "source": [
    "''' while loop '''\n",
    "# initialization condition updation\n",
    "while condition:\n",
    "    body\n",
    "    updation"
   ]
  },
  {
   "cell_type": "code",
   "execution_count": 50,
   "metadata": {},
   "outputs": [
    {
     "name": "stdout",
     "output_type": "stream",
     "text": [
      "1\n",
      "2\n",
      "3\n",
      "4\n",
      "5\n",
      "6\n",
      "7\n",
      "8\n",
      "9\n",
      "10\n"
     ]
    }
   ],
   "source": [
    "cnt = 1\n",
    "while cnt <= 10:\n",
    "    print(cnt)\n",
    "    cnt += 1"
   ]
  },
  {
   "cell_type": "code",
   "execution_count": 52,
   "metadata": {},
   "outputs": [
    {
     "name": "stdout",
     "output_type": "stream",
     "text": [
      "*\n",
      "**\n",
      "***\n",
      "****\n",
      "*****\n",
      "******\n",
      "*******\n",
      "********\n",
      "*********\n",
      "**********\n"
     ]
    }
   ],
   "source": [
    "cnt = 1\n",
    "while cnt <= 10:\n",
    "    print(cnt * '*')\n",
    "    cnt += 1"
   ]
  },
  {
   "cell_type": "code",
   "execution_count": 71,
   "metadata": {},
   "outputs": [
    {
     "name": "stdout",
     "output_type": "stream",
     "text": [
      "[1, 2, 3, 4, 5]\n",
      "[7, 1, 2, 3, 4, 5]\n",
      "[7, 1, 2, 3, 4, 5, 9]\n",
      "[7, 1, 2, 3, 4, 5, 9, 10, 20, 30]\n",
      "[7, 1, 2, 4, 5, 9, 10, 20, 30]\n",
      "[7, 1, 2, 4, 5, 9, 10, 20]\n",
      "58\n",
      "8\n",
      "1\n",
      "[1, 2, 4, 5, 7, 9, 10, 20]\n"
     ]
    }
   ],
   "source": [
    "''' list '''\n",
    "list = [1,2,3,4,5]\n",
    "print(list)\n",
    "list.insert(0,7)\n",
    "print(list)\n",
    "list.append(9)\n",
    "print(list)\n",
    "list.extend([10,20,30])\n",
    "print(list)\n",
    "list.remove(3)\n",
    "print(list)\n",
    "list.pop()\n",
    "print(list)\n",
    "# list.clear()\n",
    "# print(list)\n",
    "print(sum(list))\n",
    "print(len(list))\n",
    "print(min(list))\n",
    "print(sorted(list))"
   ]
  },
  {
   "cell_type": "code",
   "execution_count": 72,
   "metadata": {},
   "outputs": [
    {
     "name": "stdout",
     "output_type": "stream",
     "text": [
      "1\n",
      "2\n",
      "3\n",
      "4\n",
      "5\n"
     ]
    }
   ],
   "source": [
    "''' for loops '''\n",
    "list = [1,2,3,4,5]\n",
    "for num in list:\n",
    "    print(num)"
   ]
  },
  {
   "cell_type": "code",
   "execution_count": 73,
   "metadata": {},
   "outputs": [
    {
     "name": "stdout",
     "output_type": "stream",
     "text": [
      "1\n",
      "2\n",
      "3\n",
      "4\n",
      "5\n"
     ]
    }
   ],
   "source": [
    "list = [1,2,3,4,5]\n",
    "idx = 0\n",
    "while idx < len(list):\n",
    "    print(list[idx])\n",
    "    idx += 1"
   ]
  },
  {
   "cell_type": "code",
   "execution_count": 74,
   "metadata": {},
   "outputs": [
    {
     "name": "stdout",
     "output_type": "stream",
     "text": [
      "range(0, 10)\n"
     ]
    }
   ],
   "source": [
    "num = range(0,10)\n",
    "print(num)"
   ]
  },
  {
   "cell_type": "code",
   "execution_count": 76,
   "metadata": {},
   "outputs": [
    {
     "name": "stdout",
     "output_type": "stream",
     "text": [
      "1\n",
      "2\n",
      "3\n",
      "4\n",
      "5\n",
      "6\n",
      "7\n",
      "8\n",
      "9\n"
     ]
    }
   ],
   "source": [
    "for i in range(1,10):\n",
    "    print(i)"
   ]
  },
  {
   "cell_type": "code",
   "execution_count": 77,
   "metadata": {},
   "outputs": [
    {
     "name": "stdout",
     "output_type": "stream",
     "text": [
      "1\n",
      "3\n",
      "5\n",
      "7\n",
      "9\n"
     ]
    }
   ],
   "source": [
    "for i in range(1,10,2):\n",
    "    print(i)\n",
    "    "
   ]
  },
  {
   "cell_type": "code",
   "execution_count": 78,
   "metadata": {},
   "outputs": [
    {
     "name": "stdout",
     "output_type": "stream",
     "text": [
      "10\n",
      "9\n",
      "8\n",
      "7\n",
      "6\n",
      "5\n",
      "4\n",
      "3\n",
      "2\n"
     ]
    }
   ],
   "source": [
    "for i in range(10,1,-1):\n",
    "    print(i)"
   ]
  },
  {
   "cell_type": "code",
   "execution_count": 1,
   "metadata": {},
   "outputs": [
    {
     "name": "stdout",
     "output_type": "stream",
     "text": [
      "\n",
      "*\n",
      "**\n",
      "***\n",
      "****\n",
      "*****\n",
      "******\n",
      "*******\n",
      "********\n",
      "*********\n"
     ]
    }
   ],
   "source": [
    "''' list in python '''\n",
    "for i in range(10):\n",
    "    print(i * '*')"
   ]
  },
  {
   "cell_type": "code",
   "execution_count": 4,
   "metadata": {},
   "outputs": [
    {
     "name": "stdout",
     "output_type": "stream",
     "text": [
      "{1, 2, 3, 4, 7, 8}\n"
     ]
    }
   ],
   "source": [
    "''' sets in python '''\n",
    "list = [3,4,3,2,1,2,3,7,8,7]\n",
    "myset = set(list)\n",
    "print(myset)"
   ]
  },
  {
   "cell_type": "code",
   "execution_count": 5,
   "metadata": {},
   "outputs": [
    {
     "name": "stdout",
     "output_type": "stream",
     "text": [
      "1\n",
      "2\n",
      "3\n",
      "4\n",
      "7\n",
      "8\n"
     ]
    }
   ],
   "source": [
    "list = [3,4,3,2,1,2,3,7,8,7]\n",
    "myset = set(list)\n",
    "for item in myset:\n",
    "    print(item)"
   ]
  },
  {
   "cell_type": "code",
   "execution_count": 6,
   "metadata": {},
   "outputs": [
    {
     "name": "stdout",
     "output_type": "stream",
     "text": [
      "{1, 2, 3, 4, 7, 8, 10}\n"
     ]
    }
   ],
   "source": [
    "list = [3,4,3,2,1,2,3,7,8,7]\n",
    "myset = set(list)\n",
    "myset.add(10)\n",
    "print(myset)"
   ]
  },
  {
   "cell_type": "code",
   "execution_count": 7,
   "metadata": {},
   "outputs": [
    {
     "name": "stdout",
     "output_type": "stream",
     "text": [
      "{1, 2, 3, 4, 7, 8, 10, 20, 30}\n"
     ]
    }
   ],
   "source": [
    "list = [3,4,3,2,1,2,3,7,8,7]\n",
    "myset = set(list)\n",
    "myset.update({10,20,30})\n",
    "print(myset)"
   ]
  },
  {
   "cell_type": "code",
   "execution_count": 8,
   "metadata": {},
   "outputs": [
    {
     "name": "stdout",
     "output_type": "stream",
     "text": [
      "{1, 2, 3, 4, 8}\n"
     ]
    }
   ],
   "source": [
    "list = [3,4,3,2,1,2,3,7,8,7]\n",
    "myset = set(list)\n",
    "myset.remove(7)\n",
    "print(myset)"
   ]
  },
  {
   "cell_type": "code",
   "execution_count": 10,
   "metadata": {},
   "outputs": [
    {
     "name": "stdout",
     "output_type": "stream",
     "text": [
      "{1, 2, 3, 4, 7, 8}\n",
      "{2, 3, 4, 7, 8}\n"
     ]
    }
   ],
   "source": [
    "list = [3,4,3,2,1,2,3,7,8,7]\n",
    "myset = set(list)\n",
    "print(myset)\n",
    "myset.pop()\n",
    "print(myset)"
   ]
  },
  {
   "cell_type": "code",
   "execution_count": 11,
   "metadata": {},
   "outputs": [
    {
     "name": "stdout",
     "output_type": "stream",
     "text": [
      "{2, 3, 4, 11, 17, 19}\n"
     ]
    }
   ],
   "source": [
    "''' union '''\n",
    "set1 = ({2,3,4,11})\n",
    "set2 = ({4,2,19,17})\n",
    "set3 = set1.union(set2)\n",
    "print(set3)"
   ]
  },
  {
   "cell_type": "code",
   "execution_count": 12,
   "metadata": {},
   "outputs": [
    {
     "name": "stdout",
     "output_type": "stream",
     "text": [
      "{2, 4}\n"
     ]
    }
   ],
   "source": [
    "'''' intersection '''\n",
    "set1 = ({2,3,4,11})\n",
    "set2 = ({4,2,19,17})\n",
    "set3 = set1 & set2\n",
    "print(set3)"
   ]
  },
  {
   "cell_type": "code",
   "execution_count": 13,
   "metadata": {},
   "outputs": [
    {
     "name": "stdout",
     "output_type": "stream",
     "text": [
      "{2, 4}\n"
     ]
    }
   ],
   "source": [
    "'''' intersection '''\n",
    "set1 = ({2,3,4,11})\n",
    "set2 = ({4,2,19,17})\n",
    "set3 = set1.intersection(set2)\n",
    "print(set3)"
   ]
  },
  {
   "cell_type": "code",
   "execution_count": 14,
   "metadata": {},
   "outputs": [
    {
     "name": "stdout",
     "output_type": "stream",
     "text": [
      "{11, 3}\n"
     ]
    }
   ],
   "source": [
    "'''' intersection '''\n",
    "set1 = ({2,3,4,11})\n",
    "set2 = ({4,2,19,17})\n",
    "set3 = set1 - set2\n",
    "print(set3)"
   ]
  },
  {
   "cell_type": "code",
   "execution_count": 15,
   "metadata": {},
   "outputs": [
    {
     "name": "stdout",
     "output_type": "stream",
     "text": [
      "<class 'tuple'>\n"
     ]
    }
   ],
   "source": [
    "''' tuple '''\n",
    "a = (1,2,3,4)\n",
    "print(type(a))"
   ]
  },
  {
   "cell_type": "code",
   "execution_count": 16,
   "metadata": {},
   "outputs": [
    {
     "name": "stdout",
     "output_type": "stream",
     "text": [
      "4\n"
     ]
    }
   ],
   "source": [
    "list = [1,2,3]\n",
    "a = tuple(list)\n",
    "b = (1,2,3, [4,5,6])\n",
    "print(len(b))"
   ]
  },
  {
   "cell_type": "code",
   "execution_count": 17,
   "metadata": {},
   "outputs": [
    {
     "name": "stdout",
     "output_type": "stream",
     "text": [
      "6\n"
     ]
    }
   ],
   "source": [
    "list = [1,1,2,1,2,1,3,2,3]\n",
    "a = tuple(list)\n",
    "print(a.index(3))"
   ]
  },
  {
   "cell_type": "code",
   "execution_count": 18,
   "metadata": {},
   "outputs": [
    {
     "name": "stdout",
     "output_type": "stream",
     "text": [
      "False\n",
      "True\n"
     ]
    }
   ],
   "source": [
    "list = [1,1,2,1,2,1,3,2,3]\n",
    "a = tuple(list)\n",
    "print(4 in a)\n",
    "print(3 in a)"
   ]
  },
  {
   "cell_type": "code",
   "execution_count": 23,
   "metadata": {},
   "outputs": [
    {
     "name": "stdout",
     "output_type": "stream",
     "text": [
      "{'name': 'Naman', 'age': 23, 3: 'three'}\n",
      "three\n",
      "dict_values(['Naman', 23, 'three'])\n",
      "dict_keys(['name', 'age', 3])\n",
      "three\n"
     ]
    }
   ],
   "source": [
    "''' dictionary '''\n",
    "dictionary = {'name':'Naman', 'age':23, 3:'three'}\n",
    "print(dictionary)\n",
    "print(dictionary.get(3))\n",
    "print(dictionary.values())\n",
    "print(dictionary.keys())\n",
    "print(dictionary.pop(3))"
   ]
  },
  {
   "cell_type": "code",
   "execution_count": 25,
   "metadata": {},
   "outputs": [
    {
     "name": "stdout",
     "output_type": "stream",
     "text": [
      "name\n",
      "age\n",
      "3\n",
      "{}\n"
     ]
    }
   ],
   "source": [
    "dictionary = {'name':'Naman', 'age':23, 3:'three'}\n",
    "for item in dictionary.keys():\n",
    "    print(item)\n",
    "dictionary.clear()\n",
    "print(dictionary)"
   ]
  }
 ],
 "metadata": {
  "kernelspec": {
   "display_name": "Python 3",
   "language": "python",
   "name": "python3"
  },
  "language_info": {
   "codemirror_mode": {
    "name": "ipython",
    "version": 3
   },
   "file_extension": ".py",
   "mimetype": "text/x-python",
   "name": "python",
   "nbconvert_exporter": "python",
   "pygments_lexer": "ipython3",
   "version": "3.10.5"
  },
  "orig_nbformat": 4
 },
 "nbformat": 4,
 "nbformat_minor": 2
}
