{
 "cells": [
  {
   "cell_type": "code",
   "execution_count": null,
   "metadata": {},
   "outputs": [],
   "source": [
    "def sum(a,b):\n",
    "    return a+b\n",
    "print(sum(1,2))"
   ]
  },
  {
   "attachments": {},
   "cell_type": "markdown",
   "metadata": {},
   "source": [
    "__arbility arguments args__"
   ]
  },
  {
   "cell_type": "code",
   "execution_count": null,
   "metadata": {},
   "outputs": [],
   "source": [
    "def sum(*params):\n",
    "    ans = 0\n",
    "    for i in params:\n",
    "        ans+=i\n",
    "    return ans\n",
    "print(sum(2,3,4,5,6,7))\n",
    "print(sum(1,2))"
   ]
  },
  {
   "cell_type": "code",
   "execution_count": null,
   "metadata": {},
   "outputs": [],
   "source": [
    "def sum(*parms):\n",
    "    print(type(parms))\n",
    "    ans = 0\n",
    "    for i in range(0,len(parms)):\n",
    "        ans += parms[i]\n",
    "    return ans\n",
    "print(sum(2,3,4,5,6,7))"
   ]
  },
  {
   "cell_type": "code",
   "execution_count": null,
   "metadata": {},
   "outputs": [],
   "source": [
    "''' default arguments '''\n",
    "def sum(a,b=11):\n",
    "    return a+b\n",
    "print(sum(1))\n",
    "\n",
    "def sum(a,b=11,d=11):\n",
    "    return a+b\n",
    "print(sum(1))"
   ]
  },
  {
   "attachments": {},
   "cell_type": "markdown",
   "metadata": {},
   "source": [
    "function using list and string arguments"
   ]
  },
  {
   "cell_type": "code",
   "execution_count": null,
   "metadata": {},
   "outputs": [],
   "source": [
    "def fun(l):\n",
    "    l[0]=-1\n",
    "    print('in function', end=' ')\n",
    "    print(l)\n",
    "lst=[1,2,3,4]\n",
    "fun(lst)\n",
    "print('out of function', end=' ')\n",
    "print(lst)"
   ]
  },
  {
   "cell_type": "code",
   "execution_count": null,
   "metadata": {},
   "outputs": [],
   "source": [
    "def fun(l):\n",
    "    l=-1\n",
    "    print('in function', end=' ')\n",
    "    print(l)\n",
    "a = 10\n",
    "fun(a)\n",
    "print('out of function', end=' ')\n",
    "print(a)"
   ]
  },
  {
   "cell_type": "code",
   "execution_count": null,
   "metadata": {},
   "outputs": [],
   "source": [
    "def fun(s):\n",
    "    s[0]='g'\n",
    "    print('in function', end=' ')\n",
    "    print(s)\n",
    "s = 'coding'\n",
    "fun(s)\n",
    "print('out of function', end=' ')\n",
    "print(s)"
   ]
  },
  {
   "cell_type": "code",
   "execution_count": 20,
   "metadata": {},
   "outputs": [
    {
     "name": "stdout",
     "output_type": "stream",
     "text": [
      "120\n"
     ]
    }
   ],
   "source": [
    "''' factorial function '''\n",
    "def factorial(n):\n",
    "    ans=1\n",
    "    for i in range(1,n+1):\n",
    "        ans*=i\n",
    "    return ans\n",
    "print(factorial(5))"
   ]
  }
 ],
 "metadata": {
  "kernelspec": {
   "display_name": "Python 3",
   "language": "python",
   "name": "python3"
  },
  "language_info": {
   "codemirror_mode": {
    "name": "ipython",
    "version": 3
   },
   "file_extension": ".py",
   "mimetype": "text/x-python",
   "name": "python",
   "nbconvert_exporter": "python",
   "pygments_lexer": "ipython3",
   "version": "3.10.5"
  },
  "orig_nbformat": 4
 },
 "nbformat": 4,
 "nbformat_minor": 2
}
