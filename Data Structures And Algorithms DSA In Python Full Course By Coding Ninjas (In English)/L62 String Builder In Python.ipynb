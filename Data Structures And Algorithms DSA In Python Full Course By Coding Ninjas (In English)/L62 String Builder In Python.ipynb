{
 "cells": [
  {
   "attachments": {},
   "cell_type": "markdown",
   "metadata": {},
   "source": [
    "string builder using join()"
   ]
  },
  {
   "cell_type": "code",
   "execution_count": 1,
   "metadata": {},
   "outputs": [
    {
     "name": "stdout",
     "output_type": "stream",
     "text": [
      "apple>banana>orange\n",
      "apple>banana>orange\n",
      "apple>banana>orange\n"
     ]
    }
   ],
   "source": [
    "a = ['apple','banana','orange']\n",
    "b = '>'\n",
    "for i in range(3):\n",
    "    print(b.join(a))"
   ]
  },
  {
   "cell_type": "code",
   "execution_count": 3,
   "metadata": {},
   "outputs": [
    {
     "name": "stdout",
     "output_type": "stream",
     "text": [
      "coding ninjas\n"
     ]
    }
   ],
   "source": [
    "str1 = 'coding '\n",
    "str2 = 'ninjas'\n",
    "print(str1 + str2)"
   ]
  },
  {
   "attachments": {},
   "cell_type": "markdown",
   "metadata": {},
   "source": [
    "string builder using append()"
   ]
  },
  {
   "cell_type": "code",
   "execution_count": 4,
   "metadata": {},
   "outputs": [
    {
     "name": "stdout",
     "output_type": "stream",
     "text": [
      "coding ninjas\n"
     ]
    }
   ],
   "source": [
    "str1 = 'coding '\n",
    "str1 += 'ninjas'\n",
    "print(str1)"
   ]
  },
  {
   "attachments": {},
   "cell_type": "markdown",
   "metadata": {},
   "source": [
    "string buikder using string I/O module"
   ]
  },
  {
   "cell_type": "code",
   "execution_count": 5,
   "metadata": {},
   "outputs": [
    {
     "name": "stdout",
     "output_type": "stream",
     "text": [
      "hiwelcometocoding ninjas\n"
     ]
    }
   ],
   "source": [
    "from io import StringIO\n",
    "a = ['hi','welcome','to','coding ninjas']\n",
    "string = StringIO()\n",
    "for i in a:\n",
    "    string.write(i)\n",
    "print(string.getvalue())"
   ]
  },
  {
   "cell_type": "code",
   "execution_count": 7,
   "metadata": {},
   "outputs": [
    {
     "ename": "TypeError",
     "evalue": "descriptor 'write' for '_io.StringIO' objects doesn't apply to a 'str' object",
     "output_type": "error",
     "traceback": [
      "\u001b[1;31m---------------------------------------------------------------------------\u001b[0m",
      "\u001b[1;31mTypeError\u001b[0m                                 Traceback (most recent call last)",
      "Cell \u001b[1;32mIn[7], line 12\u001b[0m\n\u001b[0;32m     10\u001b[0m a \u001b[39m=\u001b[39m \u001b[39minput\u001b[39m(\u001b[39m'\u001b[39m\u001b[39menter your name: \u001b[39m\u001b[39m'\u001b[39m)\n\u001b[0;32m     11\u001b[0m string_builder \u001b[39m=\u001b[39m StringBuilder()\n\u001b[1;32m---> 12\u001b[0m string_builder\u001b[39m.\u001b[39;49mAdd(\u001b[39m'\u001b[39;49m\u001b[39mWelcome \u001b[39;49m\u001b[39m'\u001b[39;49m)\n\u001b[0;32m     13\u001b[0m string_builder\u001b[39m.\u001b[39mAdd(\u001b[39m'\u001b[39m\u001b[39mMr/Ms/Mrs.\u001b[39m\u001b[39m'\u001b[39m)\n\u001b[0;32m     14\u001b[0m string_builder\u001b[39m.\u001b[39mAdd(a)\n",
      "Cell \u001b[1;32mIn[7], line 7\u001b[0m, in \u001b[0;36mStringBuilder.Add\u001b[1;34m(self, str)\u001b[0m\n\u001b[0;32m      6\u001b[0m \u001b[39mdef\u001b[39;00m \u001b[39mAdd\u001b[39m(\u001b[39mself\u001b[39m,\u001b[39mstr\u001b[39m):\n\u001b[1;32m----> 7\u001b[0m     \u001b[39mself\u001b[39;49m\u001b[39m.\u001b[39;49mstring\u001b[39m.\u001b[39;49mwrite(\u001b[39mstr\u001b[39;49m)\n",
      "\u001b[1;31mTypeError\u001b[0m: descriptor 'write' for '_io.StringIO' objects doesn't apply to a 'str' object"
     ]
    }
   ],
   "source": [
    "from io import StringIO\n",
    "class StringBuilder:\n",
    "    string = None\n",
    "    def __init__(self) -> None:\n",
    "        self.string = StringIO\n",
    "    def Add(self,str):\n",
    "        self.string.write(str)\n",
    "    def __str__(self) -> str:\n",
    "        return self.string.getvalue()\n",
    "a = input('enter your name: ')\n",
    "string_builder = StringBuilder()\n",
    "string_builder.Add('Welcome ')\n",
    "string_builder.Add('Mr/Ms/Mrs.')\n",
    "string_builder.Add(a)\n",
    "print(string_builder)"
   ]
  }
 ],
 "metadata": {
  "kernelspec": {
   "display_name": "Python 3",
   "language": "python",
   "name": "python3"
  },
  "language_info": {
   "codemirror_mode": {
    "name": "ipython",
    "version": 3
   },
   "file_extension": ".py",
   "mimetype": "text/x-python",
   "name": "python",
   "nbconvert_exporter": "python",
   "pygments_lexer": "ipython3",
   "version": "3.10.5"
  },
  "orig_nbformat": 4
 },
 "nbformat": 4,
 "nbformat_minor": 2
}
