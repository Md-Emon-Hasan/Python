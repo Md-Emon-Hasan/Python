{
 "cells": [
  {
   "attachments": {},
   "cell_type": "markdown",
   "metadata": {},
   "source": [
    "inner class"
   ]
  },
  {
   "cell_type": "code",
   "execution_count": null,
   "metadata": {},
   "outputs": [],
   "source": [
    "class outer:\n",
    "    class inner:\n",
    "        pass\n",
    "        class innrInner:\n",
    "            pass\n",
    "    class Inner:\n",
    "        pass\n",
    "pass"
   ]
  },
  {
   "attachments": {},
   "cell_type": "markdown",
   "metadata": {},
   "source": [
    "creating nested class"
   ]
  },
  {
   "cell_type": "code",
   "execution_count": 3,
   "metadata": {},
   "outputs": [
    {
     "name": "stdout",
     "output_type": "stream",
     "text": [
      "Language python\n",
      "type high level\n",
      "founded in 1991\n"
     ]
    }
   ],
   "source": [
    "class language:\n",
    "    def __init__(self) -> None:\n",
    "        self.language = 'python'\n",
    "        self.lg = self.specification()\n",
    "    def show(self):\n",
    "        print('Language',self.language)\n",
    "    class specification:\n",
    "        def __init__(self) -> None:\n",
    "            self.type = 'high level'\n",
    "            self.founded = '1991'\n",
    "        def display(self):\n",
    "            print('type',self.type)\n",
    "            print('founded in',self.founded)\n",
    "out = language()\n",
    "out.show()\n",
    "ppool = out.lg\n",
    "ppool.display()"
   ]
  },
  {
   "attachments": {},
   "cell_type": "markdown",
   "metadata": {},
   "source": [
    "types of inner class"
   ]
  },
  {
   "cell_type": "code",
   "execution_count": 6,
   "metadata": {},
   "outputs": [
    {
     "ename": "AttributeError",
     "evalue": "'Outer' object has no attribute 'Inner'",
     "output_type": "error",
     "traceback": [
      "\u001b[1;31m---------------------------------------------------------------------------\u001b[0m",
      "\u001b[1;31mAttributeError\u001b[0m                            Traceback (most recent call last)",
      "Cell \u001b[1;32mIn[6], line 17\u001b[0m\n\u001b[0;32m     15\u001b[0m         \u001b[39mprint\u001b[39m(\u001b[39m'\u001b[39m\u001b[39mthis is _Inner class\u001b[39m\u001b[39m'\u001b[39m)\n\u001b[0;32m     16\u001b[0m         \u001b[39mprint\u001b[39m(msg)\n\u001b[1;32m---> 17\u001b[0m outer \u001b[39m=\u001b[39m Outer()\n\u001b[0;32m     18\u001b[0m inner \u001b[39m=\u001b[39m outer\u001b[39m.\u001b[39mInner()\n\u001b[0;32m     19\u001b[0m _inner \u001b[39m=\u001b[39m outer\u001b[39m.\u001b[39m_Inner()\n",
      "Cell \u001b[1;32mIn[6], line 3\u001b[0m, in \u001b[0;36mOuter.__init__\u001b[1;34m(self)\u001b[0m\n\u001b[0;32m      2\u001b[0m \u001b[39mdef\u001b[39;00m \u001b[39m__init__\u001b[39m(\u001b[39mself\u001b[39m) \u001b[39m-\u001b[39m\u001b[39m>\u001b[39m \u001b[39mNone\u001b[39;00m:\n\u001b[1;32m----> 3\u001b[0m     \u001b[39mself\u001b[39m\u001b[39m.\u001b[39minner \u001b[39m=\u001b[39m \u001b[39mself\u001b[39;49m\u001b[39m.\u001b[39;49mInner()\n\u001b[0;32m      4\u001b[0m     \u001b[39mself\u001b[39m\u001b[39m.\u001b[39m_inner \u001b[39m=\u001b[39m \u001b[39mself\u001b[39m\u001b[39m.\u001b[39m_Inner()\n",
      "\u001b[1;31mAttributeError\u001b[0m: 'Outer' object has no attribute 'Inner'"
     ]
    }
   ],
   "source": [
    "class Outer:\n",
    "    def __init__(self) -> None:\n",
    "        self.inner = self.Inner()\n",
    "        self._inner = self._Inner()\n",
    "    def show_classes(self):\n",
    "        print('this is outer class')\n",
    "        print(inner)\n",
    "        print(_inner)\n",
    "class Inner:\n",
    "    def inner_display(self,msg):\n",
    "        print('this is Inner class')\n",
    "        print(msg)\n",
    "class _Inner:\n",
    "    def inner_display(self,msg):\n",
    "        print('this is _Inner class')\n",
    "        print(msg)\n",
    "outer = Outer()\n",
    "inner = outer.Inner()\n",
    "_inner = outer._Inner()\n",
    "outer.show_classes()\n",
    "print()\n",
    "inner.inner_display('just print')\n",
    "print()\n",
    "_inner.inner_display('print it')"
   ]
  },
  {
   "cell_type": "code",
   "execution_count": 11,
   "metadata": {},
   "outputs": [
    {
     "ename": "AttributeError",
     "evalue": "'Outer' object has no attribute 'Inner'",
     "output_type": "error",
     "traceback": [
      "\u001b[1;31m---------------------------------------------------------------------------\u001b[0m",
      "\u001b[1;31mAttributeError\u001b[0m                            Traceback (most recent call last)",
      "Cell \u001b[1;32mIn[11], line 24\u001b[0m\n\u001b[0;32m     22\u001b[0m             \u001b[39mprint\u001b[39m(\u001b[39m'\u001b[39m\u001b[39mthis is inner class\u001b[39m\u001b[39m'\u001b[39m)\n\u001b[0;32m     23\u001b[0m             \u001b[39mprint\u001b[39m(msg)\n\u001b[1;32m---> 24\u001b[0m outer \u001b[39m=\u001b[39m Outer()\n\u001b[0;32m     25\u001b[0m inner \u001b[39m=\u001b[39m outer\u001b[39m.\u001b[39mInner()\n\u001b[0;32m     26\u001b[0m innerinner \u001b[39m=\u001b[39m inner\u001b[39m.\u001b[39mInnerInner()\n",
      "Cell \u001b[1;32mIn[11], line 3\u001b[0m, in \u001b[0;36mOuter.__init__\u001b[1;34m(self)\u001b[0m\n\u001b[0;32m      2\u001b[0m \u001b[39mdef\u001b[39;00m \u001b[39m__init__\u001b[39m(\u001b[39mself\u001b[39m) \u001b[39m-\u001b[39m\u001b[39m>\u001b[39m \u001b[39mNone\u001b[39;00m:\n\u001b[1;32m----> 3\u001b[0m     \u001b[39mself\u001b[39m\u001b[39m.\u001b[39minner \u001b[39m=\u001b[39m \u001b[39mself\u001b[39;49m\u001b[39m.\u001b[39;49mInner()\n\u001b[0;32m      4\u001b[0m     \u001b[39mself\u001b[39m\u001b[39m.\u001b[39minnerinner \u001b[39m=\u001b[39m \u001b[39mself\u001b[39m\u001b[39m.\u001b[39minner\u001b[39m.\u001b[39minnerInner()\n",
      "\u001b[1;31mAttributeError\u001b[0m: 'Outer' object has no attribute 'Inner'"
     ]
    }
   ],
   "source": [
    "class Outer:\n",
    "    def __init__(self) -> None:\n",
    "        self.inner = self.Inner()\n",
    "        self.innerinner = self.inner.innerInner()\n",
    "    def show_classes(self):\n",
    "        print('this is outer class')\n",
    "        print(inner)\n",
    "class Inner:\n",
    "    def __init__(self) -> None:\n",
    "        self.innerinner = self.InnerInner()\n",
    "    def show_classes(self):\n",
    "        print('this is Inner class')\n",
    "        print(self.innerinner)\n",
    "    def show_classes(self):\n",
    "        print('this is Inner class')\n",
    "        print(self.innerinner)\n",
    "    class InnerInner:\n",
    "        def inner_display(self, msg):\n",
    "            print('thsi is multilevel InnerInner class')\n",
    "            print(msg)\n",
    "        def inner_display(self,msg):\n",
    "            print('this is inner class')\n",
    "            print(msg)\n",
    "outer = Outer()\n",
    "inner = outer.Inner()\n",
    "innerinner = inner.InnerInner()\n",
    "innerinner.inner_display('just print it!!!')"
   ]
  }
 ],
 "metadata": {
  "kernelspec": {
   "display_name": "Python 3",
   "language": "python",
   "name": "python3"
  },
  "language_info": {
   "codemirror_mode": {
    "name": "ipython",
    "version": 3
   },
   "file_extension": ".py",
   "mimetype": "text/x-python",
   "name": "python",
   "nbconvert_exporter": "python",
   "pygments_lexer": "ipython3",
   "version": "3.10.5"
  },
  "orig_nbformat": 4
 },
 "nbformat": 4,
 "nbformat_minor": 2
}
