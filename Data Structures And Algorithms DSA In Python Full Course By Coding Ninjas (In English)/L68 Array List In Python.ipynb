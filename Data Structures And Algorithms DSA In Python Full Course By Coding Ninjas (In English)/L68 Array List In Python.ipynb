{
 "cells": [
  {
   "cell_type": "code",
   "execution_count": 3,
   "metadata": {},
   "outputs": [
    {
     "name": "stdout",
     "output_type": "stream",
     "text": [
      "['a', 'b', 0, 1.5, [10, 20, 30, 40], 'coding ninjas']\n",
      "[10, 20, 30, 40]\n",
      "a\n",
      "coding ninjas\n"
     ]
    }
   ],
   "source": [
    "lst = ['a','b',0,1.5,[10,20,30,40],'coding ninjas']\n",
    "print(lst)\n",
    "print(lst[4])\n",
    "print(lst[0])\n",
    "print(lst[-1])"
   ]
  },
  {
   "attachments": {},
   "cell_type": "markdown",
   "metadata": {},
   "source": [
    "deletion list length and nested lists"
   ]
  },
  {
   "cell_type": "code",
   "execution_count": 4,
   "metadata": {},
   "outputs": [
    {
     "name": "stdout",
     "output_type": "stream",
     "text": [
      "['a', 'b', 0, 1.5, 'coding ninjas']\n"
     ]
    }
   ],
   "source": [
    "lst = ['a','b',0,1.5,[10,20,30,40],'coding ninjas']\n",
    "del lst[4]\n",
    "print(lst)"
   ]
  },
  {
   "cell_type": "code",
   "execution_count": 5,
   "metadata": {},
   "outputs": [
    {
     "name": "stdout",
     "output_type": "stream",
     "text": [
      "['a', 'b', 0, 'coding ninjas']\n"
     ]
    }
   ],
   "source": [
    "lst = ['a','b',0,1.5,[10,20,30,40],'coding ninjas']\n",
    "del lst[3:5]\n",
    "print(lst)"
   ]
  },
  {
   "cell_type": "code",
   "execution_count": 7,
   "metadata": {},
   "outputs": [
    {
     "name": "stdout",
     "output_type": "stream",
     "text": [
      "['a', 'b', 0, 1.5, [10, 20, 30, 40], 'coding ninjas']\n",
      "['a', 'b', 1.5, [10, 20, 30, 40], 'coding ninjas']\n"
     ]
    }
   ],
   "source": [
    "lst = ['a','b',0,1.5,[10,20,30,40],'coding ninjas']\n",
    "print(lst)\n",
    "lst.remove(0)\n",
    "print(lst)"
   ]
  },
  {
   "cell_type": "code",
   "execution_count": 9,
   "metadata": {},
   "outputs": [
    {
     "name": "stdout",
     "output_type": "stream",
     "text": [
      "[]\n"
     ]
    }
   ],
   "source": [
    "lst = ['a','b',0,1.5,[10,20,30,40],'coding ninjas']\n",
    "lst.clear()\n",
    "print(lst)"
   ]
  },
  {
   "cell_type": "code",
   "execution_count": 10,
   "metadata": {},
   "outputs": [
    {
     "name": "stdout",
     "output_type": "stream",
     "text": [
      "6\n"
     ]
    }
   ],
   "source": [
    "lst = ['a','b',0,1.5,[10,20,30,40],'coding ninjas']\n",
    "print(len(lst))"
   ]
  },
  {
   "cell_type": "code",
   "execution_count": 11,
   "metadata": {},
   "outputs": [
    {
     "name": "stdout",
     "output_type": "stream",
     "text": [
      "30\n"
     ]
    }
   ],
   "source": [
    "lst = ['a','b',0,1.5,[10,20,30,40],'coding ninjas']\n",
    "print(lst[4][2])"
   ]
  },
  {
   "cell_type": "code",
   "execution_count": 12,
   "metadata": {},
   "outputs": [
    {
     "name": "stdout",
     "output_type": "stream",
     "text": [
      "['a', 'b', 0, 1.5, 'updated', 'coding ninjas']\n"
     ]
    }
   ],
   "source": [
    "lst = ['a','b',0,1.5,[10,20,30,40],'coding ninjas']\n",
    "lst[4] = 'updated'\n",
    "print(lst)"
   ]
  },
  {
   "cell_type": "code",
   "execution_count": 13,
   "metadata": {},
   "outputs": [
    {
     "name": "stdout",
     "output_type": "stream",
     "text": [
      "['a', 'b', 0, 1.5, [10, 20, 30, 40], 'coding ninjas', 'hello']\n"
     ]
    }
   ],
   "source": [
    "lst = ['a','b',0,1.5,[10,20,30,40],'coding ninjas']\n",
    "lst.append('hello')\n",
    "print(lst)"
   ]
  },
  {
   "cell_type": "code",
   "execution_count": 14,
   "metadata": {},
   "outputs": [
    {
     "name": "stdout",
     "output_type": "stream",
     "text": [
      "['hello', 'a', 'b', 0, 1.5, [10, 20, 30, 40], 'coding ninjas']\n"
     ]
    }
   ],
   "source": [
    "lst = ['a','b',0,1.5,[10,20,30,40],'coding ninjas']\n",
    "lst.insert(0,'hello')\n",
    "print(lst)"
   ]
  }
 ],
 "metadata": {
  "kernelspec": {
   "display_name": "Python 3",
   "language": "python",
   "name": "python3"
  },
  "language_info": {
   "codemirror_mode": {
    "name": "ipython",
    "version": 3
   },
   "file_extension": ".py",
   "mimetype": "text/x-python",
   "name": "python",
   "nbconvert_exporter": "python",
   "pygments_lexer": "ipython3",
   "version": "3.10.5"
  },
  "orig_nbformat": 4
 },
 "nbformat": 4,
 "nbformat_minor": 2
}
