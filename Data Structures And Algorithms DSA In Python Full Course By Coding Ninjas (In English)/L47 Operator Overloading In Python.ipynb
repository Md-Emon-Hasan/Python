{
 "cells": [
  {
   "attachments": {},
   "cell_type": "markdown",
   "metadata": {},
   "source": [
    "what is operator overloading"
   ]
  },
  {
   "cell_type": "code",
   "execution_count": 1,
   "metadata": {},
   "outputs": [
    {
     "name": "stdout",
     "output_type": "stream",
     "text": [
      "3\n",
      "codingsninjas\n",
      "12\n",
      "hellohellohello\n"
     ]
    }
   ],
   "source": [
    "print(1+2)\n",
    "print('codings'+'ninjas')\n",
    "print(3*4)\n",
    "print(3*'hello')"
   ]
  },
  {
   "attachments": {},
   "cell_type": "markdown",
   "metadata": {},
   "source": [
    "important features of operaotr overloading"
   ]
  },
  {
   "cell_type": "code",
   "execution_count": 2,
   "metadata": {},
   "outputs": [
    {
     "ename": "NameError",
     "evalue": "name 'Complex_number' is not defined",
     "output_type": "error",
     "traceback": [
      "\u001b[1;31m---------------------------------------------------------------------------\u001b[0m",
      "\u001b[1;31mNameError\u001b[0m                                 Traceback (most recent call last)",
      "Cell \u001b[1;32mIn[2], line 5\u001b[0m\n\u001b[0;32m      3\u001b[0m         \u001b[39mself\u001b[39m\u001b[39m.\u001b[39mreal \u001b[39m=\u001b[39m real\n\u001b[0;32m      4\u001b[0m         \u001b[39mself\u001b[39m\u001b[39m.\u001b[39mimaginary \u001b[39m=\u001b[39m imaginary\n\u001b[1;32m----> 5\u001b[0m complex_number1 \u001b[39m=\u001b[39m Complex_number(\u001b[39m1\u001b[39m,\u001b[39m2\u001b[39m)\n\u001b[0;32m      6\u001b[0m complex_number2 \u001b[39m=\u001b[39m Complex_number(\u001b[39m3\u001b[39m,\u001b[39m4\u001b[39m)\n\u001b[0;32m      7\u001b[0m \u001b[39mprint\u001b[39m(complex_number1 \u001b[39m+\u001b[39m complex_number2)\n",
      "\u001b[1;31mNameError\u001b[0m: name 'Complex_number' is not defined"
     ]
    }
   ],
   "source": [
    "class ComplexNumber():\n",
    "    def __init__(self,real,imaginary) -> None:\n",
    "        self.real = real\n",
    "        self.imaginary = imaginary\n",
    "complex_number1 = Complex_number(1,2)\n",
    "complex_number2 = Complex_number(3,4)\n",
    "print(complex_number1 + complex_number2)"
   ]
  },
  {
   "attachments": {},
   "cell_type": "markdown",
   "metadata": {},
   "source": [
    "example of different begaviour of '+' oprraotr"
   ]
  },
  {
   "cell_type": "code",
   "execution_count": 4,
   "metadata": {},
   "outputs": [
    {
     "name": "stdout",
     "output_type": "stream",
     "text": [
      "5\n",
      "codingninjas\n",
      "[1, 2, 3, 4, 5, 6]\n"
     ]
    }
   ],
   "source": [
    "print(2+3)\n",
    "print('coding'+'ninjas')\n",
    "a = [1,2,3]\n",
    "b = [4,5,6]\n",
    "print(a+b)"
   ]
  },
  {
   "attachments": {},
   "cell_type": "markdown",
   "metadata": {},
   "source": [
    "magic methods in python"
   ]
  },
  {
   "cell_type": "code",
   "execution_count": 11,
   "metadata": {},
   "outputs": [
    {
     "ename": "TypeError",
     "evalue": "'<' not supported between instances of 'ComplexNumber' and 'ComplexNumber'",
     "output_type": "error",
     "traceback": [
      "\u001b[1;31m---------------------------------------------------------------------------\u001b[0m",
      "\u001b[1;31mTypeError\u001b[0m                                 Traceback (most recent call last)",
      "Cell \u001b[1;32mIn[11], line 19\u001b[0m\n\u001b[0;32m     17\u001b[0m complex_number1 \u001b[39m=\u001b[39m ComplexNumber(\u001b[39m1\u001b[39m,\u001b[39m2\u001b[39m)\n\u001b[0;32m     18\u001b[0m complex_number2 \u001b[39m=\u001b[39m ComplexNumber(\u001b[39m3\u001b[39m,\u001b[39m4\u001b[39m)\n\u001b[1;32m---> 19\u001b[0m \u001b[39mif\u001b[39;00m (complex_number1 \u001b[39m<\u001b[39;49m complex_number2):\n\u001b[0;32m     20\u001b[0m     \u001b[39mprint\u001b[39m(\u001b[39mf\u001b[39m\u001b[39m'\u001b[39m\u001b[39mcomplex number:(\u001b[39m\u001b[39m{\u001b[39;00mcomplex_number1\u001b[39m}\u001b[39;00m\u001b[39m) is less then the complex number:(\u001b[39m\u001b[39m{\u001b[39;00mcomplex_number2\u001b[39m}\u001b[39;00m\u001b[39m)\u001b[39m\u001b[39m'\u001b[39m)\n\u001b[0;32m     21\u001b[0m \u001b[39melse\u001b[39;00m:\n",
      "\u001b[1;31mTypeError\u001b[0m: '<' not supported between instances of 'ComplexNumber' and 'ComplexNumber'"
     ]
    }
   ],
   "source": [
    "class ComplexNumber():\n",
    "    def __init__(self,real,imaginary) -> None:\n",
    "        self.real = real\n",
    "        self.imaginary = imaginary\n",
    "    def __it__(self,complex_number_2):\n",
    "        if self.real < complex_number_2.real:\n",
    "            return True\n",
    "        elif self.real == complex_number_2.real:\n",
    "            if self.imaginary<complex_number_2.imaginary:\n",
    "                return True\n",
    "            else:\n",
    "                return False\n",
    "        else:\n",
    "            return False\n",
    "    def __str__(self) -> str:\n",
    "        return str(self.real)+ ' + ' +str(self.imaginary)+'i'\n",
    "complex_number1 = ComplexNumber(1,2)\n",
    "complex_number2 = ComplexNumber(3,4)\n",
    "if (complex_number1 < complex_number2):\n",
    "    print(f'complex number:({complex_number1}) is less then the complex number:({complex_number2})')\n",
    "else:\n",
    "    print(f'complex number:({complex_number1}) is not less then the complex number:({complex_number2})')\n"
   ]
  },
  {
   "cell_type": "code",
   "execution_count": 13,
   "metadata": {},
   "outputs": [
    {
     "name": "stdout",
     "output_type": "stream",
     "text": [
      "the sum of two complex number is  4 + 6i\n"
     ]
    }
   ],
   "source": [
    "class ComplexNumber():\n",
    "    def __init__(self,real,imaginary) -> None:\n",
    "        self.real = real\n",
    "        self.imaginary = imaginary\n",
    "    def __add__(self,other_complex_number):\n",
    "        real_result = self.real + other_complex_number.real\n",
    "        imaginay_result = self.imaginary + other_complex_number.imaginary\n",
    "        return ComplexNumber(real_result,imaginay_result)\n",
    "    def __str__(self) -> str:\n",
    "        return str(self.real)+ ' + ' +str(self.imaginary)+'i'\n",
    "complex_number1 = ComplexNumber(1,2)\n",
    "complex_number2 = ComplexNumber(3,4)\n",
    "print('the sum of two complex number is ',complex_number1 + complex_number2)"
   ]
  },
  {
   "cell_type": "code",
   "execution_count": null,
   "metadata": {},
   "outputs": [],
   "source": [
    "class ComplexNumber():\n",
    "    def __init__(self,real,imaginary) -> None:\n",
    "        self.real = real\n",
    "        self.imaginary = imaginary\n",
    "    def __add__(self,other_complex_number):\n",
    "        real_result = self.real + other_complex_number.real\n",
    "        imaginay_result = self.imaginary + other_complex_number.imaginary\n",
    "        return ComplexNumber(real_result,imaginay_result)\n",
    "    def __str__(self) -> str:\n",
    "        return str(self.real)+ ' + ' +str(self.imaginary)+'i'\n",
    "complex_number1 = ComplexNumber(1,2)\n",
    "complex_number2 = ComplexNumber(3,4)\n",
    "print('the sum of two complex number is ',complex_number1 + complex_number2)"
   ]
  },
  {
   "attachments": {},
   "cell_type": "markdown",
   "metadata": {},
   "source": [
    "overloading comparison operators"
   ]
  },
  {
   "cell_type": "code",
   "execution_count": 1,
   "metadata": {},
   "outputs": [
    {
     "name": "stdout",
     "output_type": "stream",
     "text": [
      "complex number: (1 + 2i) is not equal (3 + 4i)\n",
      "complex number: (1 + 2i) is lower then or equal (3 + 4i)\n"
     ]
    }
   ],
   "source": [
    "class ComplexNumber():\n",
    "    def __init__(self,real,imaginary) -> None:\n",
    "        self.real = real\n",
    "        self.imaginary = imaginary\n",
    "    def __add__(self,other_complex_number):\n",
    "        real_result = self.real + other_complex_number.real\n",
    "        imaginay_result = self.imaginary + other_complex_number.imaginary\n",
    "        return ComplexNumber(real_result,imaginay_result)\n",
    "    def __str__(self) -> str:\n",
    "        return str(self.real)+ ' + ' +str(self.imaginary)+'i'\n",
    "    def __gt__(self,other_complex_number):\n",
    "        if self.real > other_complex_number.real:\n",
    "            return True\n",
    "        elif self.real == other_complex_number.real:\n",
    "            if self.imaginary > other_complex_number.imaginary:\n",
    "                return True\n",
    "            else:\n",
    "                return False\n",
    "        else:\n",
    "            return False\n",
    "    def __ne__(self,other_complex_number) -> None:\n",
    "        if self.real != other_complex_number.real:\n",
    "            return True\n",
    "        elif self.real == other_complex_number.real:\n",
    "            if self.imaginary != other_complex_number.imaginary:\n",
    "                return True\n",
    "            else:\n",
    "                return False\n",
    "        else:\n",
    "            return False\n",
    "    def __le__(self,other_complex_number) -> None:\n",
    "        if self.real <= other_complex_number.real:\n",
    "            return True\n",
    "        elif self.real == other_complex_number.real:\n",
    "            if self.imaginary <= other_complex_number.imaginary:\n",
    "                return True\n",
    "            else:\n",
    "                return False\n",
    "        else:\n",
    "            return False\n",
    "    def __ge__(self,other_complex_number) -> None:\n",
    "        if self.real >= other_complex_number.real:\n",
    "            return True\n",
    "        elif self.real == other_complex_number.real:\n",
    "            if self.imaginary >= other_complex_number.imaginary:\n",
    "                return True\n",
    "            else:\n",
    "                return False\n",
    "        else:\n",
    "            return False        \n",
    "complex_number1 = ComplexNumber(1,2)\n",
    "complex_number2 = ComplexNumber(3,4)\n",
    "if (complex_number1 > complex_number2):\n",
    "    print(f'complex number: ({complex_number1}) is greater then ({complex_number2})')\n",
    "if (complex_number1 != complex_number2):\n",
    "    print(f'complex number: ({complex_number1}) is not equal ({complex_number2})')\n",
    "if (complex_number1 <= complex_number2):\n",
    "    print(f'complex number: ({complex_number1}) is lower then or equal ({complex_number2})')\n",
    "if (complex_number1 >= complex_number2):\n",
    "    print(f'complex number: ({complex_number1}) is greater then or equal ({complex_number2})')"
   ]
  }
 ],
 "metadata": {
  "kernelspec": {
   "display_name": "Python 3",
   "language": "python",
   "name": "python3"
  },
  "language_info": {
   "codemirror_mode": {
    "name": "ipython",
    "version": 3
   },
   "file_extension": ".py",
   "mimetype": "text/x-python",
   "name": "python",
   "nbconvert_exporter": "python",
   "pygments_lexer": "ipython3",
   "version": "3.10.5"
  },
  "orig_nbformat": 4
 },
 "nbformat": 4,
 "nbformat_minor": 2
}
