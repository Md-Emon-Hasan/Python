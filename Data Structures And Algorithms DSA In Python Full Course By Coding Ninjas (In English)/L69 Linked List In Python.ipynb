{
 "cells": [
  {
   "cell_type": "code",
   "execution_count": 2,
   "metadata": {},
   "outputs": [],
   "source": [
    "# Node class\n",
    "class Node:\n",
    "    # constructor\n",
    "    def __init__(self,data) -> None:\n",
    "        self.data = data # data attribute\n",
    "        self.next = None # next pointer, that points to the next node\n",
    "# linked list class\n",
    "class LinkedList:\n",
    "    # constructor\n",
    "    def __init__(self) -> None:\n",
    "        self.head = None\n",
    "# driver code for linked list\n",
    "myList = LinkedList()\n",
    "first = Node(10)\n",
    "second = Node(20)\n",
    "third = Node(30)\n",
    "myList.head = first # head -> first\n",
    "first.next = second # first -> second\n",
    "second.next = third # second -> third"
   ]
  },
  {
   "cell_type": "code",
   "execution_count": 3,
   "metadata": {},
   "outputs": [
    {
     "name": "stdout",
     "output_type": "stream",
     "text": [
      "10\n",
      "20\n",
      "30\n"
     ]
    }
   ],
   "source": [
    "# Node class\n",
    "class Node:\n",
    "    # constructor\n",
    "    def __init__(self,data) -> None:\n",
    "        self.data = data # data attribute\n",
    "        self.next = None # next pointer, that points to the next node\n",
    "# linked list class\n",
    "class LinkedList:\n",
    "    # constructor\n",
    "    def __init__(self) -> None:\n",
    "        self.head = None\n",
    "    # print data inside linked list\n",
    "    def print(self):\n",
    "        temp = self.head\n",
    "        while(temp != None):\n",
    "            print(temp.data)\n",
    "            temp = temp.next\n",
    "# driver code for linked list\n",
    "myList = LinkedList()\n",
    "first = Node(10)\n",
    "second = Node(20)\n",
    "third = Node(30)\n",
    "myList.head = first # head -> first\n",
    "first.next = second # first -> second\n",
    "second.next = third # second -> third\n",
    "myList.print()"
   ]
  },
  {
   "cell_type": "code",
   "execution_count": null,
   "metadata": {},
   "outputs": [],
   "source": [
    "# Node class\n",
    "class Node:\n",
    "    # constructor\n",
    "    def __init__(self,data) -> None:\n",
    "        self.data = data # data attribute\n",
    "        self.next = None # next pointer, that points to the next node\n",
    "# linked list class\n",
    "class LinkedList:\n",
    "    # constructor\n",
    "    def __init__(self) -> None:\n",
    "        self.head = None\n",
    "    # print data inside linked list\n",
    "    def print(self):\n",
    "        temp = self.head\n",
    "        while(temp != None):\n",
    "            print(temp.data)\n",
    "            temp = temp.next\n",
    "# driver code for linked list\n",
    "myList = LinkedList()\n",
    "first = Node(10)\n",
    "second = Node(20)\n",
    "third = Node(30)\n",
    "myList.head = first # head -> first\n",
    "first.next = second # first -> second\n",
    "second.next = third # second -> third\n",
    "myList.print()"
   ]
  }
 ],
 "metadata": {
  "kernelspec": {
   "display_name": "Python 3",
   "language": "python",
   "name": "python3"
  },
  "language_info": {
   "codemirror_mode": {
    "name": "ipython",
    "version": 3
   },
   "file_extension": ".py",
   "mimetype": "text/x-python",
   "name": "python",
   "nbconvert_exporter": "python",
   "pygments_lexer": "ipython3",
   "version": "3.10.5"
  },
  "orig_nbformat": 4
 },
 "nbformat": 4,
 "nbformat_minor": 2
}
