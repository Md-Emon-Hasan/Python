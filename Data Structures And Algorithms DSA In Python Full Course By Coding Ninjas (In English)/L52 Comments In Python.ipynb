{
 "cells": [
  {
   "cell_type": "code",
   "execution_count": null,
   "metadata": {},
   "outputs": [],
   "source": [
    "# this is single line comment\n",
    "''' this\n",
    "    is\n",
    "    multiline\n",
    "    comments\n",
    "'''\n",
    "\"\"\"\n",
    "    this\n",
    "    is\n",
    "    multiline \n",
    "    comments    \n",
    "\"\"\""
   ]
  }
 ],
 "metadata": {
  "kernelspec": {
   "display_name": "Python 3",
   "language": "python",
   "name": "python3"
  },
  "language_info": {
   "name": "python",
   "version": "3.10.5"
  },
  "orig_nbformat": 4
 },
 "nbformat": 4,
 "nbformat_minor": 2
}
