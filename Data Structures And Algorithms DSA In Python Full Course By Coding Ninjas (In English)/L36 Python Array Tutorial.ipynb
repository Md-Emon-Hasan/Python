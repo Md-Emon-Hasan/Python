{
 "cells": [
  {
   "attachments": {},
   "cell_type": "markdown",
   "metadata": {},
   "source": [
    "list in built function"
   ]
  },
  {
   "cell_type": "code",
   "execution_count": 2,
   "metadata": {},
   "outputs": [
    {
     "name": "stdout",
     "output_type": "stream",
     "text": [
      "7\n",
      "[5, 6, 4, 2, 3, 1, 10]\n",
      "[5, 6, 4, 2, 3, 1, 10, 20]\n"
     ]
    }
   ],
   "source": [
    "a = [5,6,4,2,3,1,10]\n",
    "print(len(a))\n",
    "print(a)\n",
    "a.append(20)\n",
    "print(a)"
   ]
  },
  {
   "cell_type": "code",
   "execution_count": 5,
   "metadata": {},
   "outputs": [
    {
     "name": "stdout",
     "output_type": "stream",
     "text": [
      "[5, 6, 4, 2, 3, 1, 10]\n",
      "[5, 20, 6, 4, 2, 3, 1, 10]\n",
      "[5, 6, 4, 2, 3, 1, 10]\n"
     ]
    }
   ],
   "source": [
    "a = [5,6,4,2,3,1,10]\n",
    "print(a)\n",
    "a.insert(1,20)\n",
    "print(a)\n",
    "a.pop(1)\n",
    "print(a)"
   ]
  },
  {
   "cell_type": "code",
   "execution_count": 6,
   "metadata": {},
   "outputs": [
    {
     "name": "stdout",
     "output_type": "stream",
     "text": [
      "[1, 2, 3, 4, 5, 6, 10]\n"
     ]
    }
   ],
   "source": [
    "a = [5,6,4,2,3,1,10]\n",
    "a.sort()\n",
    "print(a)"
   ]
  },
  {
   "cell_type": "code",
   "execution_count": 7,
   "metadata": {},
   "outputs": [
    {
     "name": "stdout",
     "output_type": "stream",
     "text": [
      "[10, 1, 3, 2, 4, 6, 5]\n"
     ]
    }
   ],
   "source": [
    "a = [5,6,4,2,3,1,10]\n",
    "a.reverse()\n",
    "print(a)"
   ]
  },
  {
   "cell_type": "code",
   "execution_count": 8,
   "metadata": {},
   "outputs": [
    {
     "name": "stdout",
     "output_type": "stream",
     "text": [
      "[5, 6, 4, 2, 3, 1, 10, 31, 30]\n"
     ]
    }
   ],
   "source": [
    "l = [5,6,4,2,3,1,10]\n",
    "a = [31,30]\n",
    "l = l+a\n",
    "print(l)"
   ]
  },
  {
   "cell_type": "code",
   "execution_count": 9,
   "metadata": {},
   "outputs": [
    {
     "name": "stdout",
     "output_type": "stream",
     "text": [
      "5\n",
      "6\n",
      "4\n",
      "2\n",
      "3\n",
      "1\n",
      "10\n"
     ]
    }
   ],
   "source": [
    "a = [5,6,4,2,3,1,10]\n",
    "for i in a:\n",
    "    print(i)"
   ]
  },
  {
   "cell_type": "code",
   "execution_count": 10,
   "metadata": {},
   "outputs": [
    {
     "name": "stdout",
     "output_type": "stream",
     "text": [
      "31\n"
     ]
    }
   ],
   "source": [
    "a = [5,6,4,2,3,1,10]\n",
    "print(max(l))"
   ]
  },
  {
   "attachments": {},
   "cell_type": "markdown",
   "metadata": {},
   "source": [
    "list input"
   ]
  },
  {
   "cell_type": "code",
   "execution_count": 11,
   "metadata": {},
   "outputs": [
    {
     "name": "stdout",
     "output_type": "stream",
     "text": [
      "<class 'int'>\n"
     ]
    }
   ],
   "source": [
    "size = int(input())\n",
    "a = [int(i) for i in input().split()]\n",
    "print(type(a[0]))"
   ]
  },
  {
   "cell_type": "code",
   "execution_count": 12,
   "metadata": {},
   "outputs": [
    {
     "name": "stdout",
     "output_type": "stream",
     "text": [
      "[]\n"
     ]
    }
   ],
   "source": [
    "l = [int(i) for i in input().split()]\n",
    "size = l[0]\n",
    "l = l[1:]\n",
    "print(l)"
   ]
  },
  {
   "attachments": {},
   "cell_type": "markdown",
   "metadata": {},
   "source": [
    "difference odd vs even"
   ]
  },
  {
   "cell_type": "code",
   "execution_count": 13,
   "metadata": {},
   "outputs": [
    {
     "name": "stdout",
     "output_type": "stream",
     "text": [
      "409\n"
     ]
    }
   ],
   "source": [
    "size = int(input())\n",
    "l = []\n",
    "for i in range(size):\n",
    "    l.append(int(input()))\n",
    "even = 0\n",
    "odd = 0\n",
    "for i in l:\n",
    "    if i & 1:\n",
    "        odd += i\n",
    "    else:\n",
    "        even += i\n",
    "print(even - odd)"
   ]
  },
  {
   "attachments": {},
   "cell_type": "markdown",
   "metadata": {},
   "source": [
    "list slicing"
   ]
  },
  {
   "cell_type": "code",
   "execution_count": 15,
   "metadata": {},
   "outputs": [
    {
     "name": "stdout",
     "output_type": "stream",
     "text": [
      "[3, 6, 7, 1, 4]\n",
      "[3, 6]\n"
     ]
    }
   ],
   "source": [
    "l = [5,3,6,7,1,4]\n",
    "print(l[1:])\n",
    "print(l[1:3])"
   ]
  },
  {
   "attachments": {},
   "cell_type": "markdown",
   "metadata": {},
   "source": [
    "mlutidimentional array"
   ]
  },
  {
   "cell_type": "code",
   "execution_count": 17,
   "metadata": {},
   "outputs": [
    {
     "name": "stdout",
     "output_type": "stream",
     "text": [
      "[[1, 2, 3], [0], [10, 20, 21, 23]]\n",
      "0\n"
     ]
    }
   ],
   "source": [
    "l =[\n",
    "    [1,2,3],\n",
    "    [0],\n",
    "    [10,20,21,23]\n",
    "]\n",
    "print(l)\n",
    "print(l[1][0])"
   ]
  },
  {
   "cell_type": "code",
   "execution_count": 18,
   "metadata": {},
   "outputs": [
    {
     "name": "stdout",
     "output_type": "stream",
     "text": [
      "[0, 10, 20]\n"
     ]
    }
   ],
   "source": [
    "a = [\n",
    "    [0,10,20],\n",
    "    [30,40,50],\n",
    "    [60,70,80]\n",
    "]\n",
    "print(a[0:2][0])"
   ]
  },
  {
   "cell_type": "code",
   "execution_count": 19,
   "metadata": {},
   "outputs": [
    {
     "name": "stdout",
     "output_type": "stream",
     "text": [
      "[[0.5, 7], [1, 2], [3, 1, 5]]\n"
     ]
    }
   ],
   "source": [
    "points = [[1,2],[3,1,5],[0.5,7]]\n",
    "points.sort()\n",
    "print(points)"
   ]
  }
 ],
 "metadata": {
  "kernelspec": {
   "display_name": "Python 3",
   "language": "python",
   "name": "python3"
  },
  "language_info": {
   "codemirror_mode": {
    "name": "ipython",
    "version": 3
   },
   "file_extension": ".py",
   "mimetype": "text/x-python",
   "name": "python",
   "nbconvert_exporter": "python",
   "pygments_lexer": "ipython3",
   "version": "3.10.5"
  },
  "orig_nbformat": 4
 },
 "nbformat": 4,
 "nbformat_minor": 2
}
