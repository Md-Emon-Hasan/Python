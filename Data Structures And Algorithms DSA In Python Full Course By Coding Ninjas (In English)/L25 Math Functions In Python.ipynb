{
 "cells": [
  {
   "cell_type": "code",
   "execution_count": 1,
   "metadata": {},
   "outputs": [
    {
     "name": "stdout",
     "output_type": "stream",
     "text": [
      "4.0\n"
     ]
    }
   ],
   "source": [
    "''' square root '''\n",
    "import math\n",
    "a = math.sqrt(16)\n",
    "print(a)"
   ]
  },
  {
   "cell_type": "code",
   "execution_count": 3,
   "metadata": {},
   "outputs": [
    {
     "name": "stdout",
     "output_type": "stream",
     "text": [
      "26\n",
      "26\n"
     ]
    }
   ],
   "source": [
    "''' ceil '''\n",
    "print(math.ceil(25.6))\n",
    "print(math.ceil(25.3))"
   ]
  },
  {
   "cell_type": "code",
   "execution_count": 5,
   "metadata": {},
   "outputs": [
    {
     "name": "stdout",
     "output_type": "stream",
     "text": [
      "25\n",
      "25\n"
     ]
    }
   ],
   "source": [
    "''' floor '''\n",
    "print(math.floor(25.3))\n",
    "print(math.floor(25.9))"
   ]
  },
  {
   "cell_type": "code",
   "execution_count": 7,
   "metadata": {},
   "outputs": [
    {
     "name": "stdout",
     "output_type": "stream",
     "text": [
      "256.0\n",
      "256\n"
     ]
    }
   ],
   "source": [
    "''' power function '''\n",
    "print(math.pow(4,4))\n",
    "print(pow(4,4))"
   ]
  },
  {
   "cell_type": "code",
   "execution_count": 10,
   "metadata": {},
   "outputs": [
    {
     "name": "stdout",
     "output_type": "stream",
     "text": [
      "5\n",
      "5.0\n"
     ]
    }
   ],
   "source": [
    "''' absolute function '''\n",
    "n = -5\n",
    "print(abs(n))\n",
    "print(math.fabs(n))"
   ]
  },
  {
   "cell_type": "code",
   "execution_count": 23,
   "metadata": {},
   "outputs": [
    {
     "name": "stdout",
     "output_type": "stream",
     "text": [
      "180.00042091829943\n",
      "180.0\n",
      "20626.480624709635\n"
     ]
    }
   ],
   "source": [
    "''' degrees function '''\n",
    "n = 3.1416\n",
    "print(math.degrees(n))\n",
    "print(math.degrees(math.pi))\n",
    "print(math.degrees(360))"
   ]
  },
  {
   "cell_type": "code",
   "execution_count": 24,
   "metadata": {},
   "outputs": [
    {
     "name": "stdout",
     "output_type": "stream",
     "text": [
      "0.20943951023931956\n"
     ]
    }
   ],
   "source": [
    "''' radians '''\n",
    "print(math.radians(12))"
   ]
  },
  {
   "cell_type": "code",
   "execution_count": 25,
   "metadata": {},
   "outputs": [
    {
     "name": "stdout",
     "output_type": "stream",
     "text": [
      "3.141592653589793\n",
      "2.718281828459045\n"
     ]
    }
   ],
   "source": [
    "''' constant '''\n",
    "print(math.pi)\n",
    "print(math.e)"
   ]
  },
  {
   "attachments": {},
   "cell_type": "markdown",
   "metadata": {},
   "source": [
    "trigonometri functions"
   ]
  },
  {
   "cell_type": "code",
   "execution_count": 31,
   "metadata": {},
   "outputs": [
    {
     "name": "stdout",
     "output_type": "stream",
     "text": [
      "sin in radians -> -0.9880316240928618\n",
      "cos in radians -> 0.15425144988758405\n",
      "tan in radians -> -6.405331196646276\n",
      "sin in radians -> 0.49999999999999994\n",
      "cos in radians -> 0.8660254037844387\n",
      "tan in degrees -> 0.5773502691896257\n"
     ]
    }
   ],
   "source": [
    "print(\"sin in radians ->\",math.sin(30))\n",
    "print('cos in radians ->',math.cos(30))\n",
    "print('tan in radians ->',math.tan(30))\n",
    "\n",
    "''' in degreess '''\n",
    "print('sin in radians ->',math.sin(math.radians(30)))\n",
    "print('cos in radians ->',math.cos(math.radians(30)))\n",
    "print('tan in degrees ->',math.tan(math.radians(30)))\n"
   ]
  }
 ],
 "metadata": {
  "kernelspec": {
   "display_name": "Python 3",
   "language": "python",
   "name": "python3"
  },
  "language_info": {
   "codemirror_mode": {
    "name": "ipython",
    "version": 3
   },
   "file_extension": ".py",
   "mimetype": "text/x-python",
   "name": "python",
   "nbconvert_exporter": "python",
   "pygments_lexer": "ipython3",
   "version": "3.10.5"
  },
  "orig_nbformat": 4
 },
 "nbformat": 4,
 "nbformat_minor": 2
}
