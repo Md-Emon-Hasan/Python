{
 "cells": [
  {
   "attachments": {},
   "cell_type": "markdown",
   "metadata": {},
   "source": [
    "types of arguments"
   ]
  },
  {
   "cell_type": "code",
   "execution_count": 1,
   "metadata": {},
   "outputs": [
    {
     "name": "stdout",
     "output_type": "stream",
     "text": [
      "9\n"
     ]
    }
   ],
   "source": [
    "def add(a,b):\n",
    "    print(a+b)\n",
    "add(3,6)"
   ]
  },
  {
   "attachments": {},
   "cell_type": "markdown",
   "metadata": {},
   "source": [
    "default arguments"
   ]
  },
  {
   "cell_type": "code",
   "execution_count": 2,
   "metadata": {},
   "outputs": [
    {
     "name": "stdout",
     "output_type": "stream",
     "text": [
      "gaurav is 30 years old\n"
     ]
    }
   ],
   "source": [
    "def details(name='Ashu', age=22):\n",
    "    print(f'{name} is {age} years old')\n",
    "details('gaurav',30)"
   ]
  },
  {
   "cell_type": "code",
   "execution_count": 5,
   "metadata": {},
   "outputs": [
    {
     "name": "stdout",
     "output_type": "stream",
     "text": [
      "18\n",
      "17\n",
      "9\n"
     ]
    }
   ],
   "source": [
    "def add(a,b=5,c=10):\n",
    "    return(a+b+c)\n",
    "print(add(3))\n",
    "print(add(3,4))\n",
    "print(add(2,3,4))"
   ]
  },
  {
   "attachments": {},
   "cell_type": "markdown",
   "metadata": {},
   "source": [
    "keyword arguments"
   ]
  },
  {
   "cell_type": "code",
   "execution_count": 8,
   "metadata": {},
   "outputs": [
    {
     "name": "stdout",
     "output_type": "stream",
     "text": [
      "4.0\n",
      "0.25\n",
      "3.0\n"
     ]
    }
   ],
   "source": [
    "def divide(a,b):\n",
    "    res=a/b\n",
    "    return res\n",
    "res=divide(12,3)\n",
    "print(res)\n",
    "res=divide(a=3,b=12)\n",
    "print(res)\n",
    "res=divide(36,b=12)\n",
    "print(res)"
   ]
  },
  {
   "attachments": {},
   "cell_type": "markdown",
   "metadata": {},
   "source": [
    "arbitary arguments"
   ]
  },
  {
   "cell_type": "code",
   "execution_count": 9,
   "metadata": {},
   "outputs": [
    {
     "name": "stdout",
     "output_type": "stream",
     "text": [
      "lion\n",
      "elephant\n",
      "wolf\n",
      "gorilla\n"
     ]
    }
   ],
   "source": [
    "def animals(*animals):\n",
    "    for animal in animals:\n",
    "        print(animal)\n",
    "animals('lion','elephant','wolf','gorilla')"
   ]
  },
  {
   "attachments": {},
   "cell_type": "markdown",
   "metadata": {},
   "source": [
    "required arguments"
   ]
  },
  {
   "cell_type": "code",
   "execution_count": 10,
   "metadata": {},
   "outputs": [
    {
     "name": "stdout",
     "output_type": "stream",
     "text": [
      "24\n",
      "25\n"
     ]
    },
    {
     "ename": "TypeError",
     "evalue": "add() missing 1 required positional argument: 'num1'",
     "output_type": "error",
     "traceback": [
      "\u001b[1;31m---------------------------------------------------------------------------\u001b[0m",
      "\u001b[1;31mTypeError\u001b[0m                                 Traceback (most recent call last)",
      "Cell \u001b[1;32mIn[10], line 5\u001b[0m\n\u001b[0;32m      3\u001b[0m add(num1\u001b[39m=\u001b[39m\u001b[39m11\u001b[39m,num2\u001b[39m=\u001b[39m\u001b[39m13\u001b[39m)\n\u001b[0;32m      4\u001b[0m add(num1\u001b[39m=\u001b[39m\u001b[39m13\u001b[39m)\n\u001b[1;32m----> 5\u001b[0m add(num2\u001b[39m=\u001b[39;49m\u001b[39m13\u001b[39;49m)\n",
      "\u001b[1;31mTypeError\u001b[0m: add() missing 1 required positional argument: 'num1'"
     ]
    }
   ],
   "source": [
    "def add(num1,num2=12):\n",
    "    print(num1+num2)\n",
    "add(num1=11,num2=13)\n",
    "add(num1=13)\n",
    "add(num2=13)"
   ]
  }
 ],
 "metadata": {
  "kernelspec": {
   "display_name": "Python 3",
   "language": "python",
   "name": "python3"
  },
  "language_info": {
   "codemirror_mode": {
    "name": "ipython",
    "version": 3
   },
   "file_extension": ".py",
   "mimetype": "text/x-python",
   "name": "python",
   "nbconvert_exporter": "python",
   "pygments_lexer": "ipython3",
   "version": "3.10.5"
  },
  "orig_nbformat": 4
 },
 "nbformat": 4,
 "nbformat_minor": 2
}
