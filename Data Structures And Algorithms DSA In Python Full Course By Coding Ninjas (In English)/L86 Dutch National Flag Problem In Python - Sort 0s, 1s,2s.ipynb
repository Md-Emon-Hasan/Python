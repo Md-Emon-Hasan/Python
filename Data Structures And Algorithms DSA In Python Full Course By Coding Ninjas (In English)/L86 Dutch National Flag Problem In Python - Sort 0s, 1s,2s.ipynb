{
 "cells": [
  {
   "cell_type": "code",
   "execution_count": 1,
   "metadata": {},
   "outputs": [
    {
     "name": "stdout",
     "output_type": "stream",
     "text": [
      "[0, 0, 1, 1, 1, 2, 2]\n"
     ]
    }
   ],
   "source": [
    "def sort012(arr,n):\n",
    "    arr.sort()\n",
    "    print(arr)\n",
    "sort012([2,1,1,0,2,0,1],7)"
   ]
  },
  {
   "cell_type": "code",
   "execution_count": 2,
   "metadata": {},
   "outputs": [
    {
     "name": "stdout",
     "output_type": "stream",
     "text": [
      "[0, 0, 1, 1, 1, 2, 2]\n"
     ]
    }
   ],
   "source": [
    "def sort012(arr,n):\n",
    "    freq = [0,0,0]\n",
    "    for i in arr:\n",
    "        freq[i] += 1\n",
    "    pointer = 0\n",
    "    for i in range(3):\n",
    "        for f in range(freq[i]):\n",
    "            arr[pointer] = i\n",
    "            pointer += 1\n",
    "    print(arr)\n",
    "sort012([2,1,1,0,2,0,1],7)               "
   ]
  },
  {
   "cell_type": "code",
   "execution_count": 4,
   "metadata": {},
   "outputs": [
    {
     "name": "stdout",
     "output_type": "stream",
     "text": [
      "[0, 0, 1, 1, 1, 2, 2]\n"
     ]
    }
   ],
   "source": [
    "def sort012(arr,n):\n",
    "    i = 0\n",
    "    zeroPos = 0\n",
    "    twoPos = n - 1\n",
    "    while(i <= twoPos):\n",
    "        if (arr[i] == 0):\n",
    "            temp = arr[i]\n",
    "            arr[i] = arr[zeroPos]\n",
    "            arr[zeroPos] = temp\n",
    "            i += 1\n",
    "            zeroPos += 1\n",
    "        elif (arr[i] == 2):\n",
    "            temp = arr[i]\n",
    "            arr[i] = arr[twoPos]\n",
    "            arr[twoPos] = temp\n",
    "            twoPos -= 1\n",
    "        else:\n",
    "            i += 1\n",
    "    print(arr)\n",
    "sort012([2,1,1,0,2,0,1],7)"
   ]
  }
 ],
 "metadata": {
  "kernelspec": {
   "display_name": "Python 3",
   "language": "python",
   "name": "python3"
  },
  "language_info": {
   "codemirror_mode": {
    "name": "ipython",
    "version": 3
   },
   "file_extension": ".py",
   "mimetype": "text/x-python",
   "name": "python",
   "nbconvert_exporter": "python",
   "pygments_lexer": "ipython3",
   "version": "3.10.5"
  },
  "orig_nbformat": 4
 },
 "nbformat": 4,
 "nbformat_minor": 2
}
