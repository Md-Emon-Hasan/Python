{
 "cells": [
  {
   "attachments": {},
   "cell_type": "markdown",
   "metadata": {},
   "source": [
    "__variable and data types in python__"
   ]
  },
  {
   "cell_type": "code",
   "execution_count": 2,
   "metadata": {},
   "outputs": [
    {
     "name": "stdout",
     "output_type": "stream",
     "text": [
      "<class 'int'>\n",
      "<class 'float'>\n",
      "<class 'complex'>\n"
     ]
    }
   ],
   "source": [
    "''' number '''\n",
    "x = 10 # integer\n",
    "print(type(x))\n",
    "\n",
    "y = 10.52 # real number\n",
    "print(type(y))\n",
    "\n",
    "z = 5+6j # complex\n",
    "print(type(z))"
   ]
  },
  {
   "cell_type": "code",
   "execution_count": 6,
   "metadata": {},
   "outputs": [
    {
     "name": "stdout",
     "output_type": "stream",
     "text": [
      "<class 'str'>\n",
      "<class 'str'>\n",
      "o\n",
      "3\n",
      "2\n"
     ]
    }
   ],
   "source": [
    "# strings\n",
    "name = 'coding ninjas'\n",
    "college = 'PEC'\n",
    "print(type(name))\n",
    "print(type(college))\n",
    "print(name[1])\n",
    "print(name.index('i'))\n",
    "print(name.count('i'))"
   ]
  },
  {
   "cell_type": "code",
   "execution_count": 7,
   "metadata": {},
   "outputs": [
    {
     "name": "stdout",
     "output_type": "stream",
     "text": [
      " \n",
      "    emon\n",
      "    hasan\n",
      "\n"
     ]
    }
   ],
   "source": [
    "name = ''' \n",
    "    emon\n",
    "    hasan\n",
    "'''\n",
    "print(name)"
   ]
  },
  {
   "cell_type": "code",
   "execution_count": 9,
   "metadata": {},
   "outputs": [
    {
     "name": "stdout",
     "output_type": "stream",
     "text": [
      "<class 'bool'>\n",
      "<class 'bool'>\n"
     ]
    }
   ],
   "source": [
    "''' Boolean '''\n",
    "isAdult = True\n",
    "print(type(isAdult))\n",
    "isAdult = False\n",
    "print(type(isAdult))"
   ]
  },
  {
   "cell_type": "code",
   "execution_count": 14,
   "metadata": {},
   "outputs": [
    {
     "name": "stdout",
     "output_type": "stream",
     "text": [
      "<class 'list'>\n",
      "[1, 'naman', True, 10.52]\n",
      "coding ninjas\n"
     ]
    }
   ],
   "source": [
    "''' list '''\n",
    "list = [1,2,3,4]\n",
    "print(type(list))\n",
    "list1 = [1,'naman',True,10.52]\n",
    "print(list1)\n",
    "list1[1] = 'coding ninjas'\n",
    "print(list1[-3])"
   ]
  },
  {
   "cell_type": "code",
   "execution_count": 15,
   "metadata": {},
   "outputs": [
    {
     "name": "stdout",
     "output_type": "stream",
     "text": [
      "[1, 'naman', True, 10.52, 'hey']\n"
     ]
    }
   ],
   "source": [
    "list = [1,2,3,4]\n",
    "list1 = [1,'naman',True,10.52]\n",
    "list1.append('hey')\n",
    "print(list1)"
   ]
  },
  {
   "cell_type": "code",
   "execution_count": 17,
   "metadata": {},
   "outputs": [
    {
     "name": "stdout",
     "output_type": "stream",
     "text": [
      "<class 'tuple'>\n",
      "<class 'int'>\n"
     ]
    }
   ],
   "source": [
    "''' tuple '''\n",
    "t = (1,2,3,4)\n",
    "print(type(t))\n",
    "\n",
    "t = 1\n",
    "print(type(t))"
   ]
  },
  {
   "cell_type": "code",
   "execution_count": 18,
   "metadata": {},
   "outputs": [
    {
     "name": "stdout",
     "output_type": "stream",
     "text": [
      "1\n",
      "2\n",
      "3\n",
      "4\n"
     ]
    }
   ],
   "source": [
    "t = (1,2,3,4)\n",
    "for i in range(len(t)):\n",
    "    print(t[i])"
   ]
  },
  {
   "cell_type": "code",
   "execution_count": 21,
   "metadata": {},
   "outputs": [
    {
     "name": "stdout",
     "output_type": "stream",
     "text": [
      "{1, 2, 3, 4, 5, 6}\n",
      "<class 'set'>\n"
     ]
    }
   ],
   "source": [
    "''' set '''\n",
    "list = [1,2,3,2,1,4,5,6,5]\n",
    "mySet = set(list)\n",
    "print(mySet)\n",
    "print(type(mySet))"
   ]
  },
  {
   "cell_type": "code",
   "execution_count": 26,
   "metadata": {},
   "outputs": [
    {
     "name": "stdout",
     "output_type": "stream",
     "text": [
      "<class 'dict'>\n",
      "23\n",
      "Google\n",
      "2\n",
      "age\n",
      "org\n"
     ]
    }
   ],
   "source": [
    "''' dictionary '''\n",
    "myDict = {2:'naman','age':23,'org':'ms'}\n",
    "print(type(myDict))\n",
    "print(myDict['age'])\n",
    "\n",
    "myDict['org'] = 'Google'\n",
    "print(myDict['org'])\n",
    "\n",
    "for i in myDict.keys():\n",
    "    print(i)"
   ]
  },
  {
   "attachments": {},
   "cell_type": "markdown",
   "metadata": {},
   "source": [
    "__operator__"
   ]
  },
  {
   "cell_type": "code",
   "execution_count": 27,
   "metadata": {},
   "outputs": [
    {
     "name": "stdout",
     "output_type": "stream",
     "text": [
      "15\n",
      "5\n",
      "50\n"
     ]
    }
   ],
   "source": [
    "''' arithmetic '''\n",
    "a = 10\n",
    "b = 5\n",
    "print(a+b) # addition\n",
    "print(a-b) # substraction\n",
    "print(a*b) # multipication\n",
    "print(a/b) # normal division\n",
    "print(a//b) # floor division (integral)\n",
    "print(a%b) # remainder / modulus\n",
    "print(a**b) # a raise to power b"
   ]
  },
  {
   "cell_type": "code",
   "execution_count": 30,
   "metadata": {},
   "outputs": [
    {
     "name": "stdout",
     "output_type": "stream",
     "text": [
      "10\n",
      "15\n",
      "1\n"
     ]
    }
   ],
   "source": [
    "''' assignment '''\n",
    "x = 10\n",
    "print(x)\n",
    "a = 10\n",
    "a += 5\n",
    "print(a)\n",
    "\n",
    "a = 10\n",
    "a %= 3\n",
    "print(a)\n"
   ]
  },
  {
   "cell_type": "code",
   "execution_count": 31,
   "metadata": {},
   "outputs": [
    {
     "name": "stdout",
     "output_type": "stream",
     "text": [
      "True\n",
      "False\n",
      "True\n",
      "False\n",
      "False\n"
     ]
    }
   ],
   "source": [
    "''' comaprision '''\n",
    "a = 10\n",
    "b = 5\n",
    "print(a > b)\n",
    "print(a < b)\n",
    "print(a >= b)\n",
    "print(a <= b)\n",
    "print(a == b)\n",
    "print(a != b)"
   ]
  },
  {
   "cell_type": "code",
   "execution_count": 32,
   "metadata": {},
   "outputs": [
    {
     "name": "stdout",
     "output_type": "stream",
     "text": [
      "10\n"
     ]
    }
   ],
   "source": [
    "''' finding max '''\n",
    "a = 10\n",
    "b = 5\n",
    "if a >= b:\n",
    "    print(a)\n",
    "else:\n",
    "    print(b)"
   ]
  },
  {
   "cell_type": "code",
   "execution_count": 34,
   "metadata": {},
   "outputs": [
    {
     "name": "stdout",
     "output_type": "stream",
     "text": [
      "pleasant\n",
      "pleasant\n",
      "pleasant\n"
     ]
    }
   ],
   "source": [
    "''' logical '''\n",
    "temp = 20\n",
    "if temp >= 15 and temp <= 25:\n",
    "    print('pleasant')\n",
    "else:\n",
    "    print('not good')\n",
    "    \n",
    "temp = 20\n",
    "if temp >= 15 or temp <= 25:\n",
    "    print('pleasant')\n",
    "else:\n",
    "    print('not good')\n",
    "\n",
    "temp = 20\n",
    "if not temp <= 15:\n",
    "    print('pleasant')\n",
    "else:\n",
    "    print('not good')"
   ]
  },
  {
   "cell_type": "code",
   "execution_count": 35,
   "metadata": {},
   "outputs": [
    {
     "name": "stdout",
     "output_type": "stream",
     "text": [
      "0\n",
      "14\n",
      "14\n",
      "-11\n"
     ]
    }
   ],
   "source": [
    "''' bitwise operator '''\n",
    "a = 10\n",
    "b = 4\n",
    "print(a & b) # bitwise and\n",
    "print(a | b) # bitwise or \n",
    "print(a ^ b) # bitwise xor\n",
    "print(~a)"
   ]
  },
  {
   "cell_type": "code",
   "execution_count": 37,
   "metadata": {},
   "outputs": [
    {
     "name": "stdout",
     "output_type": "stream",
     "text": [
      "True\n",
      "False\n"
     ]
    },
    {
     "name": "stderr",
     "output_type": "stream",
     "text": [
      "<>:3: SyntaxWarning: \"is\" with a literal. Did you mean \"==\"?\n",
      "<>:4: SyntaxWarning: \"is not\" with a literal. Did you mean \"!=\"?\n",
      "<>:3: SyntaxWarning: \"is\" with a literal. Did you mean \"==\"?\n",
      "<>:4: SyntaxWarning: \"is not\" with a literal. Did you mean \"!=\"?\n",
      "C:\\Users\\emon1\\AppData\\Local\\Temp\\ipykernel_7232\\3852634891.py:3: SyntaxWarning: \"is\" with a literal. Did you mean \"==\"?\n",
      "  print(a is 10) # a == 10\n",
      "C:\\Users\\emon1\\AppData\\Local\\Temp\\ipykernel_7232\\3852634891.py:4: SyntaxWarning: \"is not\" with a literal. Did you mean \"!=\"?\n",
      "  print(a is not 10)\n"
     ]
    }
   ],
   "source": [
    "''' identity '''\n",
    "a = 10\n",
    "print(a is 10) # a == 10\n",
    "print(a is not 10)"
   ]
  },
  {
   "cell_type": "code",
   "execution_count": 39,
   "metadata": {},
   "outputs": [
    {
     "name": "stdout",
     "output_type": "stream",
     "text": [
      "True\n",
      "False\n"
     ]
    }
   ],
   "source": [
    "''' membership '''\n",
    "list = [1,2,3,4]\n",
    "print(2 in list)\n",
    "print(7 in list)"
   ]
  },
  {
   "attachments": {},
   "cell_type": "markdown",
   "metadata": {},
   "source": [
    "__type conversation__"
   ]
  },
  {
   "cell_type": "code",
   "execution_count": 41,
   "metadata": {},
   "outputs": [
    {
     "name": "stdout",
     "output_type": "stream",
     "text": [
      "<class 'int'>\n",
      "<class 'float'>\n"
     ]
    }
   ],
   "source": [
    "''' implicit '''\n",
    "x = 10\n",
    "y = 10.2\n",
    "print(type(x))\n",
    "print(type(y))"
   ]
  },
  {
   "cell_type": "code",
   "execution_count": 42,
   "metadata": {},
   "outputs": [
    {
     "name": "stdout",
     "output_type": "stream",
     "text": [
      "<class 'int'>\n",
      "15\n"
     ]
    }
   ],
   "source": [
    "''' explict typecasting '''\n",
    "n = input('hey, enter a number: ')\n",
    "n = int(n)\n",
    "print(type(n))\n",
    "print(n + 5)"
   ]
  },
  {
   "cell_type": "code",
   "execution_count": 43,
   "metadata": {},
   "outputs": [
    {
     "name": "stdout",
     "output_type": "stream",
     "text": [
      "<class 'set'>\n",
      "<class 'tuple'>\n"
     ]
    }
   ],
   "source": [
    "list = [1,2,3,4,5,2,1]\n",
    "\n",
    "mySet = set(list)\n",
    "print(type(mySet))\n",
    "\n",
    "myTuple = tuple(list)\n",
    "print(type(myTuple))"
   ]
  },
  {
   "cell_type": "code",
   "execution_count": 56,
   "metadata": {},
   "outputs": [
    {
     "name": "stdout",
     "output_type": "stream",
     "text": [
      "(10+3j)\n",
      "<class 'complex'>\n"
     ]
    }
   ],
   "source": [
    "x = complex(10,3)\n",
    "print(x)\n",
    "print(type(x))"
   ]
  },
  {
   "cell_type": "code",
   "execution_count": 58,
   "metadata": {},
   "outputs": [
    {
     "name": "stdout",
     "output_type": "stream",
     "text": [
      "A\n",
      "65\n"
     ]
    }
   ],
   "source": [
    "x = chr(65)\n",
    "print(x) # ASCII value of a\n",
    "\n",
    "y = ord('A') # tells ASCII value\n",
    "print(y)"
   ]
  }
 ],
 "metadata": {
  "kernelspec": {
   "display_name": "Python 3",
   "language": "python",
   "name": "python3"
  },
  "language_info": {
   "codemirror_mode": {
    "name": "ipython",
    "version": 3
   },
   "file_extension": ".py",
   "mimetype": "text/x-python",
   "name": "python",
   "nbconvert_exporter": "python",
   "pygments_lexer": "ipython3",
   "version": "3.10.5"
  },
  "orig_nbformat": 4
 },
 "nbformat": 4,
 "nbformat_minor": 2
}
