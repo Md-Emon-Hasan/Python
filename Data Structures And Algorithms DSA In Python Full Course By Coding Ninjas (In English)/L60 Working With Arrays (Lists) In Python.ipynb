{
 "cells": [
  {
   "attachments": {},
   "cell_type": "markdown",
   "metadata": {},
   "source": [
    "slicing operation in array"
   ]
  },
  {
   "cell_type": "code",
   "execution_count": 3,
   "metadata": {},
   "outputs": [
    {
     "name": "stdout",
     "output_type": "stream",
     "text": [
      "initial array\n",
      "1 2 3 4 5 6 7 8 9 10 \n",
      "array('i', [3, 4, 5])\n",
      "array('i', [3, 5])\n"
     ]
    }
   ],
   "source": [
    "import array as arr\n",
    "l = [1,2,3,4,5,6,7,8,9,10]\n",
    "a = arr.array('i',l)\n",
    "print('initial array')\n",
    "for i in a:\n",
    "    print(i, end=' ')\n",
    "print()\n",
    "# slicing from range 2 - 5\n",
    "slice1 = a[2:5]\n",
    "print(slice1)"
   ]
  },
  {
   "cell_type": "code",
   "execution_count": 4,
   "metadata": {},
   "outputs": [
    {
     "name": "stdout",
     "output_type": "stream",
     "text": [
      "initial array\n",
      "1 2 3 4 5 6 7 8 9 10 \n",
      "array('i', [3, 5])\n"
     ]
    }
   ],
   "source": [
    "import array as arr\n",
    "l = [1,2,3,4,5,6,7,8,9,10]\n",
    "a = arr.array('i',l)\n",
    "print('initial array')\n",
    "for i in a:\n",
    "    print(i, end=' ')\n",
    "print()\n",
    "# slicing with gaps\n",
    "slice2 = a[2:5:2]\n",
    "print(slice2)"
   ]
  },
  {
   "cell_type": "code",
   "execution_count": 5,
   "metadata": {},
   "outputs": [
    {
     "name": "stdout",
     "output_type": "stream",
     "text": [
      "initial array\n",
      "1 2 3 4 5 6 7 8 9 10 \n",
      "array('i')\n"
     ]
    }
   ],
   "source": [
    "import array as arr\n",
    "l = [1,2,3,4,5,6,7,8,9,10]\n",
    "a = arr.array('i',l)\n",
    "print('initial array')\n",
    "for i in a:\n",
    "    print(i, end=' ')\n",
    "print()\n",
    "# slicing with neg value\n",
    "slice1 = a[-1:-4]\n",
    "print(slice1)"
   ]
  },
  {
   "cell_type": "code",
   "execution_count": 7,
   "metadata": {},
   "outputs": [
    {
     "name": "stdout",
     "output_type": "stream",
     "text": [
      "initial array\n",
      "1 2 3 4 5 6 7 8 9 10 \n",
      "array('i', [10, 9, 8, 7, 6, 5, 4, 3, 2, 1])\n"
     ]
    }
   ],
   "source": [
    "import array as arr\n",
    "l = [1,2,3,4,5,6,7,8,9,10]\n",
    "a = arr.array('i',l)\n",
    "print('initial array')\n",
    "for i in a:\n",
    "    print(i, end=' ')\n",
    "print()\n",
    "# rev the array\n",
    "slice1 = a[::-1]\n",
    "print(slice1)"
   ]
  },
  {
   "cell_type": "code",
   "execution_count": 9,
   "metadata": {},
   "outputs": [
    {
     "name": "stdout",
     "output_type": "stream",
     "text": [
      "initial array\n",
      "1 2 3 4 5 6 7 8 9 10 \n",
      "array('i', [1, 2, 3, 4, 5, 6, 7, 8, 9, 10])\n"
     ]
    }
   ],
   "source": [
    "import array as arr\n",
    "l = [1,2,3,4,5,6,7,8,9,10]\n",
    "a = arr.array('i',l)\n",
    "print('initial array')\n",
    "for i in a:\n",
    "    print(i, end=' ')\n",
    "print()\n",
    "# slice all elements\n",
    "slice1 = a[:]\n",
    "print(slice1)"
   ]
  },
  {
   "attachments": {},
   "cell_type": "markdown",
   "metadata": {},
   "source": [
    "searching ann updating element in an array"
   ]
  },
  {
   "cell_type": "code",
   "execution_count": 11,
   "metadata": {},
   "outputs": [
    {
     "name": "stdout",
     "output_type": "stream",
     "text": [
      "initial array\n",
      "1 2 3 4 5 6 7 8 9 10 2 \n",
      "6\n",
      "1\n",
      "array('i', [1, 2, 3, 4, 5, 6, 7, 8, 9, 10, 11])\n"
     ]
    }
   ],
   "source": [
    "import array as arr\n",
    "l = [1,2,3,4,5,6,7,8,9,10,2]\n",
    "a = arr.array('i',l)\n",
    "print('initial array')\n",
    "for i in a:\n",
    "    print(i, end=' ')\n",
    "print()\n",
    "# searching\n",
    "print(a.index(7))\n",
    "print(a.index(2))\n",
    "# update the array\n",
    "a[10] = 11\n",
    "print(a)"
   ]
  },
  {
   "cell_type": "code",
   "execution_count": 12,
   "metadata": {},
   "outputs": [
    {
     "name": "stdout",
     "output_type": "stream",
     "text": [
      "[1, 2, 2, 3, 4, 5, 6, 7, 8, 9, 10]\n"
     ]
    }
   ],
   "source": [
    "import array as arr\n",
    "l = [1,2,3,4,5,6,7,8,9,10,2]\n",
    "l.sort()\n",
    "print(l)"
   ]
  },
  {
   "cell_type": "code",
   "execution_count": 13,
   "metadata": {},
   "outputs": [
    {
     "name": "stdout",
     "output_type": "stream",
     "text": [
      "[1, 2, 2, 3, 4, 5, 6, 7, 8, 9, 10]\n"
     ]
    }
   ],
   "source": [
    "import array as arr\n",
    "l = [1,2,3,4,5,6,7,8,9,10,2]\n",
    "a = sorted(l)\n",
    "print(a)"
   ]
  }
 ],
 "metadata": {
  "kernelspec": {
   "display_name": "Python 3",
   "language": "python",
   "name": "python3"
  },
  "language_info": {
   "codemirror_mode": {
    "name": "ipython",
    "version": 3
   },
   "file_extension": ".py",
   "mimetype": "text/x-python",
   "name": "python",
   "nbconvert_exporter": "python",
   "pygments_lexer": "ipython3",
   "version": "3.10.5"
  },
  "orig_nbformat": 4
 },
 "nbformat": 4,
 "nbformat_minor": 2
}
