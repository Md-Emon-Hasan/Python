{
 "cells": [
  {
   "attachments": {},
   "cell_type": "markdown",
   "metadata": {},
   "source": [
    "arrays in python"
   ]
  },
  {
   "cell_type": "code",
   "execution_count": 2,
   "metadata": {},
   "outputs": [
    {
     "name": "stdout",
     "output_type": "stream",
     "text": [
      "2 5 3 \n"
     ]
    }
   ],
   "source": [
    "import array as arr\n",
    "a = arr.array('i',[2,5,3])\n",
    "for i in range(3):\n",
    "    print(a[i], end=' ')\n",
    "print()"
   ]
  },
  {
   "cell_type": "code",
   "execution_count": 3,
   "metadata": {},
   "outputs": [
    {
     "name": "stdout",
     "output_type": "stream",
     "text": [
      "2 5 3 \n"
     ]
    }
   ],
   "source": [
    "import array as arr\n",
    "a = arr.array('i',[2,5,3])\n",
    "for i in range(3):\n",
    "    print(a[i], end=' ')\n",
    "print()\n",
    "a.insert(1,4)"
   ]
  },
  {
   "cell_type": "code",
   "execution_count": 5,
   "metadata": {},
   "outputs": [
    {
     "name": "stdout",
     "output_type": "stream",
     "text": [
      "2 5 3 \n",
      "2 4 5 3 \n",
      "2 4 5 3 7 \n",
      "3\n",
      "5\n"
     ]
    }
   ],
   "source": [
    "import array as arr\n",
    "def pr(a,n):\n",
    "    # print the array\n",
    "    for i in range(n):\n",
    "        print(a[i],end=' ')\n",
    "    print()\n",
    "# create an array\n",
    "a = arr.array('i',[2,5,3])\n",
    "pr(a,3)\n",
    "a.insert(1,4)\n",
    "pr(a,4)\n",
    "a.append(7)\n",
    "pr(a,5)\n",
    "print(a[3])\n",
    "print(a[2])"
   ]
  },
  {
   "attachments": {},
   "cell_type": "markdown",
   "metadata": {},
   "source": [
    "other important functions"
   ]
  },
  {
   "cell_type": "code",
   "execution_count": 6,
   "metadata": {},
   "outputs": [
    {
     "name": "stdout",
     "output_type": "stream",
     "text": [
      "2 5 3 \n",
      "2 4 5 3 \n",
      "2 4 5 3 7 \n",
      "3\n",
      "5\n",
      "remving\n",
      "4 5 3 7 \n",
      "4 5 3 \n"
     ]
    }
   ],
   "source": [
    "import array as arr\n",
    "def pr(a,n):\n",
    "    # print the array\n",
    "    for i in range(n):\n",
    "        print(a[i],end=' ')\n",
    "    print()\n",
    "# create an array\n",
    "a = arr.array('i',[2,5,3])\n",
    "pr(a,3)\n",
    "a.insert(1,4)\n",
    "pr(a,4)\n",
    "a.append(7)\n",
    "pr(a,5)\n",
    "print(a[3])\n",
    "print(a[2])\n",
    "print('remving')\n",
    "a.remove(2)\n",
    "pr(a,4)\n",
    "a.pop()\n",
    "pr(a,3)"
   ]
  }
 ],
 "metadata": {
  "kernelspec": {
   "display_name": "Python 3",
   "language": "python",
   "name": "python3"
  },
  "language_info": {
   "codemirror_mode": {
    "name": "ipython",
    "version": 3
   },
   "file_extension": ".py",
   "mimetype": "text/x-python",
   "name": "python",
   "nbconvert_exporter": "python",
   "pygments_lexer": "ipython3",
   "version": "3.10.5"
  },
  "orig_nbformat": 4
 },
 "nbformat": 4,
 "nbformat_minor": 2
}
