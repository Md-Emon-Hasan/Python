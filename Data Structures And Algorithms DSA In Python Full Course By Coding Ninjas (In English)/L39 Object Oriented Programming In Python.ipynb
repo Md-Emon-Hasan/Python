{
 "cells": [
  {
   "attachments": {},
   "cell_type": "markdown",
   "metadata": {},
   "source": [
    "object"
   ]
  },
  {
   "cell_type": "code",
   "execution_count": 21,
   "metadata": {},
   "outputs": [
    {
     "name": "stdout",
     "output_type": "stream",
     "text": [
      "<class 'function'>\n"
     ]
    }
   ],
   "source": [
    "def hello():\n",
    "    print('hey, people')\n",
    "\n",
    "x = 'hello'\n",
    "print((type(hello)))"
   ]
  },
  {
   "cell_type": "code",
   "execution_count": 22,
   "metadata": {},
   "outputs": [
    {
     "name": "stdout",
     "output_type": "stream",
     "text": [
      "working!\n",
      "<class 'type'>\n"
     ]
    }
   ],
   "source": [
    "class Human:\n",
    "    def work(self):\n",
    "        print('working!')\n",
    "    def eat(self):\n",
    "        print('eating!')\n",
    "h = Human() # instantiate an object\n",
    "h.work()\n",
    "print(type(Human))"
   ]
  },
  {
   "cell_type": "code",
   "execution_count": 23,
   "metadata": {},
   "outputs": [
    {
     "name": "stdout",
     "output_type": "stream",
     "text": [
      "hey, init invoked\n",
      "naman\n",
      "23\n"
     ]
    }
   ],
   "source": [
    "class Human:\n",
    "    def __init__(self) -> None:\n",
    "        print('hey, init invoked')\n",
    "        self.height = 6\n",
    "        self.name = 'naman'\n",
    "        self.age = 23\n",
    "    def work(self):\n",
    "        print('working!')\n",
    "    def eat(self):\n",
    "        print('eating!')\n",
    "h = Human() # instantiate an object\n",
    "print(h.name)\n",
    "print(h.age)"
   ]
  },
  {
   "cell_type": "code",
   "execution_count": 24,
   "metadata": {},
   "outputs": [
    {
     "name": "stdout",
     "output_type": "stream",
     "text": [
      "hey, init invoked\n",
      "naman\n",
      "23\n",
      "25\n"
     ]
    }
   ],
   "source": [
    "class Human:\n",
    "    def __init__(self) -> None:\n",
    "        print('hey, init invoked')\n",
    "        self.height = 6\n",
    "        self.name = 'naman'\n",
    "        self.age = 23\n",
    "    def set_age(self,age):\n",
    "        self.age = age\n",
    "    def work(self):\n",
    "        print('working!')\n",
    "    def eat(self):\n",
    "        print('eating!')\n",
    "h = Human() # instantiate an object\n",
    "print(h.name)\n",
    "print(h.age)\n",
    "h.set_age(25)\n",
    "print(h.age)"
   ]
  },
  {
   "cell_type": "code",
   "execution_count": 25,
   "metadata": {},
   "outputs": [
    {
     "name": "stdout",
     "output_type": "stream",
     "text": [
      "None\n",
      "numan\n",
      "kushaqra\n"
     ]
    }
   ],
   "source": [
    "class Human:\n",
    "    # human class implementation\n",
    "    def __init__(self,name,age,height) -> None:\n",
    "        self.name = name\n",
    "        self.age = age\n",
    "        self.height = height\n",
    "    def set_age(self,age):\n",
    "        self.age = age\n",
    "    def work(self):\n",
    "        print('working!')\n",
    "    def eat(self):\n",
    "        print('eating!')\n",
    "a = Human('numan',23,6)\n",
    "b = Human('kushaqra',21,6.5)\n",
    "print(Human.__doc__)\n",
    "print(a.name)\n",
    "print(b.name)"
   ]
  },
  {
   "attachments": {},
   "cell_type": "markdown",
   "metadata": {},
   "source": [
    "markdone"
   ]
  },
  {
   "cell_type": "code",
   "execution_count": 26,
   "metadata": {},
   "outputs": [
    {
     "name": "stdout",
     "output_type": "stream",
     "text": [
      "rocky\n",
      "i am rocky and my age is 20\n",
      "i dont know to speak!\n",
      "animal is eating\n",
      "meow\n"
     ]
    }
   ],
   "source": [
    "class Pet: # bass/ super / parent class\n",
    "    def __init__(self,name,age) -> None:\n",
    "        self.name = name\n",
    "        self.age = age\n",
    "    def display(self):\n",
    "        print(f'i am {self.name} and my age is {self.age}')\n",
    "    def eat(self):\n",
    "        print('animal is eating')\n",
    "    def speak(self):\n",
    "        print('i dont know how to speak')\n",
    "class Dog(Pet): # derived / sub / child class\n",
    "    def __init__(self,name,age,color) -> None:\n",
    "        self.name = name\n",
    "        self.age = age\n",
    "        self.color = color\n",
    "    def speak(self):\n",
    "        print('i dont know to speak!')\n",
    "class Cat(Pet):\n",
    "    def speak(self):\n",
    "        print('meow')\n",
    "class Fish(Pet):\n",
    "    def speak(self):\n",
    "        pass\n",
    "d = Dog('rocky',20, 'red')\n",
    "print(d.name)\n",
    "d.display()\n",
    "d.speak()\n",
    "d.eat()\n",
    "\n",
    "c = Cat('lily',4)\n",
    "c.speak()\n",
    "\n",
    "f = Fish('jane',2)\n",
    "f.speak()"
   ]
  },
  {
   "attachments": {},
   "cell_type": "markdown",
   "metadata": {},
   "source": [
    "default arguments"
   ]
  },
  {
   "cell_type": "code",
   "execution_count": 30,
   "metadata": {},
   "outputs": [
    {
     "name": "stdout",
     "output_type": "stream",
     "text": [
      "i am rocky and my age is 5\n"
     ]
    }
   ],
   "source": [
    "class Pet: # bass/ super / parent class\n",
    "    def __init__(self,name,age) -> None:\n",
    "        self.name = name\n",
    "        self.age = age\n",
    "    def display(self):\n",
    "        print(f'i am {self.name} and my age is {self.age}')\n",
    "    def speak(self):\n",
    "        print('i dont know how to speak')\n",
    "class Dog(Pet): # derived / sub / child class\n",
    "    def speak(self):\n",
    "        print('bark')\n",
    "class Cat(Pet):\n",
    "    def speak(self):\n",
    "        print('meow')\n",
    "class Fish(Pet):\n",
    "    pass\n",
    "d = Dog('rocky',5)\n",
    "d.display()"
   ]
  },
  {
   "cell_type": "code",
   "execution_count": 32,
   "metadata": {},
   "outputs": [
    {
     "name": "stdout",
     "output_type": "stream",
     "text": [
      "i am rocky and my age is 5\n",
      "i am rocky and my age is 4\n",
      "i am Jane and my age is 2\n"
     ]
    }
   ],
   "source": [
    "class Pet: # bass/ super / parent class\n",
    "    def __init__(self,name = 'beatle',age = 4) -> None:\n",
    "        self.name = name\n",
    "        self.age = age\n",
    "    def display(self):\n",
    "        print(f'i am {self.name} and my age is {self.age}')\n",
    "    def speak(self):\n",
    "        print('i dont know how to speak')\n",
    "class Dog(Pet): # derived / sub / child class\n",
    "    def speak(self):\n",
    "        print('bark')\n",
    "class Cat(Pet):\n",
    "    def speak(self):\n",
    "        print('meow')\n",
    "class Fish(Pet):\n",
    "    pass\n",
    "d = Dog('rocky',5)\n",
    "d.display()\n",
    "\n",
    "e = Dog('rocky')\n",
    "e.display()\n",
    "\n",
    "f = Dog('Jane',2)\n",
    "f.display()"
   ]
  },
  {
   "attachments": {},
   "cell_type": "markdown",
   "metadata": {},
   "source": [
    "tyoe of inheritance"
   ]
  },
  {
   "cell_type": "code",
   "execution_count": null,
   "metadata": {},
   "outputs": [],
   "source": [
    "''' single inheritance '''\n",
    "class A:\n",
    "    def feature1(self):\n",
    "        print('feature1')\n",
    "class B(A):\n",
    "    def feature2(self):\n",
    "        print('features2')\n",
    "b = B()\n",
    "b.feature1()"
   ]
  },
  {
   "cell_type": "code",
   "execution_count": null,
   "metadata": {},
   "outputs": [],
   "source": [
    "''' multiple inheritance '''\n",
    "class Grandparent:\n",
    "    def GrandParentFeatures(self):\n",
    "        print('GrandParentFeatures')\n",
    "class Parent(Grandparent):\n",
    "    def ParentFeatures(self):\n",
    "        print('features2')\n",
    "class Child(Parent):\n",
    "    def child(self):\n",
    "        print('ParentFeatures')\n",
    "c = Child()\n",
    "c.GrandParentFeatures()\n",
    "c.ParentFeatures()"
   ]
  },
  {
   "cell_type": "code",
   "execution_count": 34,
   "metadata": {},
   "outputs": [
    {
     "name": "stdout",
     "output_type": "stream",
     "text": [
      "studying\n",
      "Working\n",
      "teacher\n"
     ]
    }
   ],
   "source": [
    "''' multiple inheritance '''\n",
    "class Student:\n",
    "    def study(self):\n",
    "        print('studying')\n",
    "class Teacher:\n",
    "    def teach(self):\n",
    "        print('teacher')\n",
    "class TA(Student, Teacher):\n",
    "    def work(self):\n",
    "        print('Working')\n",
    "t = TA()\n",
    "t.study()\n",
    "t.work()\n",
    "t.teach()"
   ]
  },
  {
   "attachments": {},
   "cell_type": "markdown",
   "metadata": {},
   "source": [
    "data mangling\n"
   ]
  },
  {
   "cell_type": "code",
   "execution_count": 36,
   "metadata": {},
   "outputs": [
    {
     "name": "stdout",
     "output_type": "stream",
     "text": [
      "credit card 123456 used\n"
     ]
    }
   ],
   "source": [
    "class CreditCard:\n",
    "    def __init__(self,cardNumber) -> None:\n",
    "        self.cardNumber = cardNumber\n",
    "    def useCard(self):\n",
    "        print(f'credit card {self.cardNumber} used')\n",
    "c = CreditCard(123456)\n",
    "c.useCard()"
   ]
  },
  {
   "cell_type": "code",
   "execution_count": 37,
   "metadata": {},
   "outputs": [
    {
     "ename": "AttributeError",
     "evalue": "'CreditCard' object has no attribute '__cardNumber'",
     "output_type": "error",
     "traceback": [
      "\u001b[1;31m---------------------------------------------------------------------------\u001b[0m",
      "\u001b[1;31mAttributeError\u001b[0m                            Traceback (most recent call last)",
      "Cell \u001b[1;32mIn[37], line 7\u001b[0m\n\u001b[0;32m      5\u001b[0m         \u001b[39mprint\u001b[39m(\u001b[39mf\u001b[39m\u001b[39m'\u001b[39m\u001b[39mcredit card \u001b[39m\u001b[39m{\u001b[39;00m\u001b[39mself\u001b[39m\u001b[39m.\u001b[39m__cardNumber\u001b[39m}\u001b[39;00m\u001b[39m used\u001b[39m\u001b[39m'\u001b[39m)\n\u001b[0;32m      6\u001b[0m c \u001b[39m=\u001b[39m CreditCard(\u001b[39m123456\u001b[39m)\n\u001b[1;32m----> 7\u001b[0m \u001b[39mprint\u001b[39m(c\u001b[39m.\u001b[39;49m__cardNumber)\n",
      "\u001b[1;31mAttributeError\u001b[0m: 'CreditCard' object has no attribute '__cardNumber'"
     ]
    }
   ],
   "source": [
    "class CreditCard:\n",
    "    def __init__(self,cardNumber) -> None:\n",
    "        self.__cardNumber = cardNumber # private attribute\n",
    "    def useCard(self):\n",
    "        print(f'credit card {self.__cardNumber} used')\n",
    "c = CreditCard(123456)\n",
    "print(c.__cardNumber)"
   ]
  },
  {
   "cell_type": "code",
   "execution_count": 42,
   "metadata": {},
   "outputs": [
    {
     "name": "stdout",
     "output_type": "stream",
     "text": [
      "123456\n"
     ]
    }
   ],
   "source": [
    "class CreditCard:\n",
    "    def __init__(self,cardNumber) -> None:\n",
    "        self.cardNumber = cardNumber # private attribute\n",
    "    def useCard(self):\n",
    "        print(f'credit card {self.cardNumber} used')\n",
    "c = CreditCard(123456)\n",
    "print(c.cardNumber)"
   ]
  },
  {
   "attachments": {},
   "cell_type": "markdown",
   "metadata": {},
   "source": [
    "class methods"
   ]
  },
  {
   "cell_type": "code",
   "execution_count": 43,
   "metadata": {},
   "outputs": [
    {
     "name": "stdout",
     "output_type": "stream",
     "text": [
      "1\n",
      "2\n"
     ]
    }
   ],
   "source": [
    "class Employee:\n",
    "    totalEmployees = 0 # class attribute\n",
    "    def __init__(self,name) -> None:\n",
    "        self.name = name # instance attribute\n",
    "        Employee.totalEmployees += 1\n",
    "a = Employee('tim')\n",
    "print(Employee.totalEmployees)\n",
    "b = Employee('cory')\n",
    "print(Employee.totalEmployees)"
   ]
  },
  {
   "cell_type": "code",
   "execution_count": 44,
   "metadata": {},
   "outputs": [
    {
     "name": "stdout",
     "output_type": "stream",
     "text": [
      "1\n",
      "2\n"
     ]
    }
   ],
   "source": [
    "class Employee:\n",
    "    totalEmployees = 0 # class attribute\n",
    "    def __init__(self,name) -> None:\n",
    "        self.name = name # instance attribute\n",
    "        Employee.totalEmployees += 1\n",
    "a = Employee('tim')\n",
    "print(a.totalEmployees)\n",
    "b = Employee('cory')\n",
    "print(a.totalEmployees)"
   ]
  },
  {
   "attachments": {},
   "cell_type": "markdown",
   "metadata": {},
   "source": [
    "@classmethod"
   ]
  },
  {
   "cell_type": "code",
   "execution_count": 48,
   "metadata": {},
   "outputs": [
    {
     "name": "stdout",
     "output_type": "stream",
     "text": [
      "1\n",
      "2\n",
      "1\n"
     ]
    }
   ],
   "source": [
    "class Employee:\n",
    "    totalEmployees = 0 # class attribute\n",
    "    def __init__(self,name) -> None:\n",
    "        self.name = name # instance attribute\n",
    "        Employee.totalEmployees += 1\n",
    "    @classmethod\n",
    "    def removeEmployee(self):\n",
    "        Employee.totalEmployees -= 1\n",
    "a = Employee('tim')\n",
    "print(Employee.totalEmployees)\n",
    "b = Employee('cory')\n",
    "print(Employee.totalEmployees)\n",
    "Employee.removeEmployee()\n",
    "print(Employee.totalEmployees)"
   ]
  },
  {
   "attachments": {},
   "cell_type": "markdown",
   "metadata": {},
   "source": [
    "@staticmethod"
   ]
  },
  {
   "cell_type": "code",
   "execution_count": 49,
   "metadata": {},
   "outputs": [
    {
     "name": "stdout",
     "output_type": "stream",
     "text": [
      "9\n",
      "81\n"
     ]
    }
   ],
   "source": [
    "class Math:\n",
    "    @staticmethod\n",
    "    def square(num):\n",
    "        print(num)\n",
    "        return num * num\n",
    "a = Math()\n",
    "print(a.square(9))"
   ]
  }
 ],
 "metadata": {
  "kernelspec": {
   "display_name": "Python 3",
   "language": "python",
   "name": "python3"
  },
  "language_info": {
   "codemirror_mode": {
    "name": "ipython",
    "version": 3
   },
   "file_extension": ".py",
   "mimetype": "text/x-python",
   "name": "python",
   "nbconvert_exporter": "python",
   "pygments_lexer": "ipython3",
   "version": "3.10.5"
  },
  "orig_nbformat": 4
 },
 "nbformat": 4,
 "nbformat_minor": 2
}
