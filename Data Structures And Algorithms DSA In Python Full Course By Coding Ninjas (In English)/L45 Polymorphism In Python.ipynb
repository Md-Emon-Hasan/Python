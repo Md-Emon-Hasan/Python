{
 "cells": [
  {
   "cell_type": "code",
   "execution_count": 1,
   "metadata": {},
   "outputs": [
    {
     "name": "stdout",
     "output_type": "stream",
     "text": [
      "truck\n",
      "red\n",
      "------\n",
      "car\n",
      "black\n"
     ]
    }
   ],
   "source": [
    "class Tata():\n",
    "    def type(self):\n",
    "        print('truck')\n",
    "    def color(self):\n",
    "        print('red')\n",
    "class Mahindara():\n",
    "    def type(self):\n",
    "        print('car')\n",
    "    def color(self):\n",
    "        print('black')\n",
    "def func(obj):\n",
    "    obj.type()\n",
    "    obj.color()\n",
    "obj_tata = Tata()\n",
    "obj_mahindra = Mahindara()\n",
    "func(obj_tata)\n",
    "print('------')\n",
    "func(obj_mahindra)"
   ]
  },
  {
   "attachments": {},
   "cell_type": "markdown",
   "metadata": {},
   "source": [
    "polimorphism in classes"
   ]
  },
  {
   "cell_type": "code",
   "execution_count": 3,
   "metadata": {},
   "outputs": [
    {
     "name": "stdout",
     "output_type": "stream",
     "text": [
      "50,000 L\n",
      "red\n",
      "-------\n",
      "7 seater\n",
      "black\n",
      "-------\n"
     ]
    }
   ],
   "source": [
    "class Truck():\n",
    "    def capacity(self):\n",
    "        print('50,000 L')\n",
    "    def color(self):\n",
    "        print('red')\n",
    "class Car():\n",
    "    def capacity(self):\n",
    "        print('7 seater')\n",
    "    def color(self):\n",
    "        print('black')\n",
    "obj_truck = Truck()\n",
    "obj_car = Car()\n",
    "for vehicle in (obj_truck,obj_car):\n",
    "    vehicle.capacity()\n",
    "    vehicle.color()\n",
    "    print('-------')"
   ]
  },
  {
   "attachments": {},
   "cell_type": "markdown",
   "metadata": {},
   "source": [
    "polymorphism and inheritance"
   ]
  },
  {
   "cell_type": "code",
   "execution_count": 7,
   "metadata": {},
   "outputs": [
    {
     "name": "stdout",
     "output_type": "stream",
     "text": [
      "we have different vehicles\n",
      "they have variation\n",
      "------\n",
      "we have different vehicles\n",
      "they are slower\n",
      "------\n",
      "we have different vehicles\n",
      "they are faster\n",
      "------\n"
     ]
    }
   ],
   "source": [
    "class Vehicle():\n",
    "    def intro(self):\n",
    "        print('we have different vehicles')\n",
    "    def speed(self):\n",
    "        print('they have variation')\n",
    "class Truck(Vehicle):\n",
    "    def speed(self):\n",
    "        print('they are slower')\n",
    "class Car(Vehicle):\n",
    "    def speed(self):\n",
    "        print('they are faster')\n",
    "obj_veh = Vehicle()\n",
    "obj_truck = Truck()\n",
    "obj_car = Car()\n",
    "\n",
    "obj_veh.intro()\n",
    "obj_veh.speed()\n",
    "print('------')\n",
    "obj_truck.intro()\n",
    "obj_truck.speed()\n",
    "print('------')\n",
    "obj_car.intro()\n",
    "obj_car.speed()\n",
    "print('------')"
   ]
  }
 ],
 "metadata": {
  "kernelspec": {
   "display_name": "Python 3",
   "language": "python",
   "name": "python3"
  },
  "language_info": {
   "codemirror_mode": {
    "name": "ipython",
    "version": 3
   },
   "file_extension": ".py",
   "mimetype": "text/x-python",
   "name": "python",
   "nbconvert_exporter": "python",
   "pygments_lexer": "ipython3",
   "version": "3.10.5"
  },
  "orig_nbformat": 4
 },
 "nbformat": 4,
 "nbformat_minor": 2
}
