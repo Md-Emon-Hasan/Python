{
 "cells": [
  {
   "cell_type": "code",
   "execution_count": 7,
   "metadata": {},
   "outputs": [
    {
     "name": "stdout",
     "output_type": "stream",
     "text": [
      "REVERSED STRING IS :  olleH\n"
     ]
    }
   ],
   "source": [
    "def push(stack,i):\n",
    "    stack.append(i)\n",
    "def isEmpty(stack):\n",
    "    if(len(stack)==0):\n",
    "        return True\n",
    "    return False\n",
    "def pop(stack):\n",
    "    if isEmpty(stack):\n",
    "        return\n",
    "    return stack.pop()\n",
    "def reverse(str):\n",
    "    n = len(str)\n",
    "    stack = []\n",
    "    for i in range(n):\n",
    "        push(stack,str[i])\n",
    "    str = ''\n",
    "    for i in range(n):\n",
    "        str += pop(stack)\n",
    "    return str\n",
    "str = 'Hello'\n",
    "print('REVERSED STRING IS : ', reverse(str))"
   ]
  }
 ],
 "metadata": {
  "kernelspec": {
   "display_name": "Python 3",
   "language": "python",
   "name": "python3"
  },
  "language_info": {
   "codemirror_mode": {
    "name": "ipython",
    "version": 3
   },
   "file_extension": ".py",
   "mimetype": "text/x-python",
   "name": "python",
   "nbconvert_exporter": "python",
   "pygments_lexer": "ipython3",
   "version": "3.10.5"
  },
  "orig_nbformat": 4
 },
 "nbformat": 4,
 "nbformat_minor": 2
}
