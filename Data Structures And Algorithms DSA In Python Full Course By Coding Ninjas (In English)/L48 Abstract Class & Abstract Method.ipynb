{
 "cells": [
  {
   "attachments": {},
   "cell_type": "markdown",
   "metadata": {},
   "source": [
    "abstract class"
   ]
  },
  {
   "cell_type": "code",
   "execution_count": 2,
   "metadata": {},
   "outputs": [],
   "source": [
    "class Animal():\n",
    "    def do(self):\n",
    "        pass\n",
    "dog = Animal()\n",
    "dog.do()"
   ]
  },
  {
   "cell_type": "code",
   "execution_count": 4,
   "metadata": {},
   "outputs": [
    {
     "name": "stdout",
     "output_type": "stream",
     "text": [
      "braking\n"
     ]
    }
   ],
   "source": [
    "from abc import ABC, abstractmethod\n",
    "class Animal(ABC):\n",
    "    @abstractmethod\n",
    "    def do(self):\n",
    "        pass\n",
    "class Dog(Animal):\n",
    "    def do(self):\n",
    "        print('braking')\n",
    "dog = Dog()\n",
    "dog.do()"
   ]
  },
  {
   "cell_type": "code",
   "execution_count": null,
   "metadata": {},
   "outputs": [],
   "source": [
    "from abc import ABC, abstractmethod\n",
    "class Employee(ABC):\n",
    "    def __init__(self,first_name,last_name) -> None:\n",
    "        self.first_name = first_name\n",
    "        self.last_name = last_name\n",
    "    @property\n",
    "    def full_name(self):\n",
    "        return f'{self.first_name} {self.last_name}'\n",
    "    @abstractmethod\n",
    "    def calc_salary(self):\n",
    "        pass"
   ]
  },
  {
   "cell_type": "code",
   "execution_count": null,
   "metadata": {},
   "outputs": [],
   "source": [
    "from employee import Employee\n",
    "class FullTimeEmployee(Employee):\n",
    "    def __init__(self,first_name,last_name,hours,rate) -> None:\n",
    "        super().__init__(first_name,last_name)\n",
    "        self.hours = hours\n",
    "        self.rate = rate\n",
    "    def calc_salary(self):\n",
    "        return self.hours * self.rate"
   ]
  },
  {
   "cell_type": "code",
   "execution_count": null,
   "metadata": {},
   "outputs": [],
   "source": [
    "from employee import Employee\n",
    "from hourlyEmployee import HourlyEmployee\n",
    "from fullTimeEmployee import FullTimeEmployee\n",
    "from payoutProcess import PayoutProcess\n",
    "payout = PayoutProcess()\n",
    "payout.add(FullTimeEmployee('john','deep',7000))\n",
    "payout.add(FullTimeEmployee('sia','f',8000))\n",
    "payout.add(FullTimeEmployee('oven','lan',7500))\n",
    "payout.add(HourlyEmployee('shuriti','g',90,70))\n",
    "payout.add(HourlyEmployee('arjun','j',150,60))\n",
    "payout.show()"
   ]
  },
  {
   "cell_type": "code",
   "execution_count": null,
   "metadata": {},
   "outputs": [],
   "source": [
    "class PayoutProcess:\n",
    "    def __init__(self) -> None:\n",
    "        self.employee_list = []\n",
    "    def add(self,employee):\n",
    "        self.employee_list.append(employee)\n",
    "    def show(self):\n",
    "        for i in self.employee_list:\n",
    "            print(f'{i.full_name}\\t ${i.salary()}')"
   ]
  }
 ],
 "metadata": {
  "kernelspec": {
   "display_name": "Python 3",
   "language": "python",
   "name": "python3"
  },
  "language_info": {
   "codemirror_mode": {
    "name": "ipython",
    "version": 3
   },
   "file_extension": ".py",
   "mimetype": "text/x-python",
   "name": "python",
   "nbconvert_exporter": "python",
   "pygments_lexer": "ipython3",
   "version": "3.10.5"
  },
  "orig_nbformat": 4
 },
 "nbformat": 4,
 "nbformat_minor": 2
}
