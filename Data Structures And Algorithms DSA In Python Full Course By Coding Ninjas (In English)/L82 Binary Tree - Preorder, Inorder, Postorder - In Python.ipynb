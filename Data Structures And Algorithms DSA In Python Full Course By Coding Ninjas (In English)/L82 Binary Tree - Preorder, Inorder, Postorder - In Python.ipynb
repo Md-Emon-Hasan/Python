{
 "cells": [
  {
   "attachments": {},
   "cell_type": "markdown",
   "metadata": {},
   "source": [
    "__inorder__"
   ]
  },
  {
   "cell_type": "code",
   "execution_count": 1,
   "metadata": {},
   "outputs": [
    {
     "name": "stdout",
     "output_type": "stream",
     "text": [
      "15 20 25 30 40 \n"
     ]
    }
   ],
   "source": [
    "class node:\n",
    "    def __init__(self,key) -> None:\n",
    "        self.right = None\n",
    "        self.left = None\n",
    "        self.key = key\n",
    "def Inorder(root):\n",
    "    if root:\n",
    "        Inorder(root.left)\n",
    "        print(root.key,end=' ')\n",
    "        Inorder(root.right)\n",
    "root = node(30)\n",
    "root.left = node(20)\n",
    "root.right = node(40)\n",
    "root.left.left = node(15)\n",
    "root.left.right = node(25)\n",
    "Inorder(root)\n",
    "print()"
   ]
  },
  {
   "attachments": {},
   "cell_type": "markdown",
   "metadata": {},
   "source": [
    "__preorder__"
   ]
  },
  {
   "cell_type": "code",
   "execution_count": 2,
   "metadata": {},
   "outputs": [
    {
     "name": "stdout",
     "output_type": "stream",
     "text": [
      "30 20 15 25 40 \n"
     ]
    }
   ],
   "source": [
    "class node:\n",
    "    def __init__(self,key) -> None:\n",
    "        self.right = None\n",
    "        self.left = None\n",
    "        self.key = key\n",
    "def Preorder(root):\n",
    "    if root:\n",
    "        print(root.key,end=' ')\n",
    "        Preorder(root.left)\n",
    "        Preorder(root.right)\n",
    "root = node(30)\n",
    "root.left = node(20)\n",
    "root.right = node(40)\n",
    "root.left.left = node(15)\n",
    "root.left.right = node(25)\n",
    "Preorder(root)\n",
    "print()"
   ]
  }
 ],
 "metadata": {
  "kernelspec": {
   "display_name": "Python 3",
   "language": "python",
   "name": "python3"
  },
  "language_info": {
   "codemirror_mode": {
    "name": "ipython",
    "version": 3
   },
   "file_extension": ".py",
   "mimetype": "text/x-python",
   "name": "python",
   "nbconvert_exporter": "python",
   "pygments_lexer": "ipython3",
   "version": "3.10.5"
  },
  "orig_nbformat": 4
 },
 "nbformat": 4,
 "nbformat_minor": 2
}
