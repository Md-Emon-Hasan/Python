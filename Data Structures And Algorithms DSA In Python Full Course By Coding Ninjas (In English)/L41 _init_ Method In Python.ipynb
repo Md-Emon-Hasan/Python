{
 "cells": [
  {
   "attachments": {},
   "cell_type": "markdown",
   "metadata": {},
   "source": [
    "constructor"
   ]
  },
  {
   "cell_type": "code",
   "execution_count": null,
   "metadata": {},
   "outputs": [],
   "source": [
    "class Dog:\n",
    "    def __init__(self) -> None: # initialzition\n",
    "        pass"
   ]
  },
  {
   "cell_type": "code",
   "execution_count": 1,
   "metadata": {},
   "outputs": [
    {
     "name": "stdout",
     "output_type": "stream",
     "text": [
      "bread of dog1 x\n",
      "color of dog1 brown\n"
     ]
    }
   ],
   "source": [
    "class Dog:\n",
    "    def __init__(self,breed,color) -> None: #initilazation\n",
    "        self.breed = breed\n",
    "        self.color = color\n",
    "dog1 = Dog('x','brown')\n",
    "print('bread of dog1', end=' ')\n",
    "print(dog1.breed)\n",
    "print('color of dog1', end=' ')\n",
    "print(dog1.color)"
   ]
  },
  {
   "attachments": {},
   "cell_type": "markdown",
   "metadata": {},
   "source": [
    "default init"
   ]
  },
  {
   "cell_type": "code",
   "execution_count": 2,
   "metadata": {},
   "outputs": [
    {
     "name": "stdout",
     "output_type": "stream",
     "text": [
      "bread of dog1 x\n",
      "color of dog1 brown\n",
      "bread of dog2 y\n",
      "color of dog2 black\n"
     ]
    }
   ],
   "source": [
    "class Dog:\n",
    "    def __init__(self,breed='y',color='black') -> None: #initilazation\n",
    "        self.breed = breed\n",
    "        self.color = color\n",
    "dog1 = Dog('x','brown')\n",
    "dog2 = Dog()\n",
    "print('bread of dog1', end=' ')\n",
    "print(dog1.breed)\n",
    "print('color of dog1', end=' ')\n",
    "print(dog1.color)\n",
    "\n",
    "print('bread of dog2', end=' ')\n",
    "print(dog2.breed)\n",
    "print('color of dog2', end=' ')\n",
    "print(dog2.color)"
   ]
  },
  {
   "cell_type": "code",
   "execution_count": 3,
   "metadata": {},
   "outputs": [
    {
     "name": "stdout",
     "output_type": "stream",
     "text": [
      "this dog is a Fox terrier and his eyes are brown\n"
     ]
    }
   ],
   "source": [
    "class Dog:\n",
    "    def __init__(self,dogBreed,dogEyeColor) -> None:\n",
    "        self.breed = dogBreed\n",
    "        self.eyeColor = dogEyeColor\n",
    "tomita = Dog('Fox terrier','brown')\n",
    "print('this dog is a',tomita.breed,'and his eyes are',tomita.eyeColor)"
   ]
  },
  {
   "cell_type": "code",
   "execution_count": null,
   "metadata": {},
   "outputs": [],
   "source": [
    "class Dog:\n",
    "    def __init__(self,dogBreed='German Shepherd',dogEyeColor='brown') -> None:\n",
    "        self.breed = dogBreed\n",
    "        self.eyeColor = dogEyeColor\n",
    "tomita = Dog()\n",
    "print('this dog is a',tomita.breed,'and his eyes are',tomita.eyeColor)"
   ]
  }
 ],
 "metadata": {
  "kernelspec": {
   "display_name": "Python 3",
   "language": "python",
   "name": "python3"
  },
  "language_info": {
   "codemirror_mode": {
    "name": "ipython",
    "version": 3
   },
   "file_extension": ".py",
   "mimetype": "text/x-python",
   "name": "python",
   "nbconvert_exporter": "python",
   "pygments_lexer": "ipython3",
   "version": "3.10.5"
  },
  "orig_nbformat": 4
 },
 "nbformat": 4,
 "nbformat_minor": 2
}
