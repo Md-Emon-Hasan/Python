{
 "cells": [
  {
   "attachments": {},
   "cell_type": "markdown",
   "metadata": {},
   "source": [
    "implement heapy algorithims in python"
   ]
  },
  {
   "cell_type": "code",
   "execution_count": 1,
   "metadata": {},
   "outputs": [
    {
     "name": "stdout",
     "output_type": "stream",
     "text": [
      "[1, 2, 4, 3, 7, 9, 5, 8]\n"
     ]
    }
   ],
   "source": [
    "def heapify(arr,n,i):\n",
    "    smallest = i\n",
    "    l = 2*i+1\n",
    "    r = 2*i+2\n",
    "    if l < n and arr[smallest] > arr[l]:\n",
    "        smallest = l\n",
    "    if r < n and arr[smallest] > arr[r]:\n",
    "        smallest = r\n",
    "    if smallest != i:\n",
    "        arr[i],arr[smallest] = arr[smallest],arr[i]\n",
    "        heapify(arr,n,smallest)\n",
    "def buildHeap(arr):\n",
    "    n = len(arr)\n",
    "    for i in range(n//1 - 1, -1, -1):\n",
    "        heapify(arr,n,i)\n",
    "    print(arr)\n",
    "arr = [1,8,5,3,7,9,4,2]\n",
    "buildHeap(arr)"
   ]
  },
  {
   "attachments": {},
   "cell_type": "markdown",
   "metadata": {},
   "source": [
    "deletening element from a heap"
   ]
  },
  {
   "cell_type": "code",
   "execution_count": 2,
   "metadata": {},
   "outputs": [
    {
     "name": "stdout",
     "output_type": "stream",
     "text": [
      "[1, 2, 4, 3, 7, 9, 5, 8]\n",
      "Root Element is : 5\n",
      "Root Element is : 5\n",
      "Root Element is : 5\n",
      "Root Element is : 5\n",
      "Root Element is : 5\n",
      "Root Element is : 5\n",
      "Root Element is : 5\n",
      "Root Element is : 5\n",
      "[1, 3, 4, 8, 7, 9, 5, 2]\n"
     ]
    }
   ],
   "source": [
    "def heapify(arr,n,i):\n",
    "    smallest = i\n",
    "    l = 2*i+1\n",
    "    r = 2*i+2\n",
    "    if l < n and arr[smallest] > arr[l]:\n",
    "        smallest = l\n",
    "    if r < n and arr[smallest] > arr[r]:\n",
    "        smallest = r\n",
    "    if smallest != i:\n",
    "        arr[i],arr[smallest] = arr[smallest],arr[i]\n",
    "        heapify(arr,n,smallest)\n",
    "def buildHeap(arr):\n",
    "    n = len(arr)\n",
    "    for i in range(n//1 - 1, -1, -1):\n",
    "        heapify(arr,n,i)\n",
    "    print(arr)\n",
    "def deleteRoot(arr,n):\n",
    "    n = len(arr)\n",
    "    arr[0],arr[n-1] = arr[n - 1],arr[0]\n",
    "    n = n-1\n",
    "    heapify(arr,n,0)\n",
    "    print(f'Root Element is : {arr[n-1]}')\n",
    "def heapSort(arr):\n",
    "    n = len(arr)\n",
    "    for i in range(n,0,-1):\n",
    "        deleteRoot(arr,i)\n",
    "    print(arr)\n",
    "arr = [1,8,5,3,7,9,4,2]\n",
    "buildHeap(arr)\n",
    "heapSort(arr)"
   ]
  },
  {
   "cell_type": "code",
   "execution_count": 3,
   "metadata": {},
   "outputs": [
    {
     "name": "stdout",
     "output_type": "stream",
     "text": [
      "1\n",
      "2\n",
      "3\n",
      "False\n",
      "False\n"
     ]
    }
   ],
   "source": [
    "from queue import PriorityQueue\n",
    "q = PriorityQueue()\n",
    "# insert by using put funciton\n",
    "q.put(2)\n",
    "q.put(3)\n",
    "q.put(4)\n",
    "q.put(5)\n",
    "q.put(1)\n",
    "# remove the values -> ptint the top element\n",
    "print(q.get())\n",
    "print(q.get())\n",
    "# check the size of queue itself\n",
    "print(q.qsize())\n",
    "# check for empty\n",
    "print(q.empty())\n",
    "# check for full\n",
    "print(q.full())"
   ]
  }
 ],
 "metadata": {
  "kernelspec": {
   "display_name": "Python 3",
   "language": "python",
   "name": "python3"
  },
  "language_info": {
   "codemirror_mode": {
    "name": "ipython",
    "version": 3
   },
   "file_extension": ".py",
   "mimetype": "text/x-python",
   "name": "python",
   "nbconvert_exporter": "python",
   "pygments_lexer": "ipython3",
   "version": "3.10.5"
  },
  "orig_nbformat": 4
 },
 "nbformat": 4,
 "nbformat_minor": 2
}
